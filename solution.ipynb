{
 "cells": [
  {
   "cell_type": "code",
   "execution_count": null,
   "metadata": {},
   "outputs": [],
   "source": [
    "! pip install -r requirements.txt"
   ]
  },
  {
   "cell_type": "markdown",
   "metadata": {},
   "source": [
    "# Importando librerias"
   ]
  },
  {
   "cell_type": "code",
   "execution_count": 1,
   "metadata": {},
   "outputs": [],
   "source": [
    "import pandas as pd\n",
    "\n",
    "import warnings\n",
    "warnings.filterwarnings('ignore')\n",
    "\n",
    "%matplotlib inline"
   ]
  },
  {
   "cell_type": "markdown",
   "metadata": {},
   "source": [
    "# Desafio"
   ]
  },
  {
   "cell_type": "code",
   "execution_count": 23,
   "metadata": {},
   "outputs": [
    {
     "data": {
      "text/html": [
       "<div>\n",
       "<style scoped>\n",
       "    .dataframe tbody tr th:only-of-type {\n",
       "        vertical-align: middle;\n",
       "    }\n",
       "\n",
       "    .dataframe tbody tr th {\n",
       "        vertical-align: top;\n",
       "    }\n",
       "\n",
       "    .dataframe thead th {\n",
       "        text-align: right;\n",
       "    }\n",
       "</style>\n",
       "<table border=\"1\" class=\"dataframe\">\n",
       "  <thead>\n",
       "    <tr style=\"text-align: right;\">\n",
       "      <th></th>\n",
       "      <th>Fecha-I</th>\n",
       "      <th>Vlo-I</th>\n",
       "      <th>Ori-I</th>\n",
       "      <th>Des-I</th>\n",
       "      <th>Emp-I</th>\n",
       "      <th>Fecha-O</th>\n",
       "      <th>Vlo-O</th>\n",
       "      <th>Ori-O</th>\n",
       "      <th>Des-O</th>\n",
       "      <th>Emp-O</th>\n",
       "      <th>DIA</th>\n",
       "      <th>MES</th>\n",
       "      <th>AÑO</th>\n",
       "      <th>DIANOM</th>\n",
       "      <th>TIPOVUELO</th>\n",
       "      <th>OPERA</th>\n",
       "      <th>SIGLAORI</th>\n",
       "      <th>SIGLADES</th>\n",
       "    </tr>\n",
       "  </thead>\n",
       "  <tbody>\n",
       "    <tr>\n",
       "      <th>0</th>\n",
       "      <td>2017-01-01 23:30:00</td>\n",
       "      <td>226</td>\n",
       "      <td>SCEL</td>\n",
       "      <td>KMIA</td>\n",
       "      <td>AAL</td>\n",
       "      <td>2017-01-01 23:33:00</td>\n",
       "      <td>226</td>\n",
       "      <td>SCEL</td>\n",
       "      <td>KMIA</td>\n",
       "      <td>AAL</td>\n",
       "      <td>1</td>\n",
       "      <td>1</td>\n",
       "      <td>2017</td>\n",
       "      <td>Domingo</td>\n",
       "      <td>I</td>\n",
       "      <td>American Airlines</td>\n",
       "      <td>Santiago</td>\n",
       "      <td>Miami</td>\n",
       "    </tr>\n",
       "    <tr>\n",
       "      <th>1</th>\n",
       "      <td>2017-01-02 23:30:00</td>\n",
       "      <td>226</td>\n",
       "      <td>SCEL</td>\n",
       "      <td>KMIA</td>\n",
       "      <td>AAL</td>\n",
       "      <td>2017-01-02 23:39:00</td>\n",
       "      <td>226</td>\n",
       "      <td>SCEL</td>\n",
       "      <td>KMIA</td>\n",
       "      <td>AAL</td>\n",
       "      <td>2</td>\n",
       "      <td>1</td>\n",
       "      <td>2017</td>\n",
       "      <td>Lunes</td>\n",
       "      <td>I</td>\n",
       "      <td>American Airlines</td>\n",
       "      <td>Santiago</td>\n",
       "      <td>Miami</td>\n",
       "    </tr>\n",
       "    <tr>\n",
       "      <th>2</th>\n",
       "      <td>2017-01-03 23:30:00</td>\n",
       "      <td>226</td>\n",
       "      <td>SCEL</td>\n",
       "      <td>KMIA</td>\n",
       "      <td>AAL</td>\n",
       "      <td>2017-01-03 23:39:00</td>\n",
       "      <td>226</td>\n",
       "      <td>SCEL</td>\n",
       "      <td>KMIA</td>\n",
       "      <td>AAL</td>\n",
       "      <td>3</td>\n",
       "      <td>1</td>\n",
       "      <td>2017</td>\n",
       "      <td>Martes</td>\n",
       "      <td>I</td>\n",
       "      <td>American Airlines</td>\n",
       "      <td>Santiago</td>\n",
       "      <td>Miami</td>\n",
       "    </tr>\n",
       "    <tr>\n",
       "      <th>3</th>\n",
       "      <td>2017-01-04 23:30:00</td>\n",
       "      <td>226</td>\n",
       "      <td>SCEL</td>\n",
       "      <td>KMIA</td>\n",
       "      <td>AAL</td>\n",
       "      <td>2017-01-04 23:33:00</td>\n",
       "      <td>226</td>\n",
       "      <td>SCEL</td>\n",
       "      <td>KMIA</td>\n",
       "      <td>AAL</td>\n",
       "      <td>4</td>\n",
       "      <td>1</td>\n",
       "      <td>2017</td>\n",
       "      <td>Miercoles</td>\n",
       "      <td>I</td>\n",
       "      <td>American Airlines</td>\n",
       "      <td>Santiago</td>\n",
       "      <td>Miami</td>\n",
       "    </tr>\n",
       "    <tr>\n",
       "      <th>4</th>\n",
       "      <td>2017-01-05 23:30:00</td>\n",
       "      <td>226</td>\n",
       "      <td>SCEL</td>\n",
       "      <td>KMIA</td>\n",
       "      <td>AAL</td>\n",
       "      <td>2017-01-05 23:28:00</td>\n",
       "      <td>226</td>\n",
       "      <td>SCEL</td>\n",
       "      <td>KMIA</td>\n",
       "      <td>AAL</td>\n",
       "      <td>5</td>\n",
       "      <td>1</td>\n",
       "      <td>2017</td>\n",
       "      <td>Jueves</td>\n",
       "      <td>I</td>\n",
       "      <td>American Airlines</td>\n",
       "      <td>Santiago</td>\n",
       "      <td>Miami</td>\n",
       "    </tr>\n",
       "  </tbody>\n",
       "</table>\n",
       "</div>"
      ],
      "text/plain": [
       "               Fecha-I Vlo-I Ori-I Des-I Emp-I              Fecha-O Vlo-O  \\\n",
       "0  2017-01-01 23:30:00   226  SCEL  KMIA   AAL  2017-01-01 23:33:00   226   \n",
       "1  2017-01-02 23:30:00   226  SCEL  KMIA   AAL  2017-01-02 23:39:00   226   \n",
       "2  2017-01-03 23:30:00   226  SCEL  KMIA   AAL  2017-01-03 23:39:00   226   \n",
       "3  2017-01-04 23:30:00   226  SCEL  KMIA   AAL  2017-01-04 23:33:00   226   \n",
       "4  2017-01-05 23:30:00   226  SCEL  KMIA   AAL  2017-01-05 23:28:00   226   \n",
       "\n",
       "  Ori-O Des-O Emp-O DIA MES   AÑO     DIANOM TIPOVUELO              OPERA  \\\n",
       "0  SCEL  KMIA   AAL   1   1  2017    Domingo         I  American Airlines   \n",
       "1  SCEL  KMIA   AAL   2   1  2017      Lunes         I  American Airlines   \n",
       "2  SCEL  KMIA   AAL   3   1  2017     Martes         I  American Airlines   \n",
       "3  SCEL  KMIA   AAL   4   1  2017  Miercoles         I  American Airlines   \n",
       "4  SCEL  KMIA   AAL   5   1  2017     Jueves         I  American Airlines   \n",
       "\n",
       "   SIGLAORI SIGLADES  \n",
       "0  Santiago    Miami  \n",
       "1  Santiago    Miami  \n",
       "2  Santiago    Miami  \n",
       "3  Santiago    Miami  \n",
       "4  Santiago    Miami  "
      ]
     },
     "execution_count": 23,
     "metadata": {},
     "output_type": "execute_result"
    }
   ],
   "source": [
    "# Importando datos\n",
    "'''\n",
    "Cuando comencé a trabajar con el archivo 'dataset_SCL.csv' proporcionado y evidencié que\n",
    "algunas lineas contenían el caracter \", sencillo o triple. Esto crea un error en esas lineas\n",
    "al ser leido como pandas.DataFrame. Por ejemplo, las lineas 17.059 y 17.060 vienen con ese\n",
    "problema.\n",
    "\n",
    "Decidí elimnar esas lineas, en la lectura de los datos usando, el comment='\"'.\n",
    "El archivo original tiene 68.206 y quedó con 68.167.\n",
    "Se eliminaron solamente 39 lineas, un tamaño infimo de datos para el tamaño original.\n",
    "\n",
    "Usé dtype='object' porque siendo un desafio de clasificación, y dando una ojeada inicial \n",
    "a los datos, establezco que son pocos los tipos de datos diferentes a object.\n",
    "\n",
    "Serian datetime solamente 'Fecha-I' y 'Fecha-O'.\n",
    "Serian solamente int 'DIA', 'MES' y 'AÑO'\n",
    "'''\n",
    "\n",
    "df_initial = pd.read_csv('dataset_SCL.csv', dtype='object', comment='\"', encoding='utf-8')\n",
    "df_initial.head()"
   ]
  },
  {
   "cell_type": "code",
   "execution_count": 25,
   "metadata": {},
   "outputs": [
    {
     "name": "stdout",
     "output_type": "stream",
     "text": [
      "<class 'pandas.core.frame.DataFrame'>\n",
      "RangeIndex: 68167 entries, 0 to 68166\n",
      "Data columns (total 18 columns):\n",
      " #   Column     Non-Null Count  Dtype \n",
      "---  ------     --------------  ----- \n",
      " 0   Fecha-I    68167 non-null  object\n",
      " 1   Vlo-I      68167 non-null  object\n",
      " 2   Ori-I      68167 non-null  object\n",
      " 3   Des-I      68167 non-null  object\n",
      " 4   Emp-I      68167 non-null  object\n",
      " 5   Fecha-O    68167 non-null  object\n",
      " 6   Vlo-O      68166 non-null  object\n",
      " 7   Ori-O      68167 non-null  object\n",
      " 8   Des-O      68167 non-null  object\n",
      " 9   Emp-O      68167 non-null  object\n",
      " 10  DIA        68167 non-null  object\n",
      " 11  MES        68167 non-null  object\n",
      " 12  AÑO        68167 non-null  object\n",
      " 13  DIANOM     68167 non-null  object\n",
      " 14  TIPOVUELO  68167 non-null  object\n",
      " 15  OPERA      68167 non-null  object\n",
      " 16  SIGLAORI   68167 non-null  object\n",
      " 17  SIGLADES   68167 non-null  object\n",
      "dtypes: object(18)\n",
      "memory usage: 9.4+ MB\n"
     ]
    }
   ],
   "source": [
    "# Comprobando que todas las columnas quedaron tipo object\n",
    "df_initial.info()"
   ]
  },
  {
   "cell_type": "markdown",
   "metadata": {},
   "source": [
    "## Preparación y limpieza de los datos"
   ]
  },
  {
   "cell_type": "markdown",
   "metadata": {},
   "source": [
    "### Arreglando problemas de tipo de datos"
   ]
  },
  {
   "cell_type": "code",
   "execution_count": 26,
   "metadata": {},
   "outputs": [
    {
     "name": "stdout",
     "output_type": "stream",
     "text": [
      "<class 'pandas.core.frame.DataFrame'>\n",
      "RangeIndex: 68167 entries, 0 to 68166\n",
      "Data columns (total 18 columns):\n",
      " #   Column     Non-Null Count  Dtype         \n",
      "---  ------     --------------  -----         \n",
      " 0   Fecha-I    68167 non-null  datetime64[ns]\n",
      " 1   Vlo-I      68167 non-null  object        \n",
      " 2   Ori-I      68167 non-null  object        \n",
      " 3   Des-I      68167 non-null  object        \n",
      " 4   Emp-I      68167 non-null  object        \n",
      " 5   Fecha-O    68167 non-null  datetime64[ns]\n",
      " 6   Vlo-O      68166 non-null  object        \n",
      " 7   Ori-O      68167 non-null  object        \n",
      " 8   Des-O      68167 non-null  object        \n",
      " 9   Emp-O      68167 non-null  object        \n",
      " 10  DIA        68167 non-null  object        \n",
      " 11  MES        68167 non-null  object        \n",
      " 12  AÑO        68167 non-null  object        \n",
      " 13  DIANOM     68167 non-null  object        \n",
      " 14  TIPOVUELO  68167 non-null  object        \n",
      " 15  OPERA      68167 non-null  object        \n",
      " 16  SIGLAORI   68167 non-null  object        \n",
      " 17  SIGLADES   68167 non-null  object        \n",
      "dtypes: datetime64[ns](2), object(16)\n",
      "memory usage: 9.4+ MB\n"
     ]
    }
   ],
   "source": [
    "# Transformando 'fechas' a datetime\n",
    "df_initial['Fecha-I'] =  pd.to_datetime(df_initial['Fecha-I'], format='%Y-%m-%d %H:%M:%S')\n",
    "df_initial['Fecha-O'] =  pd.to_datetime(df_initial['Fecha-O'], format='%Y-%m-%d %H:%M:%S')\n",
    "df_initial.info()"
   ]
  },
  {
   "cell_type": "code",
   "execution_count": 27,
   "metadata": {},
   "outputs": [
    {
     "name": "stdout",
     "output_type": "stream",
     "text": [
      "<class 'pandas.core.frame.DataFrame'>\n",
      "RangeIndex: 68167 entries, 0 to 68166\n",
      "Data columns (total 18 columns):\n",
      " #   Column     Non-Null Count  Dtype         \n",
      "---  ------     --------------  -----         \n",
      " 0   Fecha-I    68167 non-null  datetime64[ns]\n",
      " 1   Vlo-I      68167 non-null  object        \n",
      " 2   Ori-I      68167 non-null  object        \n",
      " 3   Des-I      68167 non-null  object        \n",
      " 4   Emp-I      68167 non-null  object        \n",
      " 5   Fecha-O    68167 non-null  datetime64[ns]\n",
      " 6   Vlo-O      68166 non-null  object        \n",
      " 7   Ori-O      68167 non-null  object        \n",
      " 8   Des-O      68167 non-null  object        \n",
      " 9   Emp-O      68167 non-null  object        \n",
      " 10  DIA        68167 non-null  int32         \n",
      " 11  MES        68167 non-null  int32         \n",
      " 12  AÑO        68167 non-null  int32         \n",
      " 13  DIANOM     68167 non-null  object        \n",
      " 14  TIPOVUELO  68167 non-null  object        \n",
      " 15  OPERA      68167 non-null  object        \n",
      " 16  SIGLAORI   68167 non-null  object        \n",
      " 17  SIGLADES   68167 non-null  object        \n",
      "dtypes: datetime64[ns](2), int32(3), object(13)\n",
      "memory usage: 8.6+ MB\n"
     ]
    }
   ],
   "source": [
    "# Transformando 'DIA', 'MES' y 'AÑO', para tipo int\n",
    "df_initial = df_initial.astype({'DIA': 'int32', 'MES': 'int32', 'AÑO': 'int32'})\n",
    "df_initial.info()"
   ]
  },
  {
   "cell_type": "markdown",
   "metadata": {},
   "source": [
    "### Valores nulos"
   ]
  },
  {
   "cell_type": "code",
   "execution_count": 28,
   "metadata": {},
   "outputs": [
    {
     "data": {
      "text/plain": [
       "1"
      ]
     },
     "execution_count": 28,
     "metadata": {},
     "output_type": "execute_result"
    }
   ],
   "source": [
    "# Valores nulos?\n",
    "df_initial.isnull().sum().sum()"
   ]
  },
  {
   "cell_type": "code",
   "execution_count": 29,
   "metadata": {},
   "outputs": [
    {
     "data": {
      "text/html": [
       "<div>\n",
       "<style scoped>\n",
       "    .dataframe tbody tr th:only-of-type {\n",
       "        vertical-align: middle;\n",
       "    }\n",
       "\n",
       "    .dataframe tbody tr th {\n",
       "        vertical-align: top;\n",
       "    }\n",
       "\n",
       "    .dataframe thead th {\n",
       "        text-align: right;\n",
       "    }\n",
       "</style>\n",
       "<table border=\"1\" class=\"dataframe\">\n",
       "  <thead>\n",
       "    <tr style=\"text-align: right;\">\n",
       "      <th></th>\n",
       "      <th>Fecha-I</th>\n",
       "      <th>Vlo-I</th>\n",
       "      <th>Ori-I</th>\n",
       "      <th>Des-I</th>\n",
       "      <th>Emp-I</th>\n",
       "      <th>Fecha-O</th>\n",
       "      <th>Vlo-O</th>\n",
       "      <th>Ori-O</th>\n",
       "      <th>Des-O</th>\n",
       "      <th>Emp-O</th>\n",
       "      <th>DIA</th>\n",
       "      <th>MES</th>\n",
       "      <th>AÑO</th>\n",
       "      <th>DIANOM</th>\n",
       "      <th>TIPOVUELO</th>\n",
       "      <th>OPERA</th>\n",
       "      <th>SIGLAORI</th>\n",
       "      <th>SIGLADES</th>\n",
       "    </tr>\n",
       "  </thead>\n",
       "  <tbody>\n",
       "    <tr>\n",
       "      <th>6068</th>\n",
       "      <td>2017-01-19 11:00:00</td>\n",
       "      <td>200</td>\n",
       "      <td>SCEL</td>\n",
       "      <td>SPJC</td>\n",
       "      <td>LAW</td>\n",
       "      <td>2017-01-19 11:03:00</td>\n",
       "      <td>NaN</td>\n",
       "      <td>SCEL</td>\n",
       "      <td>SPJC</td>\n",
       "      <td>56R</td>\n",
       "      <td>19</td>\n",
       "      <td>1</td>\n",
       "      <td>2017</td>\n",
       "      <td>Jueves</td>\n",
       "      <td>I</td>\n",
       "      <td>Latin American Wings</td>\n",
       "      <td>Santiago</td>\n",
       "      <td>Lima</td>\n",
       "    </tr>\n",
       "  </tbody>\n",
       "</table>\n",
       "</div>"
      ],
      "text/plain": [
       "                 Fecha-I Vlo-I Ori-I Des-I Emp-I             Fecha-O Vlo-O  \\\n",
       "6068 2017-01-19 11:00:00   200  SCEL  SPJC   LAW 2017-01-19 11:03:00   NaN   \n",
       "\n",
       "     Ori-O Des-O Emp-O  DIA  MES   AÑO  DIANOM TIPOVUELO  \\\n",
       "6068  SCEL  SPJC   56R   19    1  2017  Jueves         I   \n",
       "\n",
       "                     OPERA  SIGLAORI SIGLADES  \n",
       "6068  Latin American Wings  Santiago     Lima  "
      ]
     },
     "execution_count": 29,
     "metadata": {},
     "output_type": "execute_result"
    }
   ],
   "source": [
    "# Fila del valor nulo?\n",
    "row_nan = df_initial[df_initial.isnull().any(1)]\n",
    "row_nan "
   ]
  },
  {
   "cell_type": "code",
   "execution_count": 31,
   "metadata": {},
   "outputs": [],
   "source": [
    "# El valor nan está en la columna 'Vlo-O'\n",
    "# Colocaré el mismo valor de 'Vlo-I'\n",
    "df_initial.loc[6068,'Vlo-O']='200'"
   ]
  },
  {
   "cell_type": "code",
   "execution_count": 32,
   "metadata": {},
   "outputs": [
    {
     "data": {
      "text/plain": [
       "0"
      ]
     },
     "execution_count": 32,
     "metadata": {},
     "output_type": "execute_result"
    }
   ],
   "source": [
    "# Rectificando valores nulos?\n",
    "df_initial.isnull().sum().sum()\n",
    "\n",
    "# No hay valores nulos"
   ]
  },
  {
   "cell_type": "markdown",
   "metadata": {},
   "source": [
    "### Datos duplicados"
   ]
  },
  {
   "cell_type": "code",
   "execution_count": 33,
   "metadata": {},
   "outputs": [
    {
     "data": {
      "text/plain": [
       "False"
      ]
     },
     "execution_count": 33,
     "metadata": {},
     "output_type": "execute_result"
    }
   ],
   "source": [
    "# Existen datos duplicados?\n",
    "df_initial.duplicated().any()\n",
    "\n",
    "# No hay valores duplicados"
   ]
  },
  {
   "cell_type": "markdown",
   "metadata": {},
   "source": [
    "### Concordancia de la información"
   ]
  },
  {
   "cell_type": "code",
   "execution_count": 34,
   "metadata": {},
   "outputs": [
    {
     "data": {
      "text/plain": [
       "Fecha-I      53232\n",
       "Vlo-I          581\n",
       "Ori-I            1\n",
       "Des-I           61\n",
       "Emp-I           30\n",
       "Fecha-O      62742\n",
       "Vlo-O          857\n",
       "Ori-O            1\n",
       "Des-O           60\n",
       "Emp-O           32\n",
       "DIA             31\n",
       "MES             12\n",
       "AÑO              2\n",
       "DIANOM           7\n",
       "TIPOVUELO        2\n",
       "OPERA           23\n",
       "SIGLAORI         1\n",
       "SIGLADES        59\n",
       "dtype: int64"
      ]
     },
     "execution_count": 34,
     "metadata": {},
     "output_type": "execute_result"
    }
   ],
   "source": [
    "# La información contenida tiene concordar con lo que significa\n",
    "# Por ejemplo, encontrar una ciudad en tipo de vuelo\n",
    "\n",
    "# Para esto calculó la cantidad de datos unicos por columna\n",
    "\n",
    "df_initial.nunique()"
   ]
  },
  {
   "cell_type": "code",
   "execution_count": 35,
   "metadata": {},
   "outputs": [],
   "source": [
    "# Tres columnas tienen valores unicos y se pueden eliminar\n",
    "# Estas tres columnas se refieren al origen de los vuelos\n",
    "# Todos los vuelos se originan desde Santiago\n",
    "\n",
    "df_initial.drop(['Ori-I', 'Ori-O', 'SIGLAORI'], axis=1, inplace=True)"
   ]
  },
  {
   "cell_type": "code",
   "execution_count": 36,
   "metadata": {},
   "outputs": [
    {
     "data": {
      "text/plain": [
       "2017    68165\n",
       "2018        2\n",
       "Name: AÑO, dtype: int64"
      ]
     },
     "execution_count": 36,
     "metadata": {},
     "output_type": "execute_result"
    }
   ],
   "source": [
    "# Hay dos valores en 'AÑO', pero parece que las 'fechas' son solo de 2017\n",
    "# Comprobar los años de las fechas\n",
    "df_initial['AÑO'].value_counts()"
   ]
  },
  {
   "cell_type": "code",
   "execution_count": 37,
   "metadata": {},
   "outputs": [
    {
     "data": {
      "text/html": [
       "<div>\n",
       "<style scoped>\n",
       "    .dataframe tbody tr th:only-of-type {\n",
       "        vertical-align: middle;\n",
       "    }\n",
       "\n",
       "    .dataframe tbody tr th {\n",
       "        vertical-align: top;\n",
       "    }\n",
       "\n",
       "    .dataframe thead th {\n",
       "        text-align: right;\n",
       "    }\n",
       "</style>\n",
       "<table border=\"1\" class=\"dataframe\">\n",
       "  <thead>\n",
       "    <tr style=\"text-align: right;\">\n",
       "      <th></th>\n",
       "      <th>Fecha-I</th>\n",
       "      <th>Vlo-I</th>\n",
       "      <th>Des-I</th>\n",
       "      <th>Emp-I</th>\n",
       "      <th>Fecha-O</th>\n",
       "      <th>Vlo-O</th>\n",
       "      <th>Des-O</th>\n",
       "      <th>Emp-O</th>\n",
       "      <th>DIA</th>\n",
       "      <th>MES</th>\n",
       "      <th>AÑO</th>\n",
       "      <th>DIANOM</th>\n",
       "      <th>TIPOVUELO</th>\n",
       "      <th>OPERA</th>\n",
       "      <th>SIGLADES</th>\n",
       "    </tr>\n",
       "  </thead>\n",
       "  <tbody>\n",
       "    <tr>\n",
       "      <th>66891</th>\n",
       "      <td>2017-12-31 23:55:00</td>\n",
       "      <td>602</td>\n",
       "      <td>KLAX</td>\n",
       "      <td>LAN</td>\n",
       "      <td>2018-01-01 00:02:00</td>\n",
       "      <td>602.0</td>\n",
       "      <td>KLAX</td>\n",
       "      <td>LAN</td>\n",
       "      <td>1</td>\n",
       "      <td>1</td>\n",
       "      <td>2018</td>\n",
       "      <td>Lunes</td>\n",
       "      <td>I</td>\n",
       "      <td>Grupo LATAM</td>\n",
       "      <td>Los Angeles</td>\n",
       "    </tr>\n",
       "    <tr>\n",
       "      <th>66920</th>\n",
       "      <td>2017-12-31 23:40:00</td>\n",
       "      <td>622</td>\n",
       "      <td>MMMX</td>\n",
       "      <td>LAN</td>\n",
       "      <td>2018-01-01 00:12:00</td>\n",
       "      <td>622.0</td>\n",
       "      <td>MMMX</td>\n",
       "      <td>LAN</td>\n",
       "      <td>1</td>\n",
       "      <td>1</td>\n",
       "      <td>2018</td>\n",
       "      <td>Lunes</td>\n",
       "      <td>I</td>\n",
       "      <td>Grupo LATAM</td>\n",
       "      <td>Ciudad de Mexico</td>\n",
       "    </tr>\n",
       "  </tbody>\n",
       "</table>\n",
       "</div>"
      ],
      "text/plain": [
       "                  Fecha-I Vlo-I Des-I Emp-I             Fecha-O  Vlo-O Des-O  \\\n",
       "66891 2017-12-31 23:55:00   602  KLAX   LAN 2018-01-01 00:02:00  602.0  KLAX   \n",
       "66920 2017-12-31 23:40:00   622  MMMX   LAN 2018-01-01 00:12:00  622.0  MMMX   \n",
       "\n",
       "      Emp-O  DIA  MES   AÑO DIANOM TIPOVUELO        OPERA          SIGLADES  \n",
       "66891   LAN    1    1  2018  Lunes         I  Grupo LATAM       Los Angeles  \n",
       "66920   LAN    1    1  2018  Lunes         I  Grupo LATAM  Ciudad de Mexico  "
      ]
     },
     "execution_count": 37,
     "metadata": {},
     "output_type": "execute_result"
    }
   ],
   "source": [
    "# Hay solo dos fechas con 'AÑO' de 2018\n",
    "# Se puede comprobar manualmente\n",
    "\n",
    "row_2018 = df_initial[df_initial['AÑO'] == 2018]\n",
    "row_2018 "
   ]
  },
  {
   "cell_type": "code",
   "execution_count": 38,
   "metadata": {},
   "outputs": [],
   "source": [
    "# Realmente corresponde a dos vuelos que operaron en 2018\n",
    "# Pero, por la poca variabilidad de los datos de 'AÑO',\n",
    "# esta columna se puede elimnar\n",
    "\n",
    "df_initial.drop(['AÑO'], axis=1, inplace=True)"
   ]
  },
  {
   "cell_type": "code",
   "execution_count": 39,
   "metadata": {},
   "outputs": [
    {
     "name": "stdout",
     "output_type": "stream",
     "text": [
      "<class 'pandas.core.frame.DataFrame'>\n",
      "RangeIndex: 68167 entries, 0 to 68166\n",
      "Data columns (total 14 columns):\n",
      " #   Column     Non-Null Count  Dtype         \n",
      "---  ------     --------------  -----         \n",
      " 0   Fecha-I    68167 non-null  datetime64[ns]\n",
      " 1   Vlo-I      68167 non-null  object        \n",
      " 2   Des-I      68167 non-null  object        \n",
      " 3   Emp-I      68167 non-null  object        \n",
      " 4   Fecha-O    68167 non-null  datetime64[ns]\n",
      " 5   Vlo-O      68167 non-null  object        \n",
      " 6   Des-O      68167 non-null  object        \n",
      " 7   Emp-O      68167 non-null  object        \n",
      " 8   DIA        68167 non-null  int32         \n",
      " 9   MES        68167 non-null  int32         \n",
      " 10  DIANOM     68167 non-null  object        \n",
      " 11  TIPOVUELO  68167 non-null  object        \n",
      " 12  OPERA      68167 non-null  object        \n",
      " 13  SIGLADES   68167 non-null  object        \n",
      "dtypes: datetime64[ns](2), int32(2), object(10)\n",
      "memory usage: 6.8+ MB\n"
     ]
    }
   ],
   "source": [
    "df_initial.info()"
   ]
  },
  {
   "cell_type": "code",
   "execution_count": null,
   "metadata": {},
   "outputs": [
    {
     "ename": "",
     "evalue": "",
     "output_type": "error",
     "traceback": [
      "\u001b[1;31mnotebook controller is DISPOSED. \n",
      "\u001b[1;31mView Jupyter <a href='command:jupyter.viewOutput'>log</a> for further details."
     ]
    }
   ],
   "source": [
    "Cambio de diudad programado - operacion"
   ]
  },
  {
   "cell_type": "code",
   "execution_count": null,
   "metadata": {},
   "outputs": [
    {
     "ename": "",
     "evalue": "",
     "output_type": "error",
     "traceback": [
      "\u001b[1;31mnotebook controller is DISPOSED. \n",
      "\u001b[1;31mView Jupyter <a href='command:jupyter.viewOutput'>log</a> for further details."
     ]
    }
   ],
   "source": []
  },
  {
   "cell_type": "code",
   "execution_count": null,
   "metadata": {},
   "outputs": [
    {
     "ename": "",
     "evalue": "",
     "output_type": "error",
     "traceback": [
      "\u001b[1;31mnotebook controller is DISPOSED. \n",
      "\u001b[1;31mView Jupyter <a href='command:jupyter.viewOutput'>log</a> for further details."
     ]
    }
   ],
   "source": [
    "# Adversarial Validation\n",
    "# roc_auc_score\n",
    "\n",
    "# Data makes the difference, not the model\n"
   ]
  },
  {
   "cell_type": "code",
   "execution_count": null,
   "metadata": {},
   "outputs": [
    {
     "ename": "",
     "evalue": "",
     "output_type": "error",
     "traceback": [
      "\u001b[1;31mnotebook controller is DISPOSED. \n",
      "\u001b[1;31mView Jupyter <a href='command:jupyter.viewOutput'>log</a> for further details."
     ]
    }
   ],
   "source": []
  },
  {
   "cell_type": "code",
   "execution_count": null,
   "metadata": {},
   "outputs": [
    {
     "ename": "",
     "evalue": "",
     "output_type": "error",
     "traceback": [
      "\u001b[1;31mnotebook controller is DISPOSED. \n",
      "\u001b[1;31mView Jupyter <a href='command:jupyter.viewOutput'>log</a> for further details."
     ]
    }
   ],
   "source": []
  },
  {
   "cell_type": "code",
   "execution_count": null,
   "metadata": {},
   "outputs": [
    {
     "ename": "",
     "evalue": "",
     "output_type": "error",
     "traceback": [
      "\u001b[1;31mnotebook controller is DISPOSED. \n",
      "\u001b[1;31mView Jupyter <a href='command:jupyter.viewOutput'>log</a> for further details."
     ]
    }
   ],
   "source": []
  },
  {
   "cell_type": "code",
   "execution_count": null,
   "metadata": {},
   "outputs": [
    {
     "ename": "",
     "evalue": "",
     "output_type": "error",
     "traceback": [
      "\u001b[1;31mnotebook controller is DISPOSED. \n",
      "\u001b[1;31mView Jupyter <a href='command:jupyter.viewOutput'>log</a> for further details."
     ]
    }
   ],
   "source": []
  },
  {
   "cell_type": "code",
   "execution_count": null,
   "metadata": {},
   "outputs": [
    {
     "ename": "",
     "evalue": "",
     "output_type": "error",
     "traceback": [
      "\u001b[1;31mnotebook controller is DISPOSED. \n",
      "\u001b[1;31mView Jupyter <a href='command:jupyter.viewOutput'>log</a> for further details."
     ]
    }
   ],
   "source": [
    "df_initial.to_pickle('df_2.pkl')"
   ]
  }
 ],
 "metadata": {
  "kernelspec": {
   "display_name": "Python 3.10.6 ('venv-miguel')",
   "language": "python",
   "name": "python3"
  },
  "language_info": {
   "codemirror_mode": {
    "name": "ipython",
    "version": 3
   },
   "file_extension": ".py",
   "mimetype": "text/x-python",
   "name": "python",
   "nbconvert_exporter": "python",
   "pygments_lexer": "ipython3",
   "version": "3.10.6"
  },
  "orig_nbformat": 4,
  "vscode": {
   "interpreter": {
    "hash": "114ad33c5c922534472adb42e1337b209e0527f692d0689c9bab1e25ac076e47"
   }
  }
 },
 "nbformat": 4,
 "nbformat_minor": 2
}
