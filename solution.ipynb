{
 "cells": [
  {
   "cell_type": "code",
   "execution_count": null,
   "metadata": {},
   "outputs": [],
   "source": [
    "! pip install -r requirements.txt"
   ]
  },
  {
   "cell_type": "markdown",
   "metadata": {},
   "source": [
    "# Iniciando librerias"
   ]
  },
  {
   "cell_type": "code",
   "execution_count": 1,
   "metadata": {},
   "outputs": [],
   "source": [
    "import pandas as pd\n",
    "\n",
    "import warnings\n",
    "warnings.filterwarnings('ignore')\n",
    "\n",
    "%matplotlib inline"
   ]
  },
  {
   "cell_type": "markdown",
   "metadata": {},
   "source": [
    "# Definiendo funciones"
   ]
  },
  {
   "cell_type": "code",
   "execution_count": null,
   "metadata": {},
   "outputs": [],
   "source": []
  },
  {
   "cell_type": "markdown",
   "metadata": {},
   "source": [
    "# Desafio"
   ]
  },
  {
   "cell_type": "code",
   "execution_count": 41,
   "metadata": {},
   "outputs": [
    {
     "data": {
      "text/html": [
       "<div>\n",
       "<style scoped>\n",
       "    .dataframe tbody tr th:only-of-type {\n",
       "        vertical-align: middle;\n",
       "    }\n",
       "\n",
       "    .dataframe tbody tr th {\n",
       "        vertical-align: top;\n",
       "    }\n",
       "\n",
       "    .dataframe thead th {\n",
       "        text-align: right;\n",
       "    }\n",
       "</style>\n",
       "<table border=\"1\" class=\"dataframe\">\n",
       "  <thead>\n",
       "    <tr style=\"text-align: right;\">\n",
       "      <th></th>\n",
       "      <th>Fecha-I</th>\n",
       "      <th>Vlo-I</th>\n",
       "      <th>Ori-I</th>\n",
       "      <th>Des-I</th>\n",
       "      <th>Emp-I</th>\n",
       "      <th>Fecha-O</th>\n",
       "      <th>Vlo-O</th>\n",
       "      <th>Ori-O</th>\n",
       "      <th>Des-O</th>\n",
       "      <th>Emp-O</th>\n",
       "      <th>DIA</th>\n",
       "      <th>MES</th>\n",
       "      <th>AÑO</th>\n",
       "      <th>DIANOM</th>\n",
       "      <th>TIPOVUELO</th>\n",
       "      <th>OPERA</th>\n",
       "      <th>SIGLAORI</th>\n",
       "      <th>SIGLADES</th>\n",
       "    </tr>\n",
       "  </thead>\n",
       "  <tbody>\n",
       "    <tr>\n",
       "      <th>0</th>\n",
       "      <td>2017-01-01 23:30:00</td>\n",
       "      <td>226</td>\n",
       "      <td>SCEL</td>\n",
       "      <td>KMIA</td>\n",
       "      <td>AAL</td>\n",
       "      <td>2017-01-01 23:33:00</td>\n",
       "      <td>226</td>\n",
       "      <td>SCEL</td>\n",
       "      <td>KMIA</td>\n",
       "      <td>AAL</td>\n",
       "      <td>1</td>\n",
       "      <td>1</td>\n",
       "      <td>2017</td>\n",
       "      <td>Domingo</td>\n",
       "      <td>I</td>\n",
       "      <td>American Airlines</td>\n",
       "      <td>Santiago</td>\n",
       "      <td>Miami</td>\n",
       "    </tr>\n",
       "    <tr>\n",
       "      <th>1</th>\n",
       "      <td>2017-01-02 23:30:00</td>\n",
       "      <td>226</td>\n",
       "      <td>SCEL</td>\n",
       "      <td>KMIA</td>\n",
       "      <td>AAL</td>\n",
       "      <td>2017-01-02 23:39:00</td>\n",
       "      <td>226</td>\n",
       "      <td>SCEL</td>\n",
       "      <td>KMIA</td>\n",
       "      <td>AAL</td>\n",
       "      <td>2</td>\n",
       "      <td>1</td>\n",
       "      <td>2017</td>\n",
       "      <td>Lunes</td>\n",
       "      <td>I</td>\n",
       "      <td>American Airlines</td>\n",
       "      <td>Santiago</td>\n",
       "      <td>Miami</td>\n",
       "    </tr>\n",
       "    <tr>\n",
       "      <th>2</th>\n",
       "      <td>2017-01-03 23:30:00</td>\n",
       "      <td>226</td>\n",
       "      <td>SCEL</td>\n",
       "      <td>KMIA</td>\n",
       "      <td>AAL</td>\n",
       "      <td>2017-01-03 23:39:00</td>\n",
       "      <td>226</td>\n",
       "      <td>SCEL</td>\n",
       "      <td>KMIA</td>\n",
       "      <td>AAL</td>\n",
       "      <td>3</td>\n",
       "      <td>1</td>\n",
       "      <td>2017</td>\n",
       "      <td>Martes</td>\n",
       "      <td>I</td>\n",
       "      <td>American Airlines</td>\n",
       "      <td>Santiago</td>\n",
       "      <td>Miami</td>\n",
       "    </tr>\n",
       "    <tr>\n",
       "      <th>3</th>\n",
       "      <td>2017-01-04 23:30:00</td>\n",
       "      <td>226</td>\n",
       "      <td>SCEL</td>\n",
       "      <td>KMIA</td>\n",
       "      <td>AAL</td>\n",
       "      <td>2017-01-04 23:33:00</td>\n",
       "      <td>226</td>\n",
       "      <td>SCEL</td>\n",
       "      <td>KMIA</td>\n",
       "      <td>AAL</td>\n",
       "      <td>4</td>\n",
       "      <td>1</td>\n",
       "      <td>2017</td>\n",
       "      <td>Miercoles</td>\n",
       "      <td>I</td>\n",
       "      <td>American Airlines</td>\n",
       "      <td>Santiago</td>\n",
       "      <td>Miami</td>\n",
       "    </tr>\n",
       "    <tr>\n",
       "      <th>4</th>\n",
       "      <td>2017-01-05 23:30:00</td>\n",
       "      <td>226</td>\n",
       "      <td>SCEL</td>\n",
       "      <td>KMIA</td>\n",
       "      <td>AAL</td>\n",
       "      <td>2017-01-05 23:28:00</td>\n",
       "      <td>226</td>\n",
       "      <td>SCEL</td>\n",
       "      <td>KMIA</td>\n",
       "      <td>AAL</td>\n",
       "      <td>5</td>\n",
       "      <td>1</td>\n",
       "      <td>2017</td>\n",
       "      <td>Jueves</td>\n",
       "      <td>I</td>\n",
       "      <td>American Airlines</td>\n",
       "      <td>Santiago</td>\n",
       "      <td>Miami</td>\n",
       "    </tr>\n",
       "  </tbody>\n",
       "</table>\n",
       "</div>"
      ],
      "text/plain": [
       "               Fecha-I Vlo-I Ori-I Des-I Emp-I              Fecha-O Vlo-O  \\\n",
       "0  2017-01-01 23:30:00   226  SCEL  KMIA   AAL  2017-01-01 23:33:00   226   \n",
       "1  2017-01-02 23:30:00   226  SCEL  KMIA   AAL  2017-01-02 23:39:00   226   \n",
       "2  2017-01-03 23:30:00   226  SCEL  KMIA   AAL  2017-01-03 23:39:00   226   \n",
       "3  2017-01-04 23:30:00   226  SCEL  KMIA   AAL  2017-01-04 23:33:00   226   \n",
       "4  2017-01-05 23:30:00   226  SCEL  KMIA   AAL  2017-01-05 23:28:00   226   \n",
       "\n",
       "  Ori-O Des-O Emp-O DIA MES   AÑO     DIANOM TIPOVUELO              OPERA  \\\n",
       "0  SCEL  KMIA   AAL   1   1  2017    Domingo         I  American Airlines   \n",
       "1  SCEL  KMIA   AAL   2   1  2017      Lunes         I  American Airlines   \n",
       "2  SCEL  KMIA   AAL   3   1  2017     Martes         I  American Airlines   \n",
       "3  SCEL  KMIA   AAL   4   1  2017  Miercoles         I  American Airlines   \n",
       "4  SCEL  KMIA   AAL   5   1  2017     Jueves         I  American Airlines   \n",
       "\n",
       "   SIGLAORI SIGLADES  \n",
       "0  Santiago    Miami  \n",
       "1  Santiago    Miami  \n",
       "2  Santiago    Miami  \n",
       "3  Santiago    Miami  \n",
       "4  Santiago    Miami  "
      ]
     },
     "execution_count": 41,
     "metadata": {},
     "output_type": "execute_result"
    }
   ],
   "source": [
    "\n",
    "\n",
    "# Importando datos\n",
    "'''\n",
    "Cuando comencé a trabajar con el archivo 'dataset_SCL.csv' proporcionado y evidencié que\n",
    "algunas lineas contenían el caracter \", sencillo o triple. Esto crea un error en esas lineas\n",
    "al ser leido como pandas.DataFrame. Por ejemplo, las lineas 17.059 y 17.060 vienen con ese\n",
    "problema.\n",
    "\n",
    "Decidí elimnar esas lineas, en la lectura de los datos usando, el comment='\"'.\n",
    "El archivo original tiene 68.206 y quedó con 68.167.\n",
    "Se eliminaron solamente 39 lineas, un tamaño infimo de datos para el tamaño original.\n",
    "\n",
    "Usé dtype='object' porque siendo un desafio de clasificación, y dando una ojeada inicial \n",
    "a los datos, establezco que son pocos los tipos de datos diferentes a object.\n",
    "\n",
    "Serian datetime solamente 'Fecha-I' y 'Fecha-O'.\n",
    "Serian solamente int 'DIA', 'MES' y 'AÑO'\n",
    "'''\n",
    "\n",
    "df_ini = pd.read_csv('dataset_SCL.csv', dtype='object', comment='\"', encoding='utf-8')\n",
    "df_ini.head()"
   ]
  },
  {
   "cell_type": "code",
   "execution_count": 42,
   "metadata": {},
   "outputs": [
    {
     "name": "stdout",
     "output_type": "stream",
     "text": [
      "<class 'pandas.core.frame.DataFrame'>\n",
      "RangeIndex: 68167 entries, 0 to 68166\n",
      "Data columns (total 18 columns):\n",
      " #   Column     Non-Null Count  Dtype \n",
      "---  ------     --------------  ----- \n",
      " 0   Fecha-I    68167 non-null  object\n",
      " 1   Vlo-I      68167 non-null  object\n",
      " 2   Ori-I      68167 non-null  object\n",
      " 3   Des-I      68167 non-null  object\n",
      " 4   Emp-I      68167 non-null  object\n",
      " 5   Fecha-O    68167 non-null  object\n",
      " 6   Vlo-O      68166 non-null  object\n",
      " 7   Ori-O      68167 non-null  object\n",
      " 8   Des-O      68167 non-null  object\n",
      " 9   Emp-O      68167 non-null  object\n",
      " 10  DIA        68167 non-null  object\n",
      " 11  MES        68167 non-null  object\n",
      " 12  AÑO        68167 non-null  object\n",
      " 13  DIANOM     68167 non-null  object\n",
      " 14  TIPOVUELO  68167 non-null  object\n",
      " 15  OPERA      68167 non-null  object\n",
      " 16  SIGLAORI   68167 non-null  object\n",
      " 17  SIGLADES   68167 non-null  object\n",
      "dtypes: object(18)\n",
      "memory usage: 9.4+ MB\n"
     ]
    }
   ],
   "source": [
    "# Comprobando que todas las columnas quedaron tipo object\n",
    "df_ini.info()"
   ]
  },
  {
   "cell_type": "markdown",
   "metadata": {},
   "source": [
    "## Arreglando problemas de tipo de datos"
   ]
  },
  {
   "cell_type": "code",
   "execution_count": 43,
   "metadata": {},
   "outputs": [
    {
     "name": "stdout",
     "output_type": "stream",
     "text": [
      "<class 'pandas.core.frame.DataFrame'>\n",
      "RangeIndex: 68167 entries, 0 to 68166\n",
      "Data columns (total 18 columns):\n",
      " #   Column     Non-Null Count  Dtype         \n",
      "---  ------     --------------  -----         \n",
      " 0   Fecha-I    68167 non-null  datetime64[ns]\n",
      " 1   Vlo-I      68167 non-null  object        \n",
      " 2   Ori-I      68167 non-null  object        \n",
      " 3   Des-I      68167 non-null  object        \n",
      " 4   Emp-I      68167 non-null  object        \n",
      " 5   Fecha-O    68167 non-null  datetime64[ns]\n",
      " 6   Vlo-O      68166 non-null  object        \n",
      " 7   Ori-O      68167 non-null  object        \n",
      " 8   Des-O      68167 non-null  object        \n",
      " 9   Emp-O      68167 non-null  object        \n",
      " 10  DIA        68167 non-null  object        \n",
      " 11  MES        68167 non-null  object        \n",
      " 12  AÑO        68167 non-null  object        \n",
      " 13  DIANOM     68167 non-null  object        \n",
      " 14  TIPOVUELO  68167 non-null  object        \n",
      " 15  OPERA      68167 non-null  object        \n",
      " 16  SIGLAORI   68167 non-null  object        \n",
      " 17  SIGLADES   68167 non-null  object        \n",
      "dtypes: datetime64[ns](2), object(16)\n",
      "memory usage: 9.4+ MB\n"
     ]
    }
   ],
   "source": [
    "# Transformando 'fechas' a datetime\n",
    "df_ini['Fecha-I'] =  pd.to_datetime(df_ini['Fecha-I'], format='%Y-%m-%d %H:%M:%S')\n",
    "df_ini['Fecha-O'] =  pd.to_datetime(df_ini['Fecha-O'], format='%Y-%m-%d %H:%M:%S')\n",
    "df_ini.info()"
   ]
  },
  {
   "cell_type": "code",
   "execution_count": 44,
   "metadata": {},
   "outputs": [
    {
     "data": {
      "text/plain": [
       "Fecha-I      datetime64[ns]\n",
       "Vlo-I                object\n",
       "Ori-I                object\n",
       "Des-I                object\n",
       "Emp-I                object\n",
       "Fecha-O      datetime64[ns]\n",
       "Vlo-O                object\n",
       "Ori-O                object\n",
       "Des-O                object\n",
       "Emp-O                object\n",
       "DIA                  object\n",
       "MES                  object\n",
       "AÑO                  object\n",
       "DIANOM               object\n",
       "TIPOVUELO            object\n",
       "OPERA                object\n",
       "SIGLAORI             object\n",
       "SIGLADES             object\n",
       "dtype: object"
      ]
     },
     "execution_count": 44,
     "metadata": {},
     "output_type": "execute_result"
    }
   ],
   "source": [
    "# Transformando 'DIA', 'MES' y 'AÑO', para tipo int\n",
    "df_ini.dtypes"
   ]
  },
  {
   "cell_type": "code",
   "execution_count": 7,
   "metadata": {},
   "outputs": [
    {
     "name": "stdout",
     "output_type": "stream",
     "text": [
      "<class 'pandas.core.frame.DataFrame'>\n",
      "RangeIndex: 68206 entries, 0 to 68205\n",
      "Data columns (total 18 columns):\n",
      " #   Column     Non-Null Count  Dtype  \n",
      "---  ------     --------------  -----  \n",
      " 0   Fecha-I    68206 non-null  object \n",
      " 1   Vlo-I      68167 non-null  object \n",
      " 2   Ori-I      68167 non-null  object \n",
      " 3   Des-I      68167 non-null  object \n",
      " 4   Emp-I      68167 non-null  object \n",
      " 5   Fecha-O    68167 non-null  object \n",
      " 6   Vlo-O      68166 non-null  object \n",
      " 7   Ori-O      68167 non-null  object \n",
      " 8   Des-O      68167 non-null  object \n",
      " 9   Emp-O      68167 non-null  object \n",
      " 10  DIA        68167 non-null  float64\n",
      " 11  MES        68167 non-null  float64\n",
      " 12  AÑO        68167 non-null  float64\n",
      " 13  DIANOM     68167 non-null  object \n",
      " 14  TIPOVUELO  68167 non-null  object \n",
      " 15  OPERA      68167 non-null  object \n",
      " 16  SIGLAORI   68167 non-null  object \n",
      " 17  SIGLADES   68167 non-null  object \n",
      "dtypes: float64(3), object(15)\n",
      "memory usage: 9.4+ MB\n"
     ]
    }
   ],
   "source": [
    "df_ini.info()"
   ]
  },
  {
   "cell_type": "code",
   "execution_count": 5,
   "metadata": {},
   "outputs": [
    {
     "data": {
      "text/plain": [
       "array(['Santiago', nan], dtype=object)"
      ]
     },
     "execution_count": 5,
     "metadata": {},
     "output_type": "execute_result"
    }
   ],
   "source": [
    "df_ini['SIGLAORI'].unique()"
   ]
  },
  {
   "cell_type": "markdown",
   "metadata": {},
   "source": [
    "## EDA"
   ]
  },
  {
   "cell_type": "code",
   "execution_count": null,
   "metadata": {},
   "outputs": [],
   "source": []
  },
  {
   "cell_type": "code",
   "execution_count": null,
   "metadata": {},
   "outputs": [],
   "source": []
  },
  {
   "cell_type": "code",
   "execution_count": null,
   "metadata": {},
   "outputs": [],
   "source": [
    "# Adversarial Validation\n",
    "# roc_auc_score\n",
    "\n",
    "# Data makes the difference, not the model\n"
   ]
  }
 ],
 "metadata": {
  "kernelspec": {
   "display_name": "Python 3.10.6 ('venv-miguel')",
   "language": "python",
   "name": "python3"
  },
  "language_info": {
   "codemirror_mode": {
    "name": "ipython",
    "version": 3
   },
   "file_extension": ".py",
   "mimetype": "text/x-python",
   "name": "python",
   "nbconvert_exporter": "python",
   "pygments_lexer": "ipython3",
   "version": "3.10.6"
  },
  "orig_nbformat": 4,
  "vscode": {
   "interpreter": {
    "hash": "114ad33c5c922534472adb42e1337b209e0527f692d0689c9bab1e25ac076e47"
   }
  }
 },
 "nbformat": 4,
 "nbformat_minor": 2
}
