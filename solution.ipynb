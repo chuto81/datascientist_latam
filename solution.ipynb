{
 "cells": [
  {
   "cell_type": "code",
   "execution_count": null,
   "metadata": {},
   "outputs": [],
   "source": [
    "! pip install -r requirements.txt"
   ]
  },
  {
   "cell_type": "markdown",
   "metadata": {},
   "source": [
    "# Importando librerias"
   ]
  },
  {
   "cell_type": "code",
   "execution_count": 1,
   "metadata": {},
   "outputs": [],
   "source": [
    "import pandas as pd\n",
    "\n",
    "import warnings\n",
    "warnings.filterwarnings('ignore')\n",
    "\n",
    "%matplotlib inline"
   ]
  },
  {
   "cell_type": "markdown",
   "metadata": {},
   "source": [
    "# Desafio"
   ]
  },
  {
   "cell_type": "code",
   "execution_count": 23,
   "metadata": {},
   "outputs": [
    {
     "data": {
      "text/html": [
       "<div>\n",
       "<style scoped>\n",
       "    .dataframe tbody tr th:only-of-type {\n",
       "        vertical-align: middle;\n",
       "    }\n",
       "\n",
       "    .dataframe tbody tr th {\n",
       "        vertical-align: top;\n",
       "    }\n",
       "\n",
       "    .dataframe thead th {\n",
       "        text-align: right;\n",
       "    }\n",
       "</style>\n",
       "<table border=\"1\" class=\"dataframe\">\n",
       "  <thead>\n",
       "    <tr style=\"text-align: right;\">\n",
       "      <th></th>\n",
       "      <th>Fecha-I</th>\n",
       "      <th>Vlo-I</th>\n",
       "      <th>Ori-I</th>\n",
       "      <th>Des-I</th>\n",
       "      <th>Emp-I</th>\n",
       "      <th>Fecha-O</th>\n",
       "      <th>Vlo-O</th>\n",
       "      <th>Ori-O</th>\n",
       "      <th>Des-O</th>\n",
       "      <th>Emp-O</th>\n",
       "      <th>DIA</th>\n",
       "      <th>MES</th>\n",
       "      <th>AÑO</th>\n",
       "      <th>DIANOM</th>\n",
       "      <th>TIPOVUELO</th>\n",
       "      <th>OPERA</th>\n",
       "      <th>SIGLAORI</th>\n",
       "      <th>SIGLADES</th>\n",
       "    </tr>\n",
       "  </thead>\n",
       "  <tbody>\n",
       "    <tr>\n",
       "      <th>0</th>\n",
       "      <td>2017-01-01 23:30:00</td>\n",
       "      <td>226</td>\n",
       "      <td>SCEL</td>\n",
       "      <td>KMIA</td>\n",
       "      <td>AAL</td>\n",
       "      <td>2017-01-01 23:33:00</td>\n",
       "      <td>226</td>\n",
       "      <td>SCEL</td>\n",
       "      <td>KMIA</td>\n",
       "      <td>AAL</td>\n",
       "      <td>1</td>\n",
       "      <td>1</td>\n",
       "      <td>2017</td>\n",
       "      <td>Domingo</td>\n",
       "      <td>I</td>\n",
       "      <td>American Airlines</td>\n",
       "      <td>Santiago</td>\n",
       "      <td>Miami</td>\n",
       "    </tr>\n",
       "    <tr>\n",
       "      <th>1</th>\n",
       "      <td>2017-01-02 23:30:00</td>\n",
       "      <td>226</td>\n",
       "      <td>SCEL</td>\n",
       "      <td>KMIA</td>\n",
       "      <td>AAL</td>\n",
       "      <td>2017-01-02 23:39:00</td>\n",
       "      <td>226</td>\n",
       "      <td>SCEL</td>\n",
       "      <td>KMIA</td>\n",
       "      <td>AAL</td>\n",
       "      <td>2</td>\n",
       "      <td>1</td>\n",
       "      <td>2017</td>\n",
       "      <td>Lunes</td>\n",
       "      <td>I</td>\n",
       "      <td>American Airlines</td>\n",
       "      <td>Santiago</td>\n",
       "      <td>Miami</td>\n",
       "    </tr>\n",
       "    <tr>\n",
       "      <th>2</th>\n",
       "      <td>2017-01-03 23:30:00</td>\n",
       "      <td>226</td>\n",
       "      <td>SCEL</td>\n",
       "      <td>KMIA</td>\n",
       "      <td>AAL</td>\n",
       "      <td>2017-01-03 23:39:00</td>\n",
       "      <td>226</td>\n",
       "      <td>SCEL</td>\n",
       "      <td>KMIA</td>\n",
       "      <td>AAL</td>\n",
       "      <td>3</td>\n",
       "      <td>1</td>\n",
       "      <td>2017</td>\n",
       "      <td>Martes</td>\n",
       "      <td>I</td>\n",
       "      <td>American Airlines</td>\n",
       "      <td>Santiago</td>\n",
       "      <td>Miami</td>\n",
       "    </tr>\n",
       "    <tr>\n",
       "      <th>3</th>\n",
       "      <td>2017-01-04 23:30:00</td>\n",
       "      <td>226</td>\n",
       "      <td>SCEL</td>\n",
       "      <td>KMIA</td>\n",
       "      <td>AAL</td>\n",
       "      <td>2017-01-04 23:33:00</td>\n",
       "      <td>226</td>\n",
       "      <td>SCEL</td>\n",
       "      <td>KMIA</td>\n",
       "      <td>AAL</td>\n",
       "      <td>4</td>\n",
       "      <td>1</td>\n",
       "      <td>2017</td>\n",
       "      <td>Miercoles</td>\n",
       "      <td>I</td>\n",
       "      <td>American Airlines</td>\n",
       "      <td>Santiago</td>\n",
       "      <td>Miami</td>\n",
       "    </tr>\n",
       "    <tr>\n",
       "      <th>4</th>\n",
       "      <td>2017-01-05 23:30:00</td>\n",
       "      <td>226</td>\n",
       "      <td>SCEL</td>\n",
       "      <td>KMIA</td>\n",
       "      <td>AAL</td>\n",
       "      <td>2017-01-05 23:28:00</td>\n",
       "      <td>226</td>\n",
       "      <td>SCEL</td>\n",
       "      <td>KMIA</td>\n",
       "      <td>AAL</td>\n",
       "      <td>5</td>\n",
       "      <td>1</td>\n",
       "      <td>2017</td>\n",
       "      <td>Jueves</td>\n",
       "      <td>I</td>\n",
       "      <td>American Airlines</td>\n",
       "      <td>Santiago</td>\n",
       "      <td>Miami</td>\n",
       "    </tr>\n",
       "  </tbody>\n",
       "</table>\n",
       "</div>"
      ],
      "text/plain": [
       "               Fecha-I Vlo-I Ori-I Des-I Emp-I              Fecha-O Vlo-O  \\\n",
       "0  2017-01-01 23:30:00   226  SCEL  KMIA   AAL  2017-01-01 23:33:00   226   \n",
       "1  2017-01-02 23:30:00   226  SCEL  KMIA   AAL  2017-01-02 23:39:00   226   \n",
       "2  2017-01-03 23:30:00   226  SCEL  KMIA   AAL  2017-01-03 23:39:00   226   \n",
       "3  2017-01-04 23:30:00   226  SCEL  KMIA   AAL  2017-01-04 23:33:00   226   \n",
       "4  2017-01-05 23:30:00   226  SCEL  KMIA   AAL  2017-01-05 23:28:00   226   \n",
       "\n",
       "  Ori-O Des-O Emp-O DIA MES   AÑO     DIANOM TIPOVUELO              OPERA  \\\n",
       "0  SCEL  KMIA   AAL   1   1  2017    Domingo         I  American Airlines   \n",
       "1  SCEL  KMIA   AAL   2   1  2017      Lunes         I  American Airlines   \n",
       "2  SCEL  KMIA   AAL   3   1  2017     Martes         I  American Airlines   \n",
       "3  SCEL  KMIA   AAL   4   1  2017  Miercoles         I  American Airlines   \n",
       "4  SCEL  KMIA   AAL   5   1  2017     Jueves         I  American Airlines   \n",
       "\n",
       "   SIGLAORI SIGLADES  \n",
       "0  Santiago    Miami  \n",
       "1  Santiago    Miami  \n",
       "2  Santiago    Miami  \n",
       "3  Santiago    Miami  \n",
       "4  Santiago    Miami  "
      ]
     },
     "execution_count": 23,
     "metadata": {},
     "output_type": "execute_result"
    }
   ],
   "source": [
    "# Importando datos\n",
    "'''\n",
    "Cuando comencé a trabajar con el archivo 'dataset_SCL.csv' proporcionado y evidencié que\n",
    "algunas lineas contenían el caracter \", sencillo o triple. Esto crea un error en esas lineas\n",
    "al ser leido como pandas.DataFrame. Por ejemplo, las lineas 17.059 y 17.060 vienen con ese\n",
    "problema.\n",
    "\n",
    "Decidí elimnar esas lineas, en la lectura de los datos usando, el comment='\"'.\n",
    "El archivo original tiene 68.206 y quedó con 68.167.\n",
    "Se eliminaron solamente 39 lineas, un tamaño infimo de datos para el tamaño original.\n",
    "\n",
    "Usé dtype='object' porque siendo un desafio de clasificación, y dando una ojeada inicial \n",
    "a los datos, establezco que son pocos los tipos de datos diferentes a object.\n",
    "\n",
    "Serian datetime solamente 'Fecha-I' y 'Fecha-O'.\n",
    "Serian solamente int 'DIA', 'MES' y 'AÑO'\n",
    "'''\n",
    "\n",
    "df_initial = pd.read_csv('dataset_SCL.csv', dtype='object', comment='\"', encoding='utf-8')\n",
    "df_initial.head()"
   ]
  },
  {
   "cell_type": "code",
   "execution_count": 25,
   "metadata": {},
   "outputs": [
    {
     "name": "stdout",
     "output_type": "stream",
     "text": [
      "<class 'pandas.core.frame.DataFrame'>\n",
      "RangeIndex: 68167 entries, 0 to 68166\n",
      "Data columns (total 18 columns):\n",
      " #   Column     Non-Null Count  Dtype \n",
      "---  ------     --------------  ----- \n",
      " 0   Fecha-I    68167 non-null  object\n",
      " 1   Vlo-I      68167 non-null  object\n",
      " 2   Ori-I      68167 non-null  object\n",
      " 3   Des-I      68167 non-null  object\n",
      " 4   Emp-I      68167 non-null  object\n",
      " 5   Fecha-O    68167 non-null  object\n",
      " 6   Vlo-O      68166 non-null  object\n",
      " 7   Ori-O      68167 non-null  object\n",
      " 8   Des-O      68167 non-null  object\n",
      " 9   Emp-O      68167 non-null  object\n",
      " 10  DIA        68167 non-null  object\n",
      " 11  MES        68167 non-null  object\n",
      " 12  AÑO        68167 non-null  object\n",
      " 13  DIANOM     68167 non-null  object\n",
      " 14  TIPOVUELO  68167 non-null  object\n",
      " 15  OPERA      68167 non-null  object\n",
      " 16  SIGLAORI   68167 non-null  object\n",
      " 17  SIGLADES   68167 non-null  object\n",
      "dtypes: object(18)\n",
      "memory usage: 9.4+ MB\n"
     ]
    }
   ],
   "source": [
    "# Comprobando que todas las columnas quedaron tipo object\n",
    "df_initial.info()"
   ]
  },
  {
   "cell_type": "markdown",
   "metadata": {},
   "source": [
    "## Preparación y limpieza de los datos"
   ]
  },
  {
   "cell_type": "markdown",
   "metadata": {},
   "source": [
    "### Arreglando problemas de tipo de datos"
   ]
  },
  {
   "cell_type": "markdown",
   "metadata": {},
   "source": [
    "#### Fechas"
   ]
  },
  {
   "cell_type": "code",
   "execution_count": 26,
   "metadata": {},
   "outputs": [
    {
     "name": "stdout",
     "output_type": "stream",
     "text": [
      "<class 'pandas.core.frame.DataFrame'>\n",
      "RangeIndex: 68167 entries, 0 to 68166\n",
      "Data columns (total 18 columns):\n",
      " #   Column     Non-Null Count  Dtype         \n",
      "---  ------     --------------  -----         \n",
      " 0   Fecha-I    68167 non-null  datetime64[ns]\n",
      " 1   Vlo-I      68167 non-null  object        \n",
      " 2   Ori-I      68167 non-null  object        \n",
      " 3   Des-I      68167 non-null  object        \n",
      " 4   Emp-I      68167 non-null  object        \n",
      " 5   Fecha-O    68167 non-null  datetime64[ns]\n",
      " 6   Vlo-O      68166 non-null  object        \n",
      " 7   Ori-O      68167 non-null  object        \n",
      " 8   Des-O      68167 non-null  object        \n",
      " 9   Emp-O      68167 non-null  object        \n",
      " 10  DIA        68167 non-null  object        \n",
      " 11  MES        68167 non-null  object        \n",
      " 12  AÑO        68167 non-null  object        \n",
      " 13  DIANOM     68167 non-null  object        \n",
      " 14  TIPOVUELO  68167 non-null  object        \n",
      " 15  OPERA      68167 non-null  object        \n",
      " 16  SIGLAORI   68167 non-null  object        \n",
      " 17  SIGLADES   68167 non-null  object        \n",
      "dtypes: datetime64[ns](2), object(16)\n",
      "memory usage: 9.4+ MB\n"
     ]
    }
   ],
   "source": [
    "# Transformando 'fechas' a datetime\n",
    "df_initial['Fecha-I'] =  pd.to_datetime(df_initial['Fecha-I'], format='%Y-%m-%d %H:%M:%S')\n",
    "df_initial['Fecha-O'] =  pd.to_datetime(df_initial['Fecha-O'], format='%Y-%m-%d %H:%M:%S')\n",
    "df_initial.info()"
   ]
  },
  {
   "cell_type": "markdown",
   "metadata": {},
   "source": [
    "#### Enteros"
   ]
  },
  {
   "cell_type": "code",
   "execution_count": 27,
   "metadata": {},
   "outputs": [
    {
     "name": "stdout",
     "output_type": "stream",
     "text": [
      "<class 'pandas.core.frame.DataFrame'>\n",
      "RangeIndex: 68167 entries, 0 to 68166\n",
      "Data columns (total 18 columns):\n",
      " #   Column     Non-Null Count  Dtype         \n",
      "---  ------     --------------  -----         \n",
      " 0   Fecha-I    68167 non-null  datetime64[ns]\n",
      " 1   Vlo-I      68167 non-null  object        \n",
      " 2   Ori-I      68167 non-null  object        \n",
      " 3   Des-I      68167 non-null  object        \n",
      " 4   Emp-I      68167 non-null  object        \n",
      " 5   Fecha-O    68167 non-null  datetime64[ns]\n",
      " 6   Vlo-O      68166 non-null  object        \n",
      " 7   Ori-O      68167 non-null  object        \n",
      " 8   Des-O      68167 non-null  object        \n",
      " 9   Emp-O      68167 non-null  object        \n",
      " 10  DIA        68167 non-null  int32         \n",
      " 11  MES        68167 non-null  int32         \n",
      " 12  AÑO        68167 non-null  int32         \n",
      " 13  DIANOM     68167 non-null  object        \n",
      " 14  TIPOVUELO  68167 non-null  object        \n",
      " 15  OPERA      68167 non-null  object        \n",
      " 16  SIGLAORI   68167 non-null  object        \n",
      " 17  SIGLADES   68167 non-null  object        \n",
      "dtypes: datetime64[ns](2), int32(3), object(13)\n",
      "memory usage: 8.6+ MB\n"
     ]
    }
   ],
   "source": [
    "# Transformando 'DIA', 'MES' y 'AÑO', para tipo int\n",
    "df_initial = df_initial.astype({'DIA': 'int32', 'MES': 'int32', 'AÑO': 'int32'})\n",
    "df_initial.info()"
   ]
  },
  {
   "cell_type": "markdown",
   "metadata": {},
   "source": [
    "### Valores nulos"
   ]
  },
  {
   "cell_type": "code",
   "execution_count": 28,
   "metadata": {},
   "outputs": [
    {
     "data": {
      "text/plain": [
       "1"
      ]
     },
     "execution_count": 28,
     "metadata": {},
     "output_type": "execute_result"
    }
   ],
   "source": [
    "# Valores nulos?\n",
    "df_initial.isnull().sum().sum()"
   ]
  },
  {
   "cell_type": "code",
   "execution_count": 29,
   "metadata": {},
   "outputs": [
    {
     "data": {
      "text/html": [
       "<div>\n",
       "<style scoped>\n",
       "    .dataframe tbody tr th:only-of-type {\n",
       "        vertical-align: middle;\n",
       "    }\n",
       "\n",
       "    .dataframe tbody tr th {\n",
       "        vertical-align: top;\n",
       "    }\n",
       "\n",
       "    .dataframe thead th {\n",
       "        text-align: right;\n",
       "    }\n",
       "</style>\n",
       "<table border=\"1\" class=\"dataframe\">\n",
       "  <thead>\n",
       "    <tr style=\"text-align: right;\">\n",
       "      <th></th>\n",
       "      <th>Fecha-I</th>\n",
       "      <th>Vlo-I</th>\n",
       "      <th>Ori-I</th>\n",
       "      <th>Des-I</th>\n",
       "      <th>Emp-I</th>\n",
       "      <th>Fecha-O</th>\n",
       "      <th>Vlo-O</th>\n",
       "      <th>Ori-O</th>\n",
       "      <th>Des-O</th>\n",
       "      <th>Emp-O</th>\n",
       "      <th>DIA</th>\n",
       "      <th>MES</th>\n",
       "      <th>AÑO</th>\n",
       "      <th>DIANOM</th>\n",
       "      <th>TIPOVUELO</th>\n",
       "      <th>OPERA</th>\n",
       "      <th>SIGLAORI</th>\n",
       "      <th>SIGLADES</th>\n",
       "    </tr>\n",
       "  </thead>\n",
       "  <tbody>\n",
       "    <tr>\n",
       "      <th>6068</th>\n",
       "      <td>2017-01-19 11:00:00</td>\n",
       "      <td>200</td>\n",
       "      <td>SCEL</td>\n",
       "      <td>SPJC</td>\n",
       "      <td>LAW</td>\n",
       "      <td>2017-01-19 11:03:00</td>\n",
       "      <td>NaN</td>\n",
       "      <td>SCEL</td>\n",
       "      <td>SPJC</td>\n",
       "      <td>56R</td>\n",
       "      <td>19</td>\n",
       "      <td>1</td>\n",
       "      <td>2017</td>\n",
       "      <td>Jueves</td>\n",
       "      <td>I</td>\n",
       "      <td>Latin American Wings</td>\n",
       "      <td>Santiago</td>\n",
       "      <td>Lima</td>\n",
       "    </tr>\n",
       "  </tbody>\n",
       "</table>\n",
       "</div>"
      ],
      "text/plain": [
       "                 Fecha-I Vlo-I Ori-I Des-I Emp-I             Fecha-O Vlo-O  \\\n",
       "6068 2017-01-19 11:00:00   200  SCEL  SPJC   LAW 2017-01-19 11:03:00   NaN   \n",
       "\n",
       "     Ori-O Des-O Emp-O  DIA  MES   AÑO  DIANOM TIPOVUELO  \\\n",
       "6068  SCEL  SPJC   56R   19    1  2017  Jueves         I   \n",
       "\n",
       "                     OPERA  SIGLAORI SIGLADES  \n",
       "6068  Latin American Wings  Santiago     Lima  "
      ]
     },
     "execution_count": 29,
     "metadata": {},
     "output_type": "execute_result"
    }
   ],
   "source": [
    "# Fila del valor nulo?\n",
    "row_nan = df_initial[df_initial.isnull().any(1)]\n",
    "row_nan "
   ]
  },
  {
   "cell_type": "code",
   "execution_count": 31,
   "metadata": {},
   "outputs": [],
   "source": [
    "# El valor nan está en la columna 'Vlo-O'\n",
    "# Colocaré el mismo valor de 'Vlo-I'\n",
    "df_initial.loc[6068,'Vlo-O']='200'"
   ]
  },
  {
   "cell_type": "code",
   "execution_count": 32,
   "metadata": {},
   "outputs": [
    {
     "data": {
      "text/plain": [
       "0"
      ]
     },
     "execution_count": 32,
     "metadata": {},
     "output_type": "execute_result"
    }
   ],
   "source": [
    "# Rectificando valores nulos?\n",
    "df_initial.isnull().sum().sum()\n",
    "\n",
    "# No hay valores nulos"
   ]
  },
  {
   "cell_type": "markdown",
   "metadata": {},
   "source": [
    "### Datos duplicados"
   ]
  },
  {
   "cell_type": "code",
   "execution_count": 33,
   "metadata": {},
   "outputs": [
    {
     "data": {
      "text/plain": [
       "False"
      ]
     },
     "execution_count": 33,
     "metadata": {},
     "output_type": "execute_result"
    }
   ],
   "source": [
    "# Existen datos duplicados?\n",
    "df_initial.duplicated().any()\n",
    "\n",
    "# No hay valores duplicados"
   ]
  },
  {
   "cell_type": "markdown",
   "metadata": {},
   "source": [
    "### Concordancia de la información"
   ]
  },
  {
   "cell_type": "code",
   "execution_count": 34,
   "metadata": {},
   "outputs": [
    {
     "data": {
      "text/plain": [
       "Fecha-I      53232\n",
       "Vlo-I          581\n",
       "Ori-I            1\n",
       "Des-I           61\n",
       "Emp-I           30\n",
       "Fecha-O      62742\n",
       "Vlo-O          857\n",
       "Ori-O            1\n",
       "Des-O           60\n",
       "Emp-O           32\n",
       "DIA             31\n",
       "MES             12\n",
       "AÑO              2\n",
       "DIANOM           7\n",
       "TIPOVUELO        2\n",
       "OPERA           23\n",
       "SIGLAORI         1\n",
       "SIGLADES        59\n",
       "dtype: int64"
      ]
     },
     "execution_count": 34,
     "metadata": {},
     "output_type": "execute_result"
    }
   ],
   "source": [
    "# La información contenida tiene concordar con lo que significa\n",
    "# Por ejemplo, encontrar una ciudad en tipo de vuelo\n",
    "\n",
    "# Para esto calculó la cantidad de datos unicos por columna\n",
    "\n",
    "df_initial.nunique()"
   ]
  },
  {
   "cell_type": "code",
   "execution_count": 35,
   "metadata": {},
   "outputs": [],
   "source": [
    "# Tres columnas tienen valores unicos y se pueden eliminar\n",
    "# Estas tres columnas se refieren al origen de los vuelos\n",
    "# Todos los vuelos se originan desde Santiago\n",
    "\n",
    "df_initial.drop(['Ori-I', 'Ori-O', 'SIGLAORI'], axis=1, inplace=True)"
   ]
  },
  {
   "cell_type": "markdown",
   "metadata": {},
   "source": [
    "#### AÑO"
   ]
  },
  {
   "cell_type": "code",
   "execution_count": 36,
   "metadata": {},
   "outputs": [
    {
     "data": {
      "text/plain": [
       "2017    68165\n",
       "2018        2\n",
       "Name: AÑO, dtype: int64"
      ]
     },
     "execution_count": 36,
     "metadata": {},
     "output_type": "execute_result"
    }
   ],
   "source": [
    "# Hay dos valores en 'AÑO', pero parece que las 'fechas' son solo de 2017\n",
    "# Comprobar los años de las fechas\n",
    "df_initial['AÑO'].value_counts()"
   ]
  },
  {
   "cell_type": "code",
   "execution_count": 37,
   "metadata": {},
   "outputs": [
    {
     "data": {
      "text/html": [
       "<div>\n",
       "<style scoped>\n",
       "    .dataframe tbody tr th:only-of-type {\n",
       "        vertical-align: middle;\n",
       "    }\n",
       "\n",
       "    .dataframe tbody tr th {\n",
       "        vertical-align: top;\n",
       "    }\n",
       "\n",
       "    .dataframe thead th {\n",
       "        text-align: right;\n",
       "    }\n",
       "</style>\n",
       "<table border=\"1\" class=\"dataframe\">\n",
       "  <thead>\n",
       "    <tr style=\"text-align: right;\">\n",
       "      <th></th>\n",
       "      <th>Fecha-I</th>\n",
       "      <th>Vlo-I</th>\n",
       "      <th>Des-I</th>\n",
       "      <th>Emp-I</th>\n",
       "      <th>Fecha-O</th>\n",
       "      <th>Vlo-O</th>\n",
       "      <th>Des-O</th>\n",
       "      <th>Emp-O</th>\n",
       "      <th>DIA</th>\n",
       "      <th>MES</th>\n",
       "      <th>AÑO</th>\n",
       "      <th>DIANOM</th>\n",
       "      <th>TIPOVUELO</th>\n",
       "      <th>OPERA</th>\n",
       "      <th>SIGLADES</th>\n",
       "    </tr>\n",
       "  </thead>\n",
       "  <tbody>\n",
       "    <tr>\n",
       "      <th>66891</th>\n",
       "      <td>2017-12-31 23:55:00</td>\n",
       "      <td>602</td>\n",
       "      <td>KLAX</td>\n",
       "      <td>LAN</td>\n",
       "      <td>2018-01-01 00:02:00</td>\n",
       "      <td>602.0</td>\n",
       "      <td>KLAX</td>\n",
       "      <td>LAN</td>\n",
       "      <td>1</td>\n",
       "      <td>1</td>\n",
       "      <td>2018</td>\n",
       "      <td>Lunes</td>\n",
       "      <td>I</td>\n",
       "      <td>Grupo LATAM</td>\n",
       "      <td>Los Angeles</td>\n",
       "    </tr>\n",
       "    <tr>\n",
       "      <th>66920</th>\n",
       "      <td>2017-12-31 23:40:00</td>\n",
       "      <td>622</td>\n",
       "      <td>MMMX</td>\n",
       "      <td>LAN</td>\n",
       "      <td>2018-01-01 00:12:00</td>\n",
       "      <td>622.0</td>\n",
       "      <td>MMMX</td>\n",
       "      <td>LAN</td>\n",
       "      <td>1</td>\n",
       "      <td>1</td>\n",
       "      <td>2018</td>\n",
       "      <td>Lunes</td>\n",
       "      <td>I</td>\n",
       "      <td>Grupo LATAM</td>\n",
       "      <td>Ciudad de Mexico</td>\n",
       "    </tr>\n",
       "  </tbody>\n",
       "</table>\n",
       "</div>"
      ],
      "text/plain": [
       "                  Fecha-I Vlo-I Des-I Emp-I             Fecha-O  Vlo-O Des-O  \\\n",
       "66891 2017-12-31 23:55:00   602  KLAX   LAN 2018-01-01 00:02:00  602.0  KLAX   \n",
       "66920 2017-12-31 23:40:00   622  MMMX   LAN 2018-01-01 00:12:00  622.0  MMMX   \n",
       "\n",
       "      Emp-O  DIA  MES   AÑO DIANOM TIPOVUELO        OPERA          SIGLADES  \n",
       "66891   LAN    1    1  2018  Lunes         I  Grupo LATAM       Los Angeles  \n",
       "66920   LAN    1    1  2018  Lunes         I  Grupo LATAM  Ciudad de Mexico  "
      ]
     },
     "execution_count": 37,
     "metadata": {},
     "output_type": "execute_result"
    }
   ],
   "source": [
    "# Hay solo dos fechas con 'AÑO' de 2018\n",
    "# Se puede comprobar manualmente\n",
    "\n",
    "row_2018 = df_initial[df_initial['AÑO'] == 2018]\n",
    "row_2018 "
   ]
  },
  {
   "cell_type": "code",
   "execution_count": 38,
   "metadata": {},
   "outputs": [],
   "source": [
    "# Realmente corresponde a dos vuelos que operaron en 2018\n",
    "# Pero, por la poca variabilidad de los datos de 'AÑO',\n",
    "# esta columna se puede elimnar\n",
    "\n",
    "df_initial.drop(['AÑO'], axis=1, inplace=True)"
   ]
  },
  {
   "cell_type": "markdown",
   "metadata": {},
   "source": [
    "#### Codigo de vuelo con decimales"
   ]
  },
  {
   "cell_type": "code",
   "execution_count": 56,
   "metadata": {},
   "outputs": [
    {
     "data": {
      "text/plain": [
       "array(['226', '912', '940', '92', '93', '401', '11', '1011', '1281',\n",
       "       '1283', '1285', '1287', '1289', '1291', '2291', '98', '116', '176',\n",
       "       '240', '295', '689', '250', '112', '118', '174', '249', '276',\n",
       "       '495', '4495', '146', '7661', '7663', '9245', '9268', '9362',\n",
       "       '6830', '702', '624', '28', '846', '709', '741', '8021', '8023',\n",
       "       '8027', '8029', '8069', '8073', '8075', '8099', '8125', '8137',\n",
       "       '8160', '8161', '9601', '9615', '9651', '9653', '9661', '9689',\n",
       "       '9782', '9623', '1', '3', '7', '9', '13', '15', '17', '21', '23',\n",
       "       '25', '41', '43', '51', '53', '55', '61', '71', '73', '75', '81',\n",
       "       '83', '102', '104', '106', '108', '110', '120', '122', '128',\n",
       "       '130', '132', '134', '140', '142', '150', '156', '160', '162',\n",
       "       '164', '166', '170', '172', '180', '182', '184', '186', '188',\n",
       "       '190', '192', '194', '196', '501', '503', '507', '521', '531',\n",
       "       '551', '800', '802', '804', '1083', '14', '31', '35', '37', '57',\n",
       "       '65', '67', '69', '89', '91', '97', '114', '124', '126', '136',\n",
       "       '138', '144', '148', '152', '154', '168', '178', '201', '203',\n",
       "       '207', '209', '211', '213', '215', '217', '219', '221', '231',\n",
       "       '233', '235', '237', '239', '241', '247', '251', '257', '259',\n",
       "       '261', '263', '265', '267', '269', '271', '273', '275', '277',\n",
       "       '279', '281', '283', '285', '287', '289', '291', '293', '297',\n",
       "       '300', '302', '304', '306', '308', '312', '314', '318', '320',\n",
       "       '322', '324', '326', '328', '330', '332', '334', '336', '338',\n",
       "       '340', '342', '344', '346', '348', '350', '366', '374', '380',\n",
       "       '382', '384', '386', '388', '396', '403', '405', '439', '443',\n",
       "       '445', '449', '451', '455', '461', '481', '500', '502', '504',\n",
       "       '510', '530', '532', '534', '546', '572', '574', '576', '582',\n",
       "       '592', '600', '602', '622', '632', '642', '646', '648', '650',\n",
       "       '704', '708', '750', '752', '760', '772', '776', '778', '798',\n",
       "       '801', '833', '841', '843', '845', '849', '900', '902', '906',\n",
       "       '910', '930', '932', '934', '942', '952', '954', '968', '970',\n",
       "       '972', '986', '988', '991', '993', '1320', '1322', '1326', '1334',\n",
       "       '1357', '1359', '1446', '1498', '2632', '2636', '2638', '2640',\n",
       "       '2650', '2702', '4501', '1001', '1003', '4503', '1004', '1005',\n",
       "       '1302', '1340', '200', '700', '1700', '33', '59', '95', '243',\n",
       "       '1318', '634', '1304', '1303', '1200', '1202', '1300', '71R', '99',\n",
       "       '158', '198', '205', '1101', '376', '378', '404', '406', '410',\n",
       "       '414', '430', '432', '434', '438', '486', '492', '1346', '536',\n",
       "       '638', '640', '644', '864', '890', '892', '1122', '1126', '1151',\n",
       "       '1363', '1361', '1946', '2370', '2372', '2374', '7811', '1103',\n",
       "       '1061', '7813', '1071', '201R', '1165', '1301', '1906', '202',\n",
       "       '1704', '9625', '8665', '4950', '45', '100', '523', '1025', '4000',\n",
       "       '63', '352', '354', '452', '460', '636', '674', '888', '895',\n",
       "       '897', '1108', '1124', '1128', '1236', '1248', '2364', '2366',\n",
       "       '2378', '2474', '2478', '1050', '1051', '1052', '1102', '1104',\n",
       "       '1130', '1159', '1230', '43R', '989', '2093', '401A', '401B',\n",
       "       '3000', '9000', '802R', '459', '483', '1160', '1114', '1168',\n",
       "       '1238', '1239', '1261', '114R', '622R', '1107', '1140', '1167',\n",
       "       '1271', '1031', '9659', '1551', '1800', '358', '492R', '1111',\n",
       "       '2518', '7959', '1041', '400', '402', '2297', '1297', '4118',\n",
       "       '9858', '9860', '9244', '9246', '9247', '9261', '9272', '2726',\n",
       "       '9673', '9956', '9600', '9629', '9662', '9701', '9955', '5', '77',\n",
       "       '553', '316', '368', '372', '1155', '470', '506', '604', '2486',\n",
       "       '1136', '1158', '1242', '1244', '2368', '1113', '338R', '1105',\n",
       "       '1106', '1115', '1132', '1166', '2488', '1400', '1033', '4', '8',\n",
       "       '26', '22', '1927', '7721', '922', '5924', '591P', '2763', '2804',\n",
       "       '8519', '8525', '8542', '9622', '356', '1138', '1148', '6', '32',\n",
       "       '50', '52', '86', '88', '9301', '9303', '846A', '47', '60', '1234',\n",
       "       '1250', '1241', '1034', '1035', '1043', '7704', '10', '253',\n",
       "       '1502', '8083', '8131', '9851', '27', '543', '1198', '39', '87',\n",
       "       '390', '448', '664', '805', '1054', '1065', '1116', '1121', '1146',\n",
       "       '1154', '1188', '1193', '1218', '1222', '1224', '1226', '1228',\n",
       "       '1235', '1237', '1249', '1260', '1262', '1264', '1428', '7899',\n",
       "       '502R', '1142', '1240', '2600', '30', '2092', '3624', '9643',\n",
       "       '9461', '9510', '9540', '706', '1088', '1091', '1099', '1134',\n",
       "       '1169', '1170', '1195', '1199', '1243', '1251', '1257', '1277',\n",
       "       '1279', '207R', '1233', '54', '1600', '2287', '9289', '85',\n",
       "       '150.0', '156.0', '160.0', '162.0', '164.0', '166.0', '168.0',\n",
       "       '170.0', '172.0', '174.0', '176.0', '180.0', '182.0', '184.0',\n",
       "       '186.0', '190.0', '192.0', '194.0', '196.0', '198.0', '501.0',\n",
       "       '503.0', '507.0', '521.0', '531.0', '543.0', '551.0', '553.0',\n",
       "       '555.0', '620.0', '630.0', '800.0', '802.0', '804.0', '1149.0',\n",
       "       '1503.0', '1531.0', '1.0', '9.0', '14.0', '31.0', '35.0', '37.0',\n",
       "       '39.0', '53.0', '57.0', '59.0', '61.0', '63.0', '65.0', '69.0',\n",
       "       '87.0', '91.0', '93.0', '95.0', '97.0', '99.0', '114.0', '120.0',\n",
       "       '122.0', '124.0', '126.0', '128.0', '130.0', '134.0', '136.0',\n",
       "       '138.0', '140.0', '142.0', '144.0', '146.0', '148.0', '152.0',\n",
       "       '154.0', '158.0', '188.0', '201.0', '203.0', '205.0', '207.0',\n",
       "       '209.0', '211.0', '213.0', '215.0', '217.0', '219.0', '221.0',\n",
       "       '231.0', '232.0', '235.0', '237.0', '239.0', '241.0', '251.0',\n",
       "       '257.0', '259.0', '261.0', '263.0', '265.0', '267.0', '269.0',\n",
       "       '271.0', '273.0', '275.0', '277.0', '279.0', '281.0', '283.0',\n",
       "       '285.0', '287.0', '289.0', '291.0', '293.0', '295.0', '297.0',\n",
       "       '300.0', '302.0', '304.0', '306.0', '308.0', '312.0', '314.0',\n",
       "       '316.0', '318.0', '320.0', '322.0', '324.0', '326.0', '328.0',\n",
       "       '330.0', '334.0', '336.0', '340.0', '342.0', '344.0', '346.0',\n",
       "       '348.0', '350.0', '352.0', '366.0', '380.0', '382.0', '384.0',\n",
       "       '386.0', '388.0', '390.0', '404.0', '406.0', '410.0', '414.0',\n",
       "       '430.0', '432.0', '434.0', '439.0', '443.0', '445.0', '448.0',\n",
       "       '449.0', '455.0', '461.0', '481.0', '486.0', '492.0', '500.0',\n",
       "       '502.0', '510.0', '530.0', '532.0', '536.0', '546.0', '572.0',\n",
       "       '574.0', '576.0', '582.0', '592.0', '600.0', '602.0', '622.0',\n",
       "       '632.0', '638.0', '642.0', '702.0', '704.0', '706.0', '708.0',\n",
       "       '750.0', '752.0', '755.0', '757.0', '763.0', '801.0', '805.0',\n",
       "       '833.0', '841.0', '843.0', '864.0', '888.0', '890.0', '892.0',\n",
       "       '895.0', '897.0', '1088.0', '1091.0', '1117.0', '1126.0', '1128.0',\n",
       "       '1134.0', '1136.0', '1141.0', '1146.0', '1166.0', '1170.0',\n",
       "       '1176.0', '1178.0', '1186.0', '1188.0', '1191.0', '1193.0',\n",
       "       '1197.0', '1199.0', '1222.0', '1224.0', '1226.0', '1241.0',\n",
       "       '1243.0', '1246.0', '1247.0', '1259.0', '1267.0', '1269.0',\n",
       "       '1277.0', '1279.0', '1281.0', '1446.0', '2370.0', '2372.0',\n",
       "       '2374.0', '2474.0', '7811.0', '7813.0', '7899.0', '7911.0',\n",
       "       '1101.0', '1102.0', '1106.0', '1230.0', '1235.0', '1236.0',\n",
       "       '1237.0', '1238.0', '1239.0', '1261.0', '33.0', '43.0', '50.0',\n",
       "       '54.0', '200.0', '202.0', '402.0', '700.0', '1031.0', '1033.0',\n",
       "       '4.0', '6.0', '8.0', '10.0', '26.0', '32.0', '52.0', '86.0',\n",
       "       '88.0', '110.0', '112.0', '253.0', '255.0', '301.0', '305.0',\n",
       "       '307.0', '400.0'], dtype=object)"
      ]
     },
     "execution_count": 56,
     "metadata": {},
     "output_type": "execute_result"
    }
   ],
   "source": [
    "df_initial['Vlo-O'].unique()"
   ]
  },
  {
   "cell_type": "code",
   "execution_count": 57,
   "metadata": {},
   "outputs": [
    {
     "data": {
      "text/plain": [
       "array(['226', '912', '940', '92', '93', '401', '11', '1011', '1281',\n",
       "       '1283', '1285', '1287', '1289', '1291', '2291', '98', '116', '176',\n",
       "       '240', '295', '689', '250', '112', '118', '174', '249', '276',\n",
       "       '495', '4495', '146', '7661', '7663', '9245', '9268', '9362',\n",
       "       '6830', '702', '624', '28', '846', '709', '741', '8021', '8023',\n",
       "       '8027', '8029', '8069', '8073', '8075', '8099', '8125', '8137',\n",
       "       '8160', '8161', '9601', '9615', '9651', '9653', '9661', '9689',\n",
       "       '9782', '9623', '1', '3', '7', '9', '13', '15', '17', '21', '23',\n",
       "       '25', '41', '43', '51', '53', '55', '61', '71', '73', '75', '81',\n",
       "       '83', '102', '104', '106', '108', '110', '120', '122', '128',\n",
       "       '130', '132', '134', '140', '142', '150', '156', '160', '162',\n",
       "       '164', '166', '170', '172', '180', '182', '184', '186', '188',\n",
       "       '190', '192', '194', '196', '501', '503', '507', '521', '531',\n",
       "       '551', '800', '802', '804', '1083', '14', '31', '35', '37', '57',\n",
       "       '65', '67', '69', '89', '91', '97', '114', '124', '126', '136',\n",
       "       '138', '144', '148', '152', '154', '168', '178', '201', '203',\n",
       "       '207', '209', '211', '213', '215', '217', '219', '221', '231',\n",
       "       '233', '235', '237', '239', '241', '247', '251', '257', '259',\n",
       "       '261', '263', '265', '267', '269', '271', '273', '275', '277',\n",
       "       '279', '281', '283', '285', '287', '289', '291', '293', '297',\n",
       "       '300', '302', '304', '306', '308', '312', '314', '318', '320',\n",
       "       '322', '324', '326', '328', '330', '332', '334', '336', '338',\n",
       "       '340', '342', '344', '346', '348', '350', '366', '374', '380',\n",
       "       '382', '384', '386', '388', '396', '403', '405', '439', '443',\n",
       "       '445', '449', '451', '455', '461', '481', '500', '502', '504',\n",
       "       '510', '530', '532', '534', '546', '572', '574', '576', '582',\n",
       "       '592', '600', '602', '622', '632', '642', '646', '648', '650',\n",
       "       '704', '708', '750', '752', '760', '772', '776', '778', '798',\n",
       "       '801', '833', '841', '843', '845', '849', '900', '902', '906',\n",
       "       '910', '930', '932', '934', '942', '952', '954', '968', '970',\n",
       "       '972', '986', '988', '991', '993', '1320', '1322', '1326', '1334',\n",
       "       '1357', '1359', '1446', '1498', '2632', '2636', '2638', '2640',\n",
       "       '2650', '2702', '4501', '4503', '1003', '1004', '1005', '1302',\n",
       "       '1340', '200', '700', '1704', '33', '59', '95', '243', '634',\n",
       "       '1200', '1202', '1300', '1071', '99', '158', '198', '205', '376',\n",
       "       '378', '404', '406', '410', '414', '430', '432', '434', '438',\n",
       "       '486', '492', '536', '638', '640', '644', '864', '890', '892',\n",
       "       '1122', '1126', '1151', '1363', '1946', '2370', '2372', '2374',\n",
       "       '7811', '7813', '1165', '1301', '1906', '204', '9625', '8665',\n",
       "       '4950', '45', '100', '523', '1025', '4000', '63', '352', '354',\n",
       "       '452', '460', '636', '674', '888', '895', '897', '1108', '1124',\n",
       "       '1128', '1236', '1248', '2364', '2366', '2378', '2474', '2478',\n",
       "       '1050', '1051', '1052', '1061', '1101', '1102', '1104', '1130',\n",
       "       '1159', '1230', '202', '989P', '3000', '9000', '459', '483',\n",
       "       '1114', '1168', '1238', '1239', '1261', '1107', '1140', '1167',\n",
       "       '1271', '1031', '1700', '940P', '9659', '1551', '1800', '358',\n",
       "       '1103', '1111', '2518', '7959', '400', '402', '2297', '9244',\n",
       "       '9246', '9247', '9261', '9272', '9673', '9956', '9600', '9629',\n",
       "       '9662', '9701', '9955', '5', '77', '553', '316', '368', '372',\n",
       "       '470', '506', '604', '1136', '1158', '1242', '1244', '2368',\n",
       "       '2486', '1105', '1106', '1113', '1115', '1132', '1155', '1166',\n",
       "       '2488', '1400', '1033', '4', '8', '26', '22', '1927', '7721',\n",
       "       '591P', '846A', '8519', '8525', '8542', '9622', '356', '1138',\n",
       "       '1148', '1041', '6', '32', '50', '52', '86', '88', '9301', '9303',\n",
       "       '47', '60', '1234', '1250', '1241', '1034', '1035', '1043', '7704',\n",
       "       '10', '253', '1502', '8083', '8131', '9851', '27', '543', '1198',\n",
       "       '39', '87', '390', '448', '664', '805', '1054', '1065', '1116',\n",
       "       '1121', '1146', '1154', '1188', '1193', '1218', '1222', '1224',\n",
       "       '1226', '1228', '1235', '1237', '1249', '1260', '1262', '1264',\n",
       "       '1428', '7899', '1142', '1240', '2600', '30', '2092', '2093',\n",
       "       '3624', '9643', '9461', '9510', '9540', '1104A', '706', '1088',\n",
       "       '1091', '1099', '1134', '1169', '1170', '1195', '1199', '1243',\n",
       "       '1251', '1257', '1277', '1279', '1233', '54', '1600', '2287',\n",
       "       '4118', '9289', '85', '555', '620', '630', '1149', '1503', '1531',\n",
       "       '232', '755', '757', '763', '1117', '1141', '1176', '1178', '1186',\n",
       "       '1191', '1197', '1246', '1247', '1259', '1267', '1269', '7911',\n",
       "       '255', '301', '305', '307'], dtype=object)"
      ]
     },
     "execution_count": 57,
     "metadata": {},
     "output_type": "execute_result"
    }
   ],
   "source": [
    "df_initial['Vlo-I'].unique()"
   ]
  },
  {
   "cell_type": "code",
   "execution_count": 58,
   "metadata": {},
   "outputs": [
    {
     "data": {
      "text/plain": [
       "Fecha-I      53232\n",
       "Vlo-I          581\n",
       "Des-I           61\n",
       "Emp-I           30\n",
       "Fecha-O      62742\n",
       "Vlo-O          444\n",
       "Des-O           60\n",
       "Emp-O           32\n",
       "DIA             31\n",
       "MES             12\n",
       "DIANOM           7\n",
       "TIPOVUELO        2\n",
       "OPERA           23\n",
       "SIGLADES        59\n",
       "dtype: int64"
      ]
     },
     "execution_count": 58,
     "metadata": {},
     "output_type": "execute_result"
    }
   ],
   "source": [
    "# Se pudo observar que algunos valores de 'Vlo-O' tienen numeros\n",
    "# almacenados con decimales (.0). Por esto 'Vlo-O' tiene 857 valores\n",
    "# unicos y 'Vlo-I' tiene solo 581 valores unicos\n",
    "\n",
    "# Remplazar '.0' en 'Vlo-O'\n",
    "df_initial['Vlo-O'] = df_initial['Vlo-O'].str.replace('.0','')\n",
    "df_initial.nunique()"
   ]
  },
  {
   "cell_type": "code",
   "execution_count": 66,
   "metadata": {},
   "outputs": [
    {
     "data": {
      "text/plain": [
       "array(['226', '912', '9', '92', '93', '1', '11', '1281', '1283', '1285',\n",
       "       '1287', '1289', '1291', '2291', '98', '116', '176', '2', '295',\n",
       "       '689', '112', '118', '174', '249', '276', '495', '4495', '146',\n",
       "       '7661', '7663', '9245', '9268', '9362', '68', '624', '28', '846',\n",
       "       '741', '21', '23', '27', '29', '69', '73', '75', '99', '8125',\n",
       "       '8137', '81', '8161', '91', '9615', '9651', '9653', '9661', '9689',\n",
       "       '9782', '9623', '3', '7', '13', '15', '17', '25', '41', '43', '51',\n",
       "       '53', '55', '61', '71', '83', '4', '6', '8', '122', '128', '132',\n",
       "       '134', '142', '156', '162', '164', '166', '172', '182', '184',\n",
       "       '186', '188', '192', '194', '196', '521', '531', '551', '0', '14',\n",
       "       '31', '35', '37', '57', '65', '67', '89', '97', '114', '124',\n",
       "       '126', '136', '138', '144', '148', '152', '154', '168', '178',\n",
       "       '211', '213', '215', '217', '219', '221', '231', '233', '235',\n",
       "       '237', '239', '241', '247', '251', '257', '259', '261', '263',\n",
       "       '265', '267', '269', '271', '273', '275', '277', '279', '281',\n",
       "       '283', '285', '287', '289', '291', '293', '297', '312', '314',\n",
       "       '318', '322', '324', '326', '328', '332', '334', '336', '338',\n",
       "       '342', '344', '346', '348', '366', '374', '382', '384', '386',\n",
       "       '388', '396', '5', '439', '443', '445', '449', '451', '455', '461',\n",
       "       '481', '532', '534', '546', '572', '574', '576', '582', '592',\n",
       "       '622', '632', '642', '646', '648', '752', '772', '776', '778',\n",
       "       '798', '833', '841', '843', '845', '849', '932', '934', '942',\n",
       "       '952', '954', '968', '972', '986', '988', '991', '993', '1322',\n",
       "       '1326', '1334', '1357', '1359', '1446', '1498', '2632', '2636',\n",
       "       '2638', '26', '22', '01', '03', '04', '05', '12', '10', '33', '59',\n",
       "       '95', '243', '1318', '634', '71R', '158', '198', '376', '378',\n",
       "       '414', '432', '434', '438', '486', '492', '1346', '536', '638',\n",
       "       '644', '864', '892', '1122', '1126', '1151', '1363', '1361',\n",
       "       '1946', '2372', '2374', '7811', '7813', '1R', '1165', '16', '9625',\n",
       "       '8665', '49', '45', '523', '', '63', '352', '354', '452', '636',\n",
       "       '674', '888', '895', '897', '18', '1124', '1128', '1236', '1248',\n",
       "       '2364', '2366', '2378', '2474', '2478', '52', '1159', '43R', '989',\n",
       "       '1A', '1B', '2R', '459', '483', '1114', '1168', '1238', '1239',\n",
       "       '1261', '114R', '622R', '1167', '1271', '9659', '1551', '358',\n",
       "       '492R', '1111', '2518', '7959', '2297', '1297', '4118', '9858',\n",
       "       '9244', '9246', '9247', '9261', '9272', '2726', '9673', '9956',\n",
       "       '90', '9629', '9662', '9955', '77', '553', '316', '368', '372',\n",
       "       '1155', '2486', '1136', '1158', '1242', '1244', '2368', '1113',\n",
       "       '338R', '1115', '1132', '1166', '2488', '1927', '7721', '922',\n",
       "       '5924', '591P', '2763', '24', '8519', '8525', '8542', '9622',\n",
       "       '356', '1138', '1148', '32', '86', '88', '846A', '47', '1234',\n",
       "       '1241', '34', '74', '253', '8131', '9851', '543', '1198', '39',\n",
       "       '87', '448', '664', '54', '1116', '1121', '1146', '1154', '1188',\n",
       "       '1193', '1218', '1222', '1224', '1226', '1228', '1235', '1237',\n",
       "       '1249', '1262', '1264', '1428', '7899', '1142', '20', '3624',\n",
       "       '9643', '9461', '1134', '1169', '1195', '1199', '1243', '1251',\n",
       "       '1257', '1277', '1279', '7R', '1233', '2287', '9289', '85', '555',\n",
       "       '1149', '1531', '232', '755', '757', '763', '1117', '1141', '1176',\n",
       "       '1178', '1186', '1191', '1197', '1246', '1247', '1259', '1267',\n",
       "       '1269', '7911', '255'], dtype=object)"
      ]
     },
     "execution_count": 66,
     "metadata": {},
     "output_type": "execute_result"
    }
   ],
   "source": [
    "# 'Vlo-O' pasó de 857 valores unicos a 444\n",
    "\n",
    "# Problemas de los decimales solucionado\n",
    "df_initial['Vlo-O'].unique()"
   ]
  },
  {
   "cell_type": "markdown",
   "metadata": {},
   "source": [
    "#### Concordancia de fechas"
   ]
  },
  {
   "cell_type": "code",
   "execution_count": 65,
   "metadata": {},
   "outputs": [
    {
     "data": {
      "text/plain": [
       "array([ 1,  2,  3,  4,  5,  7,  8, 10, 12, 14, 16, 18, 21, 23, 25, 28, 30,\n",
       "        6,  9, 11, 13, 15, 17, 19, 22, 24, 26, 27, 29, 31, 20],\n",
       "      dtype=int32)"
      ]
     },
     "execution_count": 65,
     "metadata": {},
     "output_type": "execute_result"
    }
   ],
   "source": [
    "# 'DIA' está bien\n",
    "df_initial['DIA'].unique()"
   ]
  },
  {
   "cell_type": "code",
   "execution_count": 62,
   "metadata": {},
   "outputs": [
    {
     "data": {
      "text/plain": [
       "array([ 1,  2,  3,  4,  5,  6,  7,  8,  9, 10, 11, 12], dtype=int32)"
      ]
     },
     "execution_count": 62,
     "metadata": {},
     "output_type": "execute_result"
    }
   ],
   "source": [
    "# 'MES' está bien\n",
    "df_initial['MES'].unique()"
   ]
  },
  {
   "cell_type": "code",
   "execution_count": 67,
   "metadata": {},
   "outputs": [
    {
     "data": {
      "text/plain": [
       "array(['Domingo', 'Lunes', 'Martes', 'Miercoles', 'Jueves', 'Sabado',\n",
       "       'Viernes'], dtype=object)"
      ]
     },
     "execution_count": 67,
     "metadata": {},
     "output_type": "execute_result"
    }
   ],
   "source": [
    "# 'DIANOM' está bien\n",
    "df_initial['DIANOM'].unique()"
   ]
  },
  {
   "cell_type": "code",
   "execution_count": 54,
   "metadata": {},
   "outputs": [
    {
     "data": {
      "text/plain": [
       "str"
      ]
     },
     "execution_count": 54,
     "metadata": {},
     "output_type": "execute_result"
    }
   ],
   "source": []
  },
  {
   "cell_type": "code",
   "execution_count": null,
   "metadata": {},
   "outputs": [
    {
     "ename": "",
     "evalue": "",
     "output_type": "error",
     "traceback": [
      "\u001b[1;31mnotebook controller is DISPOSED. \n",
      "\u001b[1;31mView Jupyter <a href='command:jupyter.viewOutput'>log</a> for further details."
     ]
    }
   ],
   "source": [
    "Cambio de diudad programado - operacion"
   ]
  },
  {
   "cell_type": "code",
   "execution_count": null,
   "metadata": {},
   "outputs": [
    {
     "ename": "",
     "evalue": "",
     "output_type": "error",
     "traceback": [
      "\u001b[1;31mnotebook controller is DISPOSED. \n",
      "\u001b[1;31mView Jupyter <a href='command:jupyter.viewOutput'>log</a> for further details."
     ]
    }
   ],
   "source": []
  },
  {
   "cell_type": "code",
   "execution_count": null,
   "metadata": {},
   "outputs": [
    {
     "ename": "",
     "evalue": "",
     "output_type": "error",
     "traceback": [
      "\u001b[1;31mnotebook controller is DISPOSED. \n",
      "\u001b[1;31mView Jupyter <a href='command:jupyter.viewOutput'>log</a> for further details."
     ]
    }
   ],
   "source": [
    "# Adversarial Validation\n",
    "# roc_auc_score\n",
    "\n",
    "# Data makes the difference, not the model\n"
   ]
  },
  {
   "cell_type": "code",
   "execution_count": null,
   "metadata": {},
   "outputs": [
    {
     "ename": "",
     "evalue": "",
     "output_type": "error",
     "traceback": [
      "\u001b[1;31mnotebook controller is DISPOSED. \n",
      "\u001b[1;31mView Jupyter <a href='command:jupyter.viewOutput'>log</a> for further details."
     ]
    }
   ],
   "source": []
  },
  {
   "cell_type": "code",
   "execution_count": null,
   "metadata": {},
   "outputs": [
    {
     "ename": "",
     "evalue": "",
     "output_type": "error",
     "traceback": [
      "\u001b[1;31mnotebook controller is DISPOSED. \n",
      "\u001b[1;31mView Jupyter <a href='command:jupyter.viewOutput'>log</a> for further details."
     ]
    }
   ],
   "source": []
  },
  {
   "cell_type": "code",
   "execution_count": null,
   "metadata": {},
   "outputs": [
    {
     "ename": "",
     "evalue": "",
     "output_type": "error",
     "traceback": [
      "\u001b[1;31mnotebook controller is DISPOSED. \n",
      "\u001b[1;31mView Jupyter <a href='command:jupyter.viewOutput'>log</a> for further details."
     ]
    }
   ],
   "source": []
  },
  {
   "cell_type": "code",
   "execution_count": null,
   "metadata": {},
   "outputs": [
    {
     "ename": "",
     "evalue": "",
     "output_type": "error",
     "traceback": [
      "\u001b[1;31mnotebook controller is DISPOSED. \n",
      "\u001b[1;31mView Jupyter <a href='command:jupyter.viewOutput'>log</a> for further details."
     ]
    }
   ],
   "source": []
  },
  {
   "cell_type": "code",
   "execution_count": null,
   "metadata": {},
   "outputs": [
    {
     "ename": "",
     "evalue": "",
     "output_type": "error",
     "traceback": [
      "\u001b[1;31mnotebook controller is DISPOSED. \n",
      "\u001b[1;31mView Jupyter <a href='command:jupyter.viewOutput'>log</a> for further details."
     ]
    }
   ],
   "source": [
    "df_initial.to_pickle('df_2.pkl')"
   ]
  }
 ],
 "metadata": {
  "kernelspec": {
   "display_name": "Python 3.10.6 ('venv-miguel')",
   "language": "python",
   "name": "python3"
  },
  "language_info": {
   "codemirror_mode": {
    "name": "ipython",
    "version": 3
   },
   "file_extension": ".py",
   "mimetype": "text/x-python",
   "name": "python",
   "nbconvert_exporter": "python",
   "pygments_lexer": "ipython3",
   "version": "3.10.6"
  },
  "orig_nbformat": 4,
  "vscode": {
   "interpreter": {
    "hash": "114ad33c5c922534472adb42e1337b209e0527f692d0689c9bab1e25ac076e47"
   }
  }
 },
 "nbformat": 4,
 "nbformat_minor": 2
}
