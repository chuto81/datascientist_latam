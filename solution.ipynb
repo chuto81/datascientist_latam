{
 "cells": [
  {
   "cell_type": "code",
   "execution_count": 2,
   "metadata": {},
   "outputs": [],
   "source": [
    "#! pip install -r requirements.txt"
   ]
  },
  {
   "cell_type": "markdown",
   "metadata": {},
   "source": [
    "# Importando librerias"
   ]
  },
  {
   "cell_type": "code",
   "execution_count": 3,
   "metadata": {},
   "outputs": [],
   "source": [
    "import pandas as pd\n",
    "import matplotlib.pyplot as plt\n",
    "import seaborn as sns\n",
    "import datetime as dt\n",
    "\n",
    "import warnings\n",
    "warnings.filterwarnings('ignore')\n",
    "\n",
    "%matplotlib inline"
   ]
  },
  {
   "cell_type": "markdown",
   "metadata": {},
   "source": [
    "# Importando datos"
   ]
  },
  {
   "cell_type": "code",
   "execution_count": 4,
   "metadata": {},
   "outputs": [
    {
     "data": {
      "text/html": [
       "<div>\n",
       "<style scoped>\n",
       "    .dataframe tbody tr th:only-of-type {\n",
       "        vertical-align: middle;\n",
       "    }\n",
       "\n",
       "    .dataframe tbody tr th {\n",
       "        vertical-align: top;\n",
       "    }\n",
       "\n",
       "    .dataframe thead th {\n",
       "        text-align: right;\n",
       "    }\n",
       "</style>\n",
       "<table border=\"1\" class=\"dataframe\">\n",
       "  <thead>\n",
       "    <tr style=\"text-align: right;\">\n",
       "      <th></th>\n",
       "      <th>Fecha-I</th>\n",
       "      <th>Vlo-I</th>\n",
       "      <th>Ori-I</th>\n",
       "      <th>Des-I</th>\n",
       "      <th>Emp-I</th>\n",
       "      <th>Fecha-O</th>\n",
       "      <th>Vlo-O</th>\n",
       "      <th>Ori-O</th>\n",
       "      <th>Des-O</th>\n",
       "      <th>Emp-O</th>\n",
       "      <th>DIA</th>\n",
       "      <th>MES</th>\n",
       "      <th>AÑO</th>\n",
       "      <th>DIANOM</th>\n",
       "      <th>TIPOVUELO</th>\n",
       "      <th>OPERA</th>\n",
       "      <th>SIGLAORI</th>\n",
       "      <th>SIGLADES</th>\n",
       "    </tr>\n",
       "  </thead>\n",
       "  <tbody>\n",
       "    <tr>\n",
       "      <th>0</th>\n",
       "      <td>2017-01-01 23:30:00</td>\n",
       "      <td>226</td>\n",
       "      <td>SCEL</td>\n",
       "      <td>KMIA</td>\n",
       "      <td>AAL</td>\n",
       "      <td>2017-01-01 23:33:00</td>\n",
       "      <td>226</td>\n",
       "      <td>SCEL</td>\n",
       "      <td>KMIA</td>\n",
       "      <td>AAL</td>\n",
       "      <td>1</td>\n",
       "      <td>1</td>\n",
       "      <td>2017</td>\n",
       "      <td>Domingo</td>\n",
       "      <td>I</td>\n",
       "      <td>American Airlines</td>\n",
       "      <td>Santiago</td>\n",
       "      <td>Miami</td>\n",
       "    </tr>\n",
       "    <tr>\n",
       "      <th>1</th>\n",
       "      <td>2017-01-02 23:30:00</td>\n",
       "      <td>226</td>\n",
       "      <td>SCEL</td>\n",
       "      <td>KMIA</td>\n",
       "      <td>AAL</td>\n",
       "      <td>2017-01-02 23:39:00</td>\n",
       "      <td>226</td>\n",
       "      <td>SCEL</td>\n",
       "      <td>KMIA</td>\n",
       "      <td>AAL</td>\n",
       "      <td>2</td>\n",
       "      <td>1</td>\n",
       "      <td>2017</td>\n",
       "      <td>Lunes</td>\n",
       "      <td>I</td>\n",
       "      <td>American Airlines</td>\n",
       "      <td>Santiago</td>\n",
       "      <td>Miami</td>\n",
       "    </tr>\n",
       "    <tr>\n",
       "      <th>2</th>\n",
       "      <td>2017-01-03 23:30:00</td>\n",
       "      <td>226</td>\n",
       "      <td>SCEL</td>\n",
       "      <td>KMIA</td>\n",
       "      <td>AAL</td>\n",
       "      <td>2017-01-03 23:39:00</td>\n",
       "      <td>226</td>\n",
       "      <td>SCEL</td>\n",
       "      <td>KMIA</td>\n",
       "      <td>AAL</td>\n",
       "      <td>3</td>\n",
       "      <td>1</td>\n",
       "      <td>2017</td>\n",
       "      <td>Martes</td>\n",
       "      <td>I</td>\n",
       "      <td>American Airlines</td>\n",
       "      <td>Santiago</td>\n",
       "      <td>Miami</td>\n",
       "    </tr>\n",
       "    <tr>\n",
       "      <th>3</th>\n",
       "      <td>2017-01-04 23:30:00</td>\n",
       "      <td>226</td>\n",
       "      <td>SCEL</td>\n",
       "      <td>KMIA</td>\n",
       "      <td>AAL</td>\n",
       "      <td>2017-01-04 23:33:00</td>\n",
       "      <td>226</td>\n",
       "      <td>SCEL</td>\n",
       "      <td>KMIA</td>\n",
       "      <td>AAL</td>\n",
       "      <td>4</td>\n",
       "      <td>1</td>\n",
       "      <td>2017</td>\n",
       "      <td>Miercoles</td>\n",
       "      <td>I</td>\n",
       "      <td>American Airlines</td>\n",
       "      <td>Santiago</td>\n",
       "      <td>Miami</td>\n",
       "    </tr>\n",
       "    <tr>\n",
       "      <th>4</th>\n",
       "      <td>2017-01-05 23:30:00</td>\n",
       "      <td>226</td>\n",
       "      <td>SCEL</td>\n",
       "      <td>KMIA</td>\n",
       "      <td>AAL</td>\n",
       "      <td>2017-01-05 23:28:00</td>\n",
       "      <td>226</td>\n",
       "      <td>SCEL</td>\n",
       "      <td>KMIA</td>\n",
       "      <td>AAL</td>\n",
       "      <td>5</td>\n",
       "      <td>1</td>\n",
       "      <td>2017</td>\n",
       "      <td>Jueves</td>\n",
       "      <td>I</td>\n",
       "      <td>American Airlines</td>\n",
       "      <td>Santiago</td>\n",
       "      <td>Miami</td>\n",
       "    </tr>\n",
       "  </tbody>\n",
       "</table>\n",
       "</div>"
      ],
      "text/plain": [
       "               Fecha-I Vlo-I Ori-I Des-I Emp-I              Fecha-O Vlo-O  \\\n",
       "0  2017-01-01 23:30:00   226  SCEL  KMIA   AAL  2017-01-01 23:33:00   226   \n",
       "1  2017-01-02 23:30:00   226  SCEL  KMIA   AAL  2017-01-02 23:39:00   226   \n",
       "2  2017-01-03 23:30:00   226  SCEL  KMIA   AAL  2017-01-03 23:39:00   226   \n",
       "3  2017-01-04 23:30:00   226  SCEL  KMIA   AAL  2017-01-04 23:33:00   226   \n",
       "4  2017-01-05 23:30:00   226  SCEL  KMIA   AAL  2017-01-05 23:28:00   226   \n",
       "\n",
       "  Ori-O Des-O Emp-O DIA MES   AÑO     DIANOM TIPOVUELO              OPERA  \\\n",
       "0  SCEL  KMIA   AAL   1   1  2017    Domingo         I  American Airlines   \n",
       "1  SCEL  KMIA   AAL   2   1  2017      Lunes         I  American Airlines   \n",
       "2  SCEL  KMIA   AAL   3   1  2017     Martes         I  American Airlines   \n",
       "3  SCEL  KMIA   AAL   4   1  2017  Miercoles         I  American Airlines   \n",
       "4  SCEL  KMIA   AAL   5   1  2017     Jueves         I  American Airlines   \n",
       "\n",
       "   SIGLAORI SIGLADES  \n",
       "0  Santiago    Miami  \n",
       "1  Santiago    Miami  \n",
       "2  Santiago    Miami  \n",
       "3  Santiago    Miami  \n",
       "4  Santiago    Miami  "
      ]
     },
     "execution_count": 4,
     "metadata": {},
     "output_type": "execute_result"
    }
   ],
   "source": [
    "'''\n",
    "Cuando comencé a trabajar con el archivo 'dataset_SCL.csv' proporcionado y evidencié que\n",
    "algunas lineas contenían el caracter \", sencillo o triple. Esto crea un error en esas lineas\n",
    "al ser leido como pandas.DataFrame. Por ejemplo, las lineas 17.059 y 17.060 vienen con ese\n",
    "problema.\n",
    "\n",
    "Decidí elimnar esas lineas, en la lectura de los datos usando, el comment='\"'.\n",
    "El archivo original tiene 68.206 y quedó con 68.167.\n",
    "Se eliminaron solamente 39 lineas, un tamaño infimo de datos para el tamaño original.\n",
    "\n",
    "Usé dtype='object' porque siendo un desafio de clasificación, y dando una ojeada inicial \n",
    "a los datos, establezco que son pocos los tipos de datos diferentes a object.\n",
    "\n",
    "Serian datetime solamente 'Fecha-I' y 'Fecha-O'.\n",
    "Serian solamente int 'DIA', 'MES' y 'AÑO'\n",
    "'''\n",
    "\n",
    "df_initial = pd.read_csv('dataset_SCL.csv', dtype='object', comment='\"', encoding='utf-8')\n",
    "df_initial.head()"
   ]
  },
  {
   "cell_type": "code",
   "execution_count": 5,
   "metadata": {},
   "outputs": [
    {
     "name": "stdout",
     "output_type": "stream",
     "text": [
      "<class 'pandas.core.frame.DataFrame'>\n",
      "RangeIndex: 68167 entries, 0 to 68166\n",
      "Data columns (total 18 columns):\n",
      " #   Column     Non-Null Count  Dtype \n",
      "---  ------     --------------  ----- \n",
      " 0   Fecha-I    68167 non-null  object\n",
      " 1   Vlo-I      68167 non-null  object\n",
      " 2   Ori-I      68167 non-null  object\n",
      " 3   Des-I      68167 non-null  object\n",
      " 4   Emp-I      68167 non-null  object\n",
      " 5   Fecha-O    68167 non-null  object\n",
      " 6   Vlo-O      68166 non-null  object\n",
      " 7   Ori-O      68167 non-null  object\n",
      " 8   Des-O      68167 non-null  object\n",
      " 9   Emp-O      68167 non-null  object\n",
      " 10  DIA        68167 non-null  object\n",
      " 11  MES        68167 non-null  object\n",
      " 12  AÑO        68167 non-null  object\n",
      " 13  DIANOM     68167 non-null  object\n",
      " 14  TIPOVUELO  68167 non-null  object\n",
      " 15  OPERA      68167 non-null  object\n",
      " 16  SIGLAORI   68167 non-null  object\n",
      " 17  SIGLADES   68167 non-null  object\n",
      "dtypes: object(18)\n",
      "memory usage: 9.4+ MB\n"
     ]
    }
   ],
   "source": [
    "# Comprobando que todas las columnas quedaron tipo object\n",
    "df_initial.info()"
   ]
  },
  {
   "cell_type": "markdown",
   "metadata": {},
   "source": [
    "# Preparación y limpieza de los datos"
   ]
  },
  {
   "cell_type": "markdown",
   "metadata": {},
   "source": [
    "## Arreglando problemas de tipo de datos"
   ]
  },
  {
   "cell_type": "markdown",
   "metadata": {},
   "source": [
    "### Fechas"
   ]
  },
  {
   "cell_type": "code",
   "execution_count": 6,
   "metadata": {},
   "outputs": [
    {
     "name": "stdout",
     "output_type": "stream",
     "text": [
      "<class 'pandas.core.frame.DataFrame'>\n",
      "RangeIndex: 68167 entries, 0 to 68166\n",
      "Data columns (total 18 columns):\n",
      " #   Column     Non-Null Count  Dtype         \n",
      "---  ------     --------------  -----         \n",
      " 0   Fecha-I    68167 non-null  datetime64[ns]\n",
      " 1   Vlo-I      68167 non-null  object        \n",
      " 2   Ori-I      68167 non-null  object        \n",
      " 3   Des-I      68167 non-null  object        \n",
      " 4   Emp-I      68167 non-null  object        \n",
      " 5   Fecha-O    68167 non-null  datetime64[ns]\n",
      " 6   Vlo-O      68166 non-null  object        \n",
      " 7   Ori-O      68167 non-null  object        \n",
      " 8   Des-O      68167 non-null  object        \n",
      " 9   Emp-O      68167 non-null  object        \n",
      " 10  DIA        68167 non-null  object        \n",
      " 11  MES        68167 non-null  object        \n",
      " 12  AÑO        68167 non-null  object        \n",
      " 13  DIANOM     68167 non-null  object        \n",
      " 14  TIPOVUELO  68167 non-null  object        \n",
      " 15  OPERA      68167 non-null  object        \n",
      " 16  SIGLAORI   68167 non-null  object        \n",
      " 17  SIGLADES   68167 non-null  object        \n",
      "dtypes: datetime64[ns](2), object(16)\n",
      "memory usage: 9.4+ MB\n"
     ]
    }
   ],
   "source": [
    "# Transformando 'fechas' a datetime\n",
    "df_initial['Fecha-I'] =  pd.to_datetime(df_initial['Fecha-I'], format='%Y-%m-%d %H:%M:%S')\n",
    "df_initial['Fecha-O'] =  pd.to_datetime(df_initial['Fecha-O'], format='%Y-%m-%d %H:%M:%S')\n",
    "df_initial.info()"
   ]
  },
  {
   "cell_type": "markdown",
   "metadata": {},
   "source": [
    "### Enteros"
   ]
  },
  {
   "cell_type": "code",
   "execution_count": 7,
   "metadata": {},
   "outputs": [
    {
     "name": "stdout",
     "output_type": "stream",
     "text": [
      "<class 'pandas.core.frame.DataFrame'>\n",
      "RangeIndex: 68167 entries, 0 to 68166\n",
      "Data columns (total 18 columns):\n",
      " #   Column     Non-Null Count  Dtype         \n",
      "---  ------     --------------  -----         \n",
      " 0   Fecha-I    68167 non-null  datetime64[ns]\n",
      " 1   Vlo-I      68167 non-null  object        \n",
      " 2   Ori-I      68167 non-null  object        \n",
      " 3   Des-I      68167 non-null  object        \n",
      " 4   Emp-I      68167 non-null  object        \n",
      " 5   Fecha-O    68167 non-null  datetime64[ns]\n",
      " 6   Vlo-O      68166 non-null  object        \n",
      " 7   Ori-O      68167 non-null  object        \n",
      " 8   Des-O      68167 non-null  object        \n",
      " 9   Emp-O      68167 non-null  object        \n",
      " 10  DIA        68167 non-null  int32         \n",
      " 11  MES        68167 non-null  int32         \n",
      " 12  AÑO        68167 non-null  int32         \n",
      " 13  DIANOM     68167 non-null  object        \n",
      " 14  TIPOVUELO  68167 non-null  object        \n",
      " 15  OPERA      68167 non-null  object        \n",
      " 16  SIGLAORI   68167 non-null  object        \n",
      " 17  SIGLADES   68167 non-null  object        \n",
      "dtypes: datetime64[ns](2), int32(3), object(13)\n",
      "memory usage: 8.6+ MB\n"
     ]
    }
   ],
   "source": [
    "# Transformando 'DIA', 'MES' y 'AÑO', para tipo int\n",
    "df_initial = df_initial.astype({'DIA': 'int32', 'MES': 'int32', 'AÑO': 'int32'})\n",
    "df_initial.info()"
   ]
  },
  {
   "cell_type": "markdown",
   "metadata": {},
   "source": [
    "## Valores nulos"
   ]
  },
  {
   "cell_type": "code",
   "execution_count": 8,
   "metadata": {},
   "outputs": [
    {
     "data": {
      "text/plain": [
       "1"
      ]
     },
     "execution_count": 8,
     "metadata": {},
     "output_type": "execute_result"
    }
   ],
   "source": [
    "# Valores nulos?\n",
    "df_initial.isnull().sum().sum()"
   ]
  },
  {
   "cell_type": "code",
   "execution_count": 9,
   "metadata": {},
   "outputs": [
    {
     "data": {
      "text/html": [
       "<div>\n",
       "<style scoped>\n",
       "    .dataframe tbody tr th:only-of-type {\n",
       "        vertical-align: middle;\n",
       "    }\n",
       "\n",
       "    .dataframe tbody tr th {\n",
       "        vertical-align: top;\n",
       "    }\n",
       "\n",
       "    .dataframe thead th {\n",
       "        text-align: right;\n",
       "    }\n",
       "</style>\n",
       "<table border=\"1\" class=\"dataframe\">\n",
       "  <thead>\n",
       "    <tr style=\"text-align: right;\">\n",
       "      <th></th>\n",
       "      <th>Fecha-I</th>\n",
       "      <th>Vlo-I</th>\n",
       "      <th>Ori-I</th>\n",
       "      <th>Des-I</th>\n",
       "      <th>Emp-I</th>\n",
       "      <th>Fecha-O</th>\n",
       "      <th>Vlo-O</th>\n",
       "      <th>Ori-O</th>\n",
       "      <th>Des-O</th>\n",
       "      <th>Emp-O</th>\n",
       "      <th>DIA</th>\n",
       "      <th>MES</th>\n",
       "      <th>AÑO</th>\n",
       "      <th>DIANOM</th>\n",
       "      <th>TIPOVUELO</th>\n",
       "      <th>OPERA</th>\n",
       "      <th>SIGLAORI</th>\n",
       "      <th>SIGLADES</th>\n",
       "    </tr>\n",
       "  </thead>\n",
       "  <tbody>\n",
       "    <tr>\n",
       "      <th>6068</th>\n",
       "      <td>2017-01-19 11:00:00</td>\n",
       "      <td>200</td>\n",
       "      <td>SCEL</td>\n",
       "      <td>SPJC</td>\n",
       "      <td>LAW</td>\n",
       "      <td>2017-01-19 11:03:00</td>\n",
       "      <td>NaN</td>\n",
       "      <td>SCEL</td>\n",
       "      <td>SPJC</td>\n",
       "      <td>56R</td>\n",
       "      <td>19</td>\n",
       "      <td>1</td>\n",
       "      <td>2017</td>\n",
       "      <td>Jueves</td>\n",
       "      <td>I</td>\n",
       "      <td>Latin American Wings</td>\n",
       "      <td>Santiago</td>\n",
       "      <td>Lima</td>\n",
       "    </tr>\n",
       "  </tbody>\n",
       "</table>\n",
       "</div>"
      ],
      "text/plain": [
       "                 Fecha-I Vlo-I Ori-I Des-I Emp-I             Fecha-O Vlo-O  \\\n",
       "6068 2017-01-19 11:00:00   200  SCEL  SPJC   LAW 2017-01-19 11:03:00   NaN   \n",
       "\n",
       "     Ori-O Des-O Emp-O  DIA  MES   AÑO  DIANOM TIPOVUELO  \\\n",
       "6068  SCEL  SPJC   56R   19    1  2017  Jueves         I   \n",
       "\n",
       "                     OPERA  SIGLAORI SIGLADES  \n",
       "6068  Latin American Wings  Santiago     Lima  "
      ]
     },
     "execution_count": 9,
     "metadata": {},
     "output_type": "execute_result"
    }
   ],
   "source": [
    "# Fila del valor nulo?\n",
    "row_nan = df_initial[df_initial.isnull().any(1)]\n",
    "row_nan "
   ]
  },
  {
   "cell_type": "markdown",
   "metadata": {},
   "source": [
    "El valor nan está en la columna 'Vlo-O'."
   ]
  },
  {
   "cell_type": "code",
   "execution_count": 10,
   "metadata": {},
   "outputs": [],
   "source": [
    "# Colocaré el mismo valor de 'Vlo-I'\n",
    "df_initial.loc[6068,'Vlo-O']='200'"
   ]
  },
  {
   "cell_type": "code",
   "execution_count": 11,
   "metadata": {},
   "outputs": [
    {
     "data": {
      "text/plain": [
       "0"
      ]
     },
     "execution_count": 11,
     "metadata": {},
     "output_type": "execute_result"
    }
   ],
   "source": [
    "# Rectificando valores nulos?\n",
    "df_initial.isnull().sum().sum()\n",
    "\n",
    "# No hay valores nulos"
   ]
  },
  {
   "cell_type": "markdown",
   "metadata": {},
   "source": [
    "## Datos duplicados"
   ]
  },
  {
   "cell_type": "code",
   "execution_count": 12,
   "metadata": {},
   "outputs": [
    {
     "data": {
      "text/plain": [
       "False"
      ]
     },
     "execution_count": 12,
     "metadata": {},
     "output_type": "execute_result"
    }
   ],
   "source": [
    "# Existen datos duplicados?\n",
    "df_initial.duplicated().any()\n",
    "\n",
    "# No hay valores duplicados"
   ]
  },
  {
   "cell_type": "markdown",
   "metadata": {},
   "source": [
    "## Concordancia de la información"
   ]
  },
  {
   "cell_type": "markdown",
   "metadata": {},
   "source": [
    "### Cantidad de valores unicos"
   ]
  },
  {
   "cell_type": "markdown",
   "metadata": {},
   "source": [
    "La información contenida tiene concordar con lo que significa.\n",
    "\n",
    "Por ejemplo, encontrar una ciudad en tipo de vuelo, seria un problema de concordancia."
   ]
  },
  {
   "cell_type": "code",
   "execution_count": 13,
   "metadata": {},
   "outputs": [
    {
     "data": {
      "text/plain": [
       "Fecha-I      53232\n",
       "Vlo-I          581\n",
       "Ori-I            1\n",
       "Des-I           61\n",
       "Emp-I           30\n",
       "Fecha-O      62742\n",
       "Vlo-O          857\n",
       "Ori-O            1\n",
       "Des-O           60\n",
       "Emp-O           32\n",
       "DIA             31\n",
       "MES             12\n",
       "AÑO              2\n",
       "DIANOM           7\n",
       "TIPOVUELO        2\n",
       "OPERA           23\n",
       "SIGLAORI         1\n",
       "SIGLADES        59\n",
       "dtype: int64"
      ]
     },
     "execution_count": 13,
     "metadata": {},
     "output_type": "execute_result"
    }
   ],
   "source": [
    "# Para esto calculó la cantidad de datos unicos por columna\n",
    "df_initial.nunique()"
   ]
  },
  {
   "cell_type": "markdown",
   "metadata": {},
   "source": [
    "Tres columnas tienen valores unicos y se pueden eliminar.\n",
    "\n",
    "Estas tres columnas se refieren al origen de los vuelos.\n",
    "\n",
    "Todos los vuelos se originan desde Santiago."
   ]
  },
  {
   "cell_type": "code",
   "execution_count": 14,
   "metadata": {},
   "outputs": [],
   "source": [
    "df_initial.drop(['Ori-I', 'Ori-O', 'SIGLAORI'], axis=1, inplace=True)"
   ]
  },
  {
   "cell_type": "markdown",
   "metadata": {},
   "source": [
    "### AÑO"
   ]
  },
  {
   "cell_type": "markdown",
   "metadata": {},
   "source": [
    "Hay dos valores en 'AÑO', pero parece que las 'fechas' son solo de 2017"
   ]
  },
  {
   "cell_type": "code",
   "execution_count": 15,
   "metadata": {},
   "outputs": [
    {
     "data": {
      "text/plain": [
       "2017    68165\n",
       "2018        2\n",
       "Name: AÑO, dtype: int64"
      ]
     },
     "execution_count": 15,
     "metadata": {},
     "output_type": "execute_result"
    }
   ],
   "source": [
    "# Comprobar los años de las fechas\n",
    "df_initial['AÑO'].value_counts()"
   ]
  },
  {
   "cell_type": "markdown",
   "metadata": {},
   "source": [
    "Hay solo dos fechas con 'AÑO' de 2018"
   ]
  },
  {
   "cell_type": "code",
   "execution_count": 16,
   "metadata": {},
   "outputs": [
    {
     "data": {
      "text/html": [
       "<div>\n",
       "<style scoped>\n",
       "    .dataframe tbody tr th:only-of-type {\n",
       "        vertical-align: middle;\n",
       "    }\n",
       "\n",
       "    .dataframe tbody tr th {\n",
       "        vertical-align: top;\n",
       "    }\n",
       "\n",
       "    .dataframe thead th {\n",
       "        text-align: right;\n",
       "    }\n",
       "</style>\n",
       "<table border=\"1\" class=\"dataframe\">\n",
       "  <thead>\n",
       "    <tr style=\"text-align: right;\">\n",
       "      <th></th>\n",
       "      <th>Fecha-I</th>\n",
       "      <th>Vlo-I</th>\n",
       "      <th>Des-I</th>\n",
       "      <th>Emp-I</th>\n",
       "      <th>Fecha-O</th>\n",
       "      <th>Vlo-O</th>\n",
       "      <th>Des-O</th>\n",
       "      <th>Emp-O</th>\n",
       "      <th>DIA</th>\n",
       "      <th>MES</th>\n",
       "      <th>AÑO</th>\n",
       "      <th>DIANOM</th>\n",
       "      <th>TIPOVUELO</th>\n",
       "      <th>OPERA</th>\n",
       "      <th>SIGLADES</th>\n",
       "    </tr>\n",
       "  </thead>\n",
       "  <tbody>\n",
       "    <tr>\n",
       "      <th>66891</th>\n",
       "      <td>2017-12-31 23:55:00</td>\n",
       "      <td>602</td>\n",
       "      <td>KLAX</td>\n",
       "      <td>LAN</td>\n",
       "      <td>2018-01-01 00:02:00</td>\n",
       "      <td>602.0</td>\n",
       "      <td>KLAX</td>\n",
       "      <td>LAN</td>\n",
       "      <td>1</td>\n",
       "      <td>1</td>\n",
       "      <td>2018</td>\n",
       "      <td>Lunes</td>\n",
       "      <td>I</td>\n",
       "      <td>Grupo LATAM</td>\n",
       "      <td>Los Angeles</td>\n",
       "    </tr>\n",
       "    <tr>\n",
       "      <th>66920</th>\n",
       "      <td>2017-12-31 23:40:00</td>\n",
       "      <td>622</td>\n",
       "      <td>MMMX</td>\n",
       "      <td>LAN</td>\n",
       "      <td>2018-01-01 00:12:00</td>\n",
       "      <td>622.0</td>\n",
       "      <td>MMMX</td>\n",
       "      <td>LAN</td>\n",
       "      <td>1</td>\n",
       "      <td>1</td>\n",
       "      <td>2018</td>\n",
       "      <td>Lunes</td>\n",
       "      <td>I</td>\n",
       "      <td>Grupo LATAM</td>\n",
       "      <td>Ciudad de Mexico</td>\n",
       "    </tr>\n",
       "  </tbody>\n",
       "</table>\n",
       "</div>"
      ],
      "text/plain": [
       "                  Fecha-I Vlo-I Des-I Emp-I             Fecha-O  Vlo-O Des-O  \\\n",
       "66891 2017-12-31 23:55:00   602  KLAX   LAN 2018-01-01 00:02:00  602.0  KLAX   \n",
       "66920 2017-12-31 23:40:00   622  MMMX   LAN 2018-01-01 00:12:00  622.0  MMMX   \n",
       "\n",
       "      Emp-O  DIA  MES   AÑO DIANOM TIPOVUELO        OPERA          SIGLADES  \n",
       "66891   LAN    1    1  2018  Lunes         I  Grupo LATAM       Los Angeles  \n",
       "66920   LAN    1    1  2018  Lunes         I  Grupo LATAM  Ciudad de Mexico  "
      ]
     },
     "execution_count": 16,
     "metadata": {},
     "output_type": "execute_result"
    }
   ],
   "source": [
    "# Se puede comprobar manualmente\n",
    "row_2018 = df_initial[df_initial['AÑO'] == 2018]\n",
    "row_2018 "
   ]
  },
  {
   "cell_type": "markdown",
   "metadata": {},
   "source": [
    "Realmente corresponde a dos vuelos que operaron en 2018. Pero, por la poca variabilidad de los datos de 'AÑO', esta columna se puede elimnar"
   ]
  },
  {
   "cell_type": "code",
   "execution_count": 17,
   "metadata": {},
   "outputs": [],
   "source": [
    "df_initial.drop(['AÑO'], axis=1, inplace=True)"
   ]
  },
  {
   "cell_type": "markdown",
   "metadata": {},
   "source": [
    "### Concordancia de fechas"
   ]
  },
  {
   "cell_type": "code",
   "execution_count": 18,
   "metadata": {},
   "outputs": [
    {
     "data": {
      "text/plain": [
       "array([ 1,  2,  3,  4,  5,  7,  8, 10, 12, 14, 16, 18, 21, 23, 25, 28, 30,\n",
       "        6,  9, 11, 13, 15, 17, 19, 22, 24, 26, 27, 29, 31, 20],\n",
       "      dtype=int32)"
      ]
     },
     "execution_count": 18,
     "metadata": {},
     "output_type": "execute_result"
    }
   ],
   "source": [
    "# 'DIA' está bien\n",
    "df_initial['DIA'].unique()"
   ]
  },
  {
   "cell_type": "code",
   "execution_count": 19,
   "metadata": {},
   "outputs": [
    {
     "data": {
      "text/plain": [
       "array([ 1,  2,  3,  4,  5,  6,  7,  8,  9, 10, 11, 12], dtype=int32)"
      ]
     },
     "execution_count": 19,
     "metadata": {},
     "output_type": "execute_result"
    }
   ],
   "source": [
    "# 'MES' está bien\n",
    "df_initial['MES'].unique()"
   ]
  },
  {
   "cell_type": "code",
   "execution_count": 20,
   "metadata": {},
   "outputs": [
    {
     "data": {
      "text/plain": [
       "array(['Domingo', 'Lunes', 'Martes', 'Miercoles', 'Jueves', 'Sabado',\n",
       "       'Viernes'], dtype=object)"
      ]
     },
     "execution_count": 20,
     "metadata": {},
     "output_type": "execute_result"
    }
   ],
   "source": [
    "# 'DIANOM' está bien\n",
    "df_initial['DIANOM'].unique()"
   ]
  },
  {
   "cell_type": "markdown",
   "metadata": {},
   "source": [
    "### Codigo aerolinea"
   ]
  },
  {
   "cell_type": "markdown",
   "metadata": {},
   "source": [
    "Se presumió, inicialmente, que 'Emp-I', 'Emp-O' y 'OPERA' se refirieran a la misma aerolinea, pero el numero de valores unicos parece indicar lo contrario."
   ]
  },
  {
   "cell_type": "code",
   "execution_count": 21,
   "metadata": {},
   "outputs": [
    {
     "data": {
      "text/html": [
       "<div>\n",
       "<style scoped>\n",
       "    .dataframe tbody tr th:only-of-type {\n",
       "        vertical-align: middle;\n",
       "    }\n",
       "\n",
       "    .dataframe tbody tr th {\n",
       "        vertical-align: top;\n",
       "    }\n",
       "\n",
       "    .dataframe thead th {\n",
       "        text-align: right;\n",
       "    }\n",
       "</style>\n",
       "<table border=\"1\" class=\"dataframe\">\n",
       "  <thead>\n",
       "    <tr style=\"text-align: right;\">\n",
       "      <th></th>\n",
       "      <th>Fecha-I</th>\n",
       "      <th>Vlo-I</th>\n",
       "      <th>Des-I</th>\n",
       "      <th>Emp-I</th>\n",
       "      <th>Fecha-O</th>\n",
       "      <th>Vlo-O</th>\n",
       "      <th>Des-O</th>\n",
       "      <th>Emp-O</th>\n",
       "      <th>DIA</th>\n",
       "      <th>MES</th>\n",
       "      <th>DIANOM</th>\n",
       "      <th>TIPOVUELO</th>\n",
       "      <th>OPERA</th>\n",
       "      <th>SIGLADES</th>\n",
       "    </tr>\n",
       "  </thead>\n",
       "  <tbody>\n",
       "    <tr>\n",
       "      <th>345</th>\n",
       "      <td>2017-01-21 22:30:00</td>\n",
       "      <td>2291</td>\n",
       "      <td>SABE</td>\n",
       "      <td>AUT</td>\n",
       "      <td>2017-01-21 22:28:00</td>\n",
       "      <td>2291</td>\n",
       "      <td>SABE</td>\n",
       "      <td>ARG</td>\n",
       "      <td>21</td>\n",
       "      <td>1</td>\n",
       "      <td>Sabado</td>\n",
       "      <td>I</td>\n",
       "      <td>Austral</td>\n",
       "      <td>Buenos Aires</td>\n",
       "    </tr>\n",
       "    <tr>\n",
       "      <th>814</th>\n",
       "      <td>2017-01-01 07:14:00</td>\n",
       "      <td>624</td>\n",
       "      <td>SPJC</td>\n",
       "      <td>AVA</td>\n",
       "      <td>2017-01-01 07:11:00</td>\n",
       "      <td>624</td>\n",
       "      <td>SPJC</td>\n",
       "      <td>LRC</td>\n",
       "      <td>1</td>\n",
       "      <td>1</td>\n",
       "      <td>Domingo</td>\n",
       "      <td>I</td>\n",
       "      <td>Avianca</td>\n",
       "      <td>Lima</td>\n",
       "    </tr>\n",
       "    <tr>\n",
       "      <th>815</th>\n",
       "      <td>2017-01-02 07:00:00</td>\n",
       "      <td>624</td>\n",
       "      <td>SPJC</td>\n",
       "      <td>AVA</td>\n",
       "      <td>2017-01-02 07:05:00</td>\n",
       "      <td>624</td>\n",
       "      <td>SPJC</td>\n",
       "      <td>LRC</td>\n",
       "      <td>2</td>\n",
       "      <td>1</td>\n",
       "      <td>Lunes</td>\n",
       "      <td>I</td>\n",
       "      <td>Avianca</td>\n",
       "      <td>Lima</td>\n",
       "    </tr>\n",
       "    <tr>\n",
       "      <th>816</th>\n",
       "      <td>2017-01-03 07:14:00</td>\n",
       "      <td>624</td>\n",
       "      <td>SPJC</td>\n",
       "      <td>AVA</td>\n",
       "      <td>2017-01-03 07:14:00</td>\n",
       "      <td>624</td>\n",
       "      <td>SPJC</td>\n",
       "      <td>LRC</td>\n",
       "      <td>3</td>\n",
       "      <td>1</td>\n",
       "      <td>Martes</td>\n",
       "      <td>I</td>\n",
       "      <td>Avianca</td>\n",
       "      <td>Lima</td>\n",
       "    </tr>\n",
       "    <tr>\n",
       "      <th>817</th>\n",
       "      <td>2017-01-04 07:00:00</td>\n",
       "      <td>624</td>\n",
       "      <td>SPJC</td>\n",
       "      <td>AVA</td>\n",
       "      <td>2017-01-04 07:24:00</td>\n",
       "      <td>624</td>\n",
       "      <td>SPJC</td>\n",
       "      <td>LRC</td>\n",
       "      <td>4</td>\n",
       "      <td>1</td>\n",
       "      <td>Miercoles</td>\n",
       "      <td>I</td>\n",
       "      <td>Avianca</td>\n",
       "      <td>Lima</td>\n",
       "    </tr>\n",
       "    <tr>\n",
       "      <th>...</th>\n",
       "      <td>...</td>\n",
       "      <td>...</td>\n",
       "      <td>...</td>\n",
       "      <td>...</td>\n",
       "      <td>...</td>\n",
       "      <td>...</td>\n",
       "      <td>...</td>\n",
       "      <td>...</td>\n",
       "      <td>...</td>\n",
       "      <td>...</td>\n",
       "      <td>...</td>\n",
       "      <td>...</td>\n",
       "      <td>...</td>\n",
       "      <td>...</td>\n",
       "    </tr>\n",
       "    <tr>\n",
       "      <th>67838</th>\n",
       "      <td>2017-12-26 16:30:00</td>\n",
       "      <td>1033</td>\n",
       "      <td>SCIE</td>\n",
       "      <td>LAW</td>\n",
       "      <td>2017-12-26 16:34:00</td>\n",
       "      <td>1033.0</td>\n",
       "      <td>SCIE</td>\n",
       "      <td>JMR</td>\n",
       "      <td>26</td>\n",
       "      <td>12</td>\n",
       "      <td>Martes</td>\n",
       "      <td>N</td>\n",
       "      <td>Latin American Wings</td>\n",
       "      <td>Concepcion</td>\n",
       "    </tr>\n",
       "    <tr>\n",
       "      <th>67839</th>\n",
       "      <td>2017-12-27 16:30:00</td>\n",
       "      <td>1033</td>\n",
       "      <td>SCIE</td>\n",
       "      <td>LAW</td>\n",
       "      <td>2017-12-27 16:30:00</td>\n",
       "      <td>1033.0</td>\n",
       "      <td>SCIE</td>\n",
       "      <td>JMR</td>\n",
       "      <td>27</td>\n",
       "      <td>12</td>\n",
       "      <td>Miercoles</td>\n",
       "      <td>N</td>\n",
       "      <td>Latin American Wings</td>\n",
       "      <td>Concepcion</td>\n",
       "    </tr>\n",
       "    <tr>\n",
       "      <th>67840</th>\n",
       "      <td>2017-12-28 16:30:00</td>\n",
       "      <td>1033</td>\n",
       "      <td>SCIE</td>\n",
       "      <td>LAW</td>\n",
       "      <td>2017-12-28 16:29:00</td>\n",
       "      <td>1033.0</td>\n",
       "      <td>SCIE</td>\n",
       "      <td>JMR</td>\n",
       "      <td>28</td>\n",
       "      <td>12</td>\n",
       "      <td>Jueves</td>\n",
       "      <td>N</td>\n",
       "      <td>Latin American Wings</td>\n",
       "      <td>Concepcion</td>\n",
       "    </tr>\n",
       "    <tr>\n",
       "      <th>67841</th>\n",
       "      <td>2017-12-29 16:30:00</td>\n",
       "      <td>1033</td>\n",
       "      <td>SCIE</td>\n",
       "      <td>LAW</td>\n",
       "      <td>2017-12-29 16:49:00</td>\n",
       "      <td>1033.0</td>\n",
       "      <td>SCIE</td>\n",
       "      <td>JMR</td>\n",
       "      <td>29</td>\n",
       "      <td>12</td>\n",
       "      <td>Viernes</td>\n",
       "      <td>N</td>\n",
       "      <td>Latin American Wings</td>\n",
       "      <td>Concepcion</td>\n",
       "    </tr>\n",
       "    <tr>\n",
       "      <th>67842</th>\n",
       "      <td>2017-12-31 17:30:00</td>\n",
       "      <td>1033</td>\n",
       "      <td>SCIE</td>\n",
       "      <td>LAW</td>\n",
       "      <td>2017-12-31 17:26:00</td>\n",
       "      <td>1033.0</td>\n",
       "      <td>SCIE</td>\n",
       "      <td>JMR</td>\n",
       "      <td>31</td>\n",
       "      <td>12</td>\n",
       "      <td>Domingo</td>\n",
       "      <td>N</td>\n",
       "      <td>Latin American Wings</td>\n",
       "      <td>Concepcion</td>\n",
       "    </tr>\n",
       "  </tbody>\n",
       "</table>\n",
       "<p>18634 rows × 14 columns</p>\n",
       "</div>"
      ],
      "text/plain": [
       "                  Fecha-I Vlo-I Des-I Emp-I             Fecha-O   Vlo-O Des-O  \\\n",
       "345   2017-01-21 22:30:00  2291  SABE   AUT 2017-01-21 22:28:00    2291  SABE   \n",
       "814   2017-01-01 07:14:00   624  SPJC   AVA 2017-01-01 07:11:00     624  SPJC   \n",
       "815   2017-01-02 07:00:00   624  SPJC   AVA 2017-01-02 07:05:00     624  SPJC   \n",
       "816   2017-01-03 07:14:00   624  SPJC   AVA 2017-01-03 07:14:00     624  SPJC   \n",
       "817   2017-01-04 07:00:00   624  SPJC   AVA 2017-01-04 07:24:00     624  SPJC   \n",
       "...                   ...   ...   ...   ...                 ...     ...   ...   \n",
       "67838 2017-12-26 16:30:00  1033  SCIE   LAW 2017-12-26 16:34:00  1033.0  SCIE   \n",
       "67839 2017-12-27 16:30:00  1033  SCIE   LAW 2017-12-27 16:30:00  1033.0  SCIE   \n",
       "67840 2017-12-28 16:30:00  1033  SCIE   LAW 2017-12-28 16:29:00  1033.0  SCIE   \n",
       "67841 2017-12-29 16:30:00  1033  SCIE   LAW 2017-12-29 16:49:00  1033.0  SCIE   \n",
       "67842 2017-12-31 17:30:00  1033  SCIE   LAW 2017-12-31 17:26:00  1033.0  SCIE   \n",
       "\n",
       "      Emp-O  DIA  MES     DIANOM TIPOVUELO                 OPERA      SIGLADES  \n",
       "345     ARG   21    1     Sabado         I               Austral  Buenos Aires  \n",
       "814     LRC    1    1    Domingo         I               Avianca          Lima  \n",
       "815     LRC    2    1      Lunes         I               Avianca          Lima  \n",
       "816     LRC    3    1     Martes         I               Avianca          Lima  \n",
       "817     LRC    4    1  Miercoles         I               Avianca          Lima  \n",
       "...     ...  ...  ...        ...       ...                   ...           ...  \n",
       "67838   JMR   26   12     Martes         N  Latin American Wings    Concepcion  \n",
       "67839   JMR   27   12  Miercoles         N  Latin American Wings    Concepcion  \n",
       "67840   JMR   28   12     Jueves         N  Latin American Wings    Concepcion  \n",
       "67841   JMR   29   12    Viernes         N  Latin American Wings    Concepcion  \n",
       "67842   JMR   31   12    Domingo         N  Latin American Wings    Concepcion  \n",
       "\n",
       "[18634 rows x 14 columns]"
      ]
     },
     "execution_count": 21,
     "metadata": {},
     "output_type": "execute_result"
    }
   ],
   "source": [
    "# ¿En cuántas filas son diferentes?\n",
    "df_initial[df_initial['Emp-I'] != df_initial['Emp-O']]"
   ]
  },
  {
   "cell_type": "markdown",
   "metadata": {},
   "source": [
    "En más de 18.000 vuelos la aerolinea programada fue diferente a la aerolinea que finalmente operó el vuelo. Si hay una relación directa entre estos vuelos y el retraso, esta podria ser **una variable muy importante** para los modelos.\n",
    "\n",
    "**Voy a definir más adelante una columna con valores 1 para los vuelos donde hubo cambio de aerolinea y valores 0 donde no hubo ese cambio.**"
   ]
  },
  {
   "cell_type": "markdown",
   "metadata": {},
   "source": [
    "### Codigo de vuelo"
   ]
  },
  {
   "cell_type": "markdown",
   "metadata": {},
   "source": [
    "#### Codigos de vuelos con decimales"
   ]
  },
  {
   "cell_type": "code",
   "execution_count": 22,
   "metadata": {},
   "outputs": [
    {
     "data": {
      "text/plain": [
       "array(['226', '912', '940', '92', '93', '401', '11', '1011', '1281',\n",
       "       '1283', '1285', '1287', '1289', '1291', '2291', '98', '116', '176',\n",
       "       '240', '295', '689', '250', '112', '118', '174', '249', '276',\n",
       "       '495', '4495', '146', '7661', '7663', '9245', '9268', '9362',\n",
       "       '6830', '702', '624', '28', '846', '709', '741', '8021', '8023',\n",
       "       '8027', '8029', '8069', '8073', '8075', '8099', '8125', '8137',\n",
       "       '8160', '8161', '9601', '9615', '9651', '9653', '9661', '9689',\n",
       "       '9782', '9623', '1', '3', '7', '9', '13', '15', '17', '21', '23',\n",
       "       '25', '41', '43', '51', '53', '55', '61', '71', '73', '75', '81',\n",
       "       '83', '102', '104', '106', '108', '110', '120', '122', '128',\n",
       "       '130', '132', '134', '140', '142', '150', '156', '160', '162',\n",
       "       '164', '166', '170', '172', '180', '182', '184', '186', '188',\n",
       "       '190', '192', '194', '196', '501', '503', '507', '521', '531',\n",
       "       '551', '800', '802', '804', '1083', '14', '31', '35', '37', '57',\n",
       "       '65', '67', '69', '89', '91', '97', '114', '124', '126', '136',\n",
       "       '138', '144', '148', '152', '154', '168', '178', '201', '203',\n",
       "       '207', '209', '211', '213', '215', '217', '219', '221', '231',\n",
       "       '233', '235', '237', '239', '241', '247', '251', '257', '259',\n",
       "       '261', '263', '265', '267', '269', '271', '273', '275', '277',\n",
       "       '279', '281', '283', '285', '287', '289', '291', '293', '297',\n",
       "       '300', '302', '304', '306', '308', '312', '314', '318', '320',\n",
       "       '322', '324', '326', '328', '330', '332', '334', '336', '338',\n",
       "       '340', '342', '344', '346', '348', '350', '366', '374', '380',\n",
       "       '382', '384', '386', '388', '396', '403', '405', '439', '443',\n",
       "       '445', '449', '451', '455', '461', '481', '500', '502', '504',\n",
       "       '510', '530', '532', '534', '546', '572', '574', '576', '582',\n",
       "       '592', '600', '602', '622', '632', '642', '646', '648', '650',\n",
       "       '704', '708', '750', '752', '760', '772', '776', '778', '798',\n",
       "       '801', '833', '841', '843', '845', '849', '900', '902', '906',\n",
       "       '910', '930', '932', '934', '942', '952', '954', '968', '970',\n",
       "       '972', '986', '988', '991', '993', '1320', '1322', '1326', '1334',\n",
       "       '1357', '1359', '1446', '1498', '2632', '2636', '2638', '2640',\n",
       "       '2650', '2702', '4501', '1001', '1003', '4503', '1004', '1005',\n",
       "       '1302', '1340', '200', '700', '1700', '33', '59', '95', '243',\n",
       "       '1318', '634', '1304', '1303', '1200', '1202', '1300', '71R', '99',\n",
       "       '158', '198', '205', '1101', '376', '378', '404', '406', '410',\n",
       "       '414', '430', '432', '434', '438', '486', '492', '1346', '536',\n",
       "       '638', '640', '644', '864', '890', '892', '1122', '1126', '1151',\n",
       "       '1363', '1361', '1946', '2370', '2372', '2374', '7811', '1103',\n",
       "       '1061', '7813', '1071', '201R', '1165', '1301', '1906', '202',\n",
       "       '1704', '9625', '8665', '4950', '45', '100', '523', '1025', '4000',\n",
       "       '63', '352', '354', '452', '460', '636', '674', '888', '895',\n",
       "       '897', '1108', '1124', '1128', '1236', '1248', '2364', '2366',\n",
       "       '2378', '2474', '2478', '1050', '1051', '1052', '1102', '1104',\n",
       "       '1130', '1159', '1230', '43R', '989', '2093', '401A', '401B',\n",
       "       '3000', '9000', '802R', '459', '483', '1160', '1114', '1168',\n",
       "       '1238', '1239', '1261', '114R', '622R', '1107', '1140', '1167',\n",
       "       '1271', '1031', '9659', '1551', '1800', '358', '492R', '1111',\n",
       "       '2518', '7959', '1041', '400', '402', '2297', '1297', '4118',\n",
       "       '9858', '9860', '9244', '9246', '9247', '9261', '9272', '2726',\n",
       "       '9673', '9956', '9600', '9629', '9662', '9701', '9955', '5', '77',\n",
       "       '553', '316', '368', '372', '1155', '470', '506', '604', '2486',\n",
       "       '1136', '1158', '1242', '1244', '2368', '1113', '338R', '1105',\n",
       "       '1106', '1115', '1132', '1166', '2488', '1400', '1033', '4', '8',\n",
       "       '26', '22', '1927', '7721', '922', '5924', '591P', '2763', '2804',\n",
       "       '8519', '8525', '8542', '9622', '356', '1138', '1148', '6', '32',\n",
       "       '50', '52', '86', '88', '9301', '9303', '846A', '47', '60', '1234',\n",
       "       '1250', '1241', '1034', '1035', '1043', '7704', '10', '253',\n",
       "       '1502', '8083', '8131', '9851', '27', '543', '1198', '39', '87',\n",
       "       '390', '448', '664', '805', '1054', '1065', '1116', '1121', '1146',\n",
       "       '1154', '1188', '1193', '1218', '1222', '1224', '1226', '1228',\n",
       "       '1235', '1237', '1249', '1260', '1262', '1264', '1428', '7899',\n",
       "       '502R', '1142', '1240', '2600', '30', '2092', '3624', '9643',\n",
       "       '9461', '9510', '9540', '706', '1088', '1091', '1099', '1134',\n",
       "       '1169', '1170', '1195', '1199', '1243', '1251', '1257', '1277',\n",
       "       '1279', '207R', '1233', '54', '1600', '2287', '9289', '85',\n",
       "       '150.0', '156.0', '160.0', '162.0', '164.0', '166.0', '168.0',\n",
       "       '170.0', '172.0', '174.0', '176.0', '180.0', '182.0', '184.0',\n",
       "       '186.0', '190.0', '192.0', '194.0', '196.0', '198.0', '501.0',\n",
       "       '503.0', '507.0', '521.0', '531.0', '543.0', '551.0', '553.0',\n",
       "       '555.0', '620.0', '630.0', '800.0', '802.0', '804.0', '1149.0',\n",
       "       '1503.0', '1531.0', '1.0', '9.0', '14.0', '31.0', '35.0', '37.0',\n",
       "       '39.0', '53.0', '57.0', '59.0', '61.0', '63.0', '65.0', '69.0',\n",
       "       '87.0', '91.0', '93.0', '95.0', '97.0', '99.0', '114.0', '120.0',\n",
       "       '122.0', '124.0', '126.0', '128.0', '130.0', '134.0', '136.0',\n",
       "       '138.0', '140.0', '142.0', '144.0', '146.0', '148.0', '152.0',\n",
       "       '154.0', '158.0', '188.0', '201.0', '203.0', '205.0', '207.0',\n",
       "       '209.0', '211.0', '213.0', '215.0', '217.0', '219.0', '221.0',\n",
       "       '231.0', '232.0', '235.0', '237.0', '239.0', '241.0', '251.0',\n",
       "       '257.0', '259.0', '261.0', '263.0', '265.0', '267.0', '269.0',\n",
       "       '271.0', '273.0', '275.0', '277.0', '279.0', '281.0', '283.0',\n",
       "       '285.0', '287.0', '289.0', '291.0', '293.0', '295.0', '297.0',\n",
       "       '300.0', '302.0', '304.0', '306.0', '308.0', '312.0', '314.0',\n",
       "       '316.0', '318.0', '320.0', '322.0', '324.0', '326.0', '328.0',\n",
       "       '330.0', '334.0', '336.0', '340.0', '342.0', '344.0', '346.0',\n",
       "       '348.0', '350.0', '352.0', '366.0', '380.0', '382.0', '384.0',\n",
       "       '386.0', '388.0', '390.0', '404.0', '406.0', '410.0', '414.0',\n",
       "       '430.0', '432.0', '434.0', '439.0', '443.0', '445.0', '448.0',\n",
       "       '449.0', '455.0', '461.0', '481.0', '486.0', '492.0', '500.0',\n",
       "       '502.0', '510.0', '530.0', '532.0', '536.0', '546.0', '572.0',\n",
       "       '574.0', '576.0', '582.0', '592.0', '600.0', '602.0', '622.0',\n",
       "       '632.0', '638.0', '642.0', '702.0', '704.0', '706.0', '708.0',\n",
       "       '750.0', '752.0', '755.0', '757.0', '763.0', '801.0', '805.0',\n",
       "       '833.0', '841.0', '843.0', '864.0', '888.0', '890.0', '892.0',\n",
       "       '895.0', '897.0', '1088.0', '1091.0', '1117.0', '1126.0', '1128.0',\n",
       "       '1134.0', '1136.0', '1141.0', '1146.0', '1166.0', '1170.0',\n",
       "       '1176.0', '1178.0', '1186.0', '1188.0', '1191.0', '1193.0',\n",
       "       '1197.0', '1199.0', '1222.0', '1224.0', '1226.0', '1241.0',\n",
       "       '1243.0', '1246.0', '1247.0', '1259.0', '1267.0', '1269.0',\n",
       "       '1277.0', '1279.0', '1281.0', '1446.0', '2370.0', '2372.0',\n",
       "       '2374.0', '2474.0', '7811.0', '7813.0', '7899.0', '7911.0',\n",
       "       '1101.0', '1102.0', '1106.0', '1230.0', '1235.0', '1236.0',\n",
       "       '1237.0', '1238.0', '1239.0', '1261.0', '33.0', '43.0', '50.0',\n",
       "       '54.0', '200.0', '202.0', '402.0', '700.0', '1031.0', '1033.0',\n",
       "       '4.0', '6.0', '8.0', '10.0', '26.0', '32.0', '52.0', '86.0',\n",
       "       '88.0', '110.0', '112.0', '253.0', '255.0', '301.0', '305.0',\n",
       "       '307.0', '400.0'], dtype=object)"
      ]
     },
     "execution_count": 22,
     "metadata": {},
     "output_type": "execute_result"
    }
   ],
   "source": [
    "df_initial['Vlo-O'].unique()"
   ]
  },
  {
   "cell_type": "code",
   "execution_count": 23,
   "metadata": {},
   "outputs": [
    {
     "data": {
      "text/plain": [
       "array(['226', '912', '940', '92', '93', '401', '11', '1011', '1281',\n",
       "       '1283', '1285', '1287', '1289', '1291', '2291', '98', '116', '176',\n",
       "       '240', '295', '689', '250', '112', '118', '174', '249', '276',\n",
       "       '495', '4495', '146', '7661', '7663', '9245', '9268', '9362',\n",
       "       '6830', '702', '624', '28', '846', '709', '741', '8021', '8023',\n",
       "       '8027', '8029', '8069', '8073', '8075', '8099', '8125', '8137',\n",
       "       '8160', '8161', '9601', '9615', '9651', '9653', '9661', '9689',\n",
       "       '9782', '9623', '1', '3', '7', '9', '13', '15', '17', '21', '23',\n",
       "       '25', '41', '43', '51', '53', '55', '61', '71', '73', '75', '81',\n",
       "       '83', '102', '104', '106', '108', '110', '120', '122', '128',\n",
       "       '130', '132', '134', '140', '142', '150', '156', '160', '162',\n",
       "       '164', '166', '170', '172', '180', '182', '184', '186', '188',\n",
       "       '190', '192', '194', '196', '501', '503', '507', '521', '531',\n",
       "       '551', '800', '802', '804', '1083', '14', '31', '35', '37', '57',\n",
       "       '65', '67', '69', '89', '91', '97', '114', '124', '126', '136',\n",
       "       '138', '144', '148', '152', '154', '168', '178', '201', '203',\n",
       "       '207', '209', '211', '213', '215', '217', '219', '221', '231',\n",
       "       '233', '235', '237', '239', '241', '247', '251', '257', '259',\n",
       "       '261', '263', '265', '267', '269', '271', '273', '275', '277',\n",
       "       '279', '281', '283', '285', '287', '289', '291', '293', '297',\n",
       "       '300', '302', '304', '306', '308', '312', '314', '318', '320',\n",
       "       '322', '324', '326', '328', '330', '332', '334', '336', '338',\n",
       "       '340', '342', '344', '346', '348', '350', '366', '374', '380',\n",
       "       '382', '384', '386', '388', '396', '403', '405', '439', '443',\n",
       "       '445', '449', '451', '455', '461', '481', '500', '502', '504',\n",
       "       '510', '530', '532', '534', '546', '572', '574', '576', '582',\n",
       "       '592', '600', '602', '622', '632', '642', '646', '648', '650',\n",
       "       '704', '708', '750', '752', '760', '772', '776', '778', '798',\n",
       "       '801', '833', '841', '843', '845', '849', '900', '902', '906',\n",
       "       '910', '930', '932', '934', '942', '952', '954', '968', '970',\n",
       "       '972', '986', '988', '991', '993', '1320', '1322', '1326', '1334',\n",
       "       '1357', '1359', '1446', '1498', '2632', '2636', '2638', '2640',\n",
       "       '2650', '2702', '4501', '4503', '1003', '1004', '1005', '1302',\n",
       "       '1340', '200', '700', '1704', '33', '59', '95', '243', '634',\n",
       "       '1200', '1202', '1300', '1071', '99', '158', '198', '205', '376',\n",
       "       '378', '404', '406', '410', '414', '430', '432', '434', '438',\n",
       "       '486', '492', '536', '638', '640', '644', '864', '890', '892',\n",
       "       '1122', '1126', '1151', '1363', '1946', '2370', '2372', '2374',\n",
       "       '7811', '7813', '1165', '1301', '1906', '204', '9625', '8665',\n",
       "       '4950', '45', '100', '523', '1025', '4000', '63', '352', '354',\n",
       "       '452', '460', '636', '674', '888', '895', '897', '1108', '1124',\n",
       "       '1128', '1236', '1248', '2364', '2366', '2378', '2474', '2478',\n",
       "       '1050', '1051', '1052', '1061', '1101', '1102', '1104', '1130',\n",
       "       '1159', '1230', '202', '989P', '3000', '9000', '459', '483',\n",
       "       '1114', '1168', '1238', '1239', '1261', '1107', '1140', '1167',\n",
       "       '1271', '1031', '1700', '940P', '9659', '1551', '1800', '358',\n",
       "       '1103', '1111', '2518', '7959', '400', '402', '2297', '9244',\n",
       "       '9246', '9247', '9261', '9272', '9673', '9956', '9600', '9629',\n",
       "       '9662', '9701', '9955', '5', '77', '553', '316', '368', '372',\n",
       "       '470', '506', '604', '1136', '1158', '1242', '1244', '2368',\n",
       "       '2486', '1105', '1106', '1113', '1115', '1132', '1155', '1166',\n",
       "       '2488', '1400', '1033', '4', '8', '26', '22', '1927', '7721',\n",
       "       '591P', '846A', '8519', '8525', '8542', '9622', '356', '1138',\n",
       "       '1148', '1041', '6', '32', '50', '52', '86', '88', '9301', '9303',\n",
       "       '47', '60', '1234', '1250', '1241', '1034', '1035', '1043', '7704',\n",
       "       '10', '253', '1502', '8083', '8131', '9851', '27', '543', '1198',\n",
       "       '39', '87', '390', '448', '664', '805', '1054', '1065', '1116',\n",
       "       '1121', '1146', '1154', '1188', '1193', '1218', '1222', '1224',\n",
       "       '1226', '1228', '1235', '1237', '1249', '1260', '1262', '1264',\n",
       "       '1428', '7899', '1142', '1240', '2600', '30', '2092', '2093',\n",
       "       '3624', '9643', '9461', '9510', '9540', '1104A', '706', '1088',\n",
       "       '1091', '1099', '1134', '1169', '1170', '1195', '1199', '1243',\n",
       "       '1251', '1257', '1277', '1279', '1233', '54', '1600', '2287',\n",
       "       '4118', '9289', '85', '555', '620', '630', '1149', '1503', '1531',\n",
       "       '232', '755', '757', '763', '1117', '1141', '1176', '1178', '1186',\n",
       "       '1191', '1197', '1246', '1247', '1259', '1267', '1269', '7911',\n",
       "       '255', '301', '305', '307'], dtype=object)"
      ]
     },
     "execution_count": 23,
     "metadata": {},
     "output_type": "execute_result"
    }
   ],
   "source": [
    "df_initial['Vlo-I'].unique()"
   ]
  },
  {
   "cell_type": "markdown",
   "metadata": {},
   "source": [
    "Se pudo observar que algunos valores de 'Vlo-O' tienen numeros almacenados con decimales (.0). Por esto 'Vlo-O' tiene 857 valores unicos y 'Vlo-I' tiene solo 581 valores unicos"
   ]
  },
  {
   "cell_type": "code",
   "execution_count": 24,
   "metadata": {},
   "outputs": [
    {
     "data": {
      "text/plain": [
       "Fecha-I      53232\n",
       "Vlo-I          581\n",
       "Des-I           61\n",
       "Emp-I           30\n",
       "Fecha-O      62742\n",
       "Vlo-O          444\n",
       "Des-O           60\n",
       "Emp-O           32\n",
       "DIA             31\n",
       "MES             12\n",
       "DIANOM           7\n",
       "TIPOVUELO        2\n",
       "OPERA           23\n",
       "SIGLADES        59\n",
       "dtype: int64"
      ]
     },
     "execution_count": 24,
     "metadata": {},
     "output_type": "execute_result"
    }
   ],
   "source": [
    "# Remplazar '.0' en 'Vlo-O'\n",
    "df_initial['Vlo-O'] = df_initial['Vlo-O'].str.replace('.0','')\n",
    "df_initial.nunique()"
   ]
  },
  {
   "cell_type": "markdown",
   "metadata": {},
   "source": [
    "'Vlo-O' pasó de 857 valores unicos a 444"
   ]
  },
  {
   "cell_type": "code",
   "execution_count": 25,
   "metadata": {},
   "outputs": [
    {
     "data": {
      "text/plain": [
       "array(['226', '912', '9', '92', '93', '1', '11', '1281', '1283', '1285',\n",
       "       '1287', '1289', '1291', '2291', '98', '116', '176', '2', '295',\n",
       "       '689', '112', '118', '174', '249', '276', '495', '4495', '146',\n",
       "       '7661', '7663', '9245', '9268', '9362', '68', '624', '28', '846',\n",
       "       '741', '21', '23', '27', '29', '69', '73', '75', '99', '8125',\n",
       "       '8137', '81', '8161', '91', '9615', '9651', '9653', '9661', '9689',\n",
       "       '9782', '9623', '3', '7', '13', '15', '17', '25', '41', '43', '51',\n",
       "       '53', '55', '61', '71', '83', '4', '6', '8', '122', '128', '132',\n",
       "       '134', '142', '156', '162', '164', '166', '172', '182', '184',\n",
       "       '186', '188', '192', '194', '196', '521', '531', '551', '0', '14',\n",
       "       '31', '35', '37', '57', '65', '67', '89', '97', '114', '124',\n",
       "       '126', '136', '138', '144', '148', '152', '154', '168', '178',\n",
       "       '211', '213', '215', '217', '219', '221', '231', '233', '235',\n",
       "       '237', '239', '241', '247', '251', '257', '259', '261', '263',\n",
       "       '265', '267', '269', '271', '273', '275', '277', '279', '281',\n",
       "       '283', '285', '287', '289', '291', '293', '297', '312', '314',\n",
       "       '318', '322', '324', '326', '328', '332', '334', '336', '338',\n",
       "       '342', '344', '346', '348', '366', '374', '382', '384', '386',\n",
       "       '388', '396', '5', '439', '443', '445', '449', '451', '455', '461',\n",
       "       '481', '532', '534', '546', '572', '574', '576', '582', '592',\n",
       "       '622', '632', '642', '646', '648', '752', '772', '776', '778',\n",
       "       '798', '833', '841', '843', '845', '849', '932', '934', '942',\n",
       "       '952', '954', '968', '972', '986', '988', '991', '993', '1322',\n",
       "       '1326', '1334', '1357', '1359', '1446', '1498', '2632', '2636',\n",
       "       '2638', '26', '22', '01', '03', '04', '05', '12', '10', '33', '59',\n",
       "       '95', '243', '1318', '634', '71R', '158', '198', '376', '378',\n",
       "       '414', '432', '434', '438', '486', '492', '1346', '536', '638',\n",
       "       '644', '864', '892', '1122', '1126', '1151', '1363', '1361',\n",
       "       '1946', '2372', '2374', '7811', '7813', '1R', '1165', '16', '9625',\n",
       "       '8665', '49', '45', '523', '', '63', '352', '354', '452', '636',\n",
       "       '674', '888', '895', '897', '18', '1124', '1128', '1236', '1248',\n",
       "       '2364', '2366', '2378', '2474', '2478', '52', '1159', '43R', '989',\n",
       "       '1A', '1B', '2R', '459', '483', '1114', '1168', '1238', '1239',\n",
       "       '1261', '114R', '622R', '1167', '1271', '9659', '1551', '358',\n",
       "       '492R', '1111', '2518', '7959', '2297', '1297', '4118', '9858',\n",
       "       '9244', '9246', '9247', '9261', '9272', '2726', '9673', '9956',\n",
       "       '90', '9629', '9662', '9955', '77', '553', '316', '368', '372',\n",
       "       '1155', '2486', '1136', '1158', '1242', '1244', '2368', '1113',\n",
       "       '338R', '1115', '1132', '1166', '2488', '1927', '7721', '922',\n",
       "       '5924', '591P', '2763', '24', '8519', '8525', '8542', '9622',\n",
       "       '356', '1138', '1148', '32', '86', '88', '846A', '47', '1234',\n",
       "       '1241', '34', '74', '253', '8131', '9851', '543', '1198', '39',\n",
       "       '87', '448', '664', '54', '1116', '1121', '1146', '1154', '1188',\n",
       "       '1193', '1218', '1222', '1224', '1226', '1228', '1235', '1237',\n",
       "       '1249', '1262', '1264', '1428', '7899', '1142', '20', '3624',\n",
       "       '9643', '9461', '1134', '1169', '1195', '1199', '1243', '1251',\n",
       "       '1257', '1277', '1279', '7R', '1233', '2287', '9289', '85', '555',\n",
       "       '1149', '1531', '232', '755', '757', '763', '1117', '1141', '1176',\n",
       "       '1178', '1186', '1191', '1197', '1246', '1247', '1259', '1267',\n",
       "       '1269', '7911', '255'], dtype=object)"
      ]
     },
     "execution_count": 25,
     "metadata": {},
     "output_type": "execute_result"
    }
   ],
   "source": [
    "# Problemas de los decimales solucionado\n",
    "df_initial['Vlo-O'].unique()"
   ]
  },
  {
   "cell_type": "markdown",
   "metadata": {},
   "source": [
    "#### Cambio codigo de vuelo entre programado y operado"
   ]
  },
  {
   "cell_type": "markdown",
   "metadata": {},
   "source": [
    "Similar al cambio de codigo de aerolinea entre los vuelos programados y operados. Existe un cambio ente el codigo de vuelo programado y operado."
   ]
  },
  {
   "cell_type": "code",
   "execution_count": 26,
   "metadata": {},
   "outputs": [
    {
     "data": {
      "text/html": [
       "<div>\n",
       "<style scoped>\n",
       "    .dataframe tbody tr th:only-of-type {\n",
       "        vertical-align: middle;\n",
       "    }\n",
       "\n",
       "    .dataframe tbody tr th {\n",
       "        vertical-align: top;\n",
       "    }\n",
       "\n",
       "    .dataframe thead th {\n",
       "        text-align: right;\n",
       "    }\n",
       "</style>\n",
       "<table border=\"1\" class=\"dataframe\">\n",
       "  <thead>\n",
       "    <tr style=\"text-align: right;\">\n",
       "      <th></th>\n",
       "      <th>Fecha-I</th>\n",
       "      <th>Vlo-I</th>\n",
       "      <th>Des-I</th>\n",
       "      <th>Emp-I</th>\n",
       "      <th>Fecha-O</th>\n",
       "      <th>Vlo-O</th>\n",
       "      <th>Des-O</th>\n",
       "      <th>Emp-O</th>\n",
       "      <th>DIA</th>\n",
       "      <th>MES</th>\n",
       "      <th>DIANOM</th>\n",
       "      <th>TIPOVUELO</th>\n",
       "      <th>OPERA</th>\n",
       "      <th>SIGLADES</th>\n",
       "    </tr>\n",
       "  </thead>\n",
       "  <tbody>\n",
       "    <tr>\n",
       "      <th>48</th>\n",
       "      <td>2017-01-01 22:30:00</td>\n",
       "      <td>940</td>\n",
       "      <td>KDFW</td>\n",
       "      <td>AAL</td>\n",
       "      <td>2017-01-01 22:31:00</td>\n",
       "      <td>9</td>\n",
       "      <td>KDFW</td>\n",
       "      <td>AAL</td>\n",
       "      <td>1</td>\n",
       "      <td>1</td>\n",
       "      <td>Domingo</td>\n",
       "      <td>I</td>\n",
       "      <td>American Airlines</td>\n",
       "      <td>Dallas</td>\n",
       "    </tr>\n",
       "    <tr>\n",
       "      <th>49</th>\n",
       "      <td>2017-01-02 22:30:00</td>\n",
       "      <td>940</td>\n",
       "      <td>KDFW</td>\n",
       "      <td>AAL</td>\n",
       "      <td>2017-01-02 22:26:00</td>\n",
       "      <td>9</td>\n",
       "      <td>KDFW</td>\n",
       "      <td>AAL</td>\n",
       "      <td>2</td>\n",
       "      <td>1</td>\n",
       "      <td>Lunes</td>\n",
       "      <td>I</td>\n",
       "      <td>American Airlines</td>\n",
       "      <td>Dallas</td>\n",
       "    </tr>\n",
       "    <tr>\n",
       "      <th>50</th>\n",
       "      <td>2017-01-03 22:30:00</td>\n",
       "      <td>940</td>\n",
       "      <td>KDFW</td>\n",
       "      <td>AAL</td>\n",
       "      <td>2017-01-03 22:40:00</td>\n",
       "      <td>9</td>\n",
       "      <td>KDFW</td>\n",
       "      <td>AAL</td>\n",
       "      <td>3</td>\n",
       "      <td>1</td>\n",
       "      <td>Martes</td>\n",
       "      <td>I</td>\n",
       "      <td>American Airlines</td>\n",
       "      <td>Dallas</td>\n",
       "    </tr>\n",
       "    <tr>\n",
       "      <th>51</th>\n",
       "      <td>2017-01-04 22:30:00</td>\n",
       "      <td>940</td>\n",
       "      <td>KDFW</td>\n",
       "      <td>AAL</td>\n",
       "      <td>2017-01-04 22:50:00</td>\n",
       "      <td>9</td>\n",
       "      <td>KDFW</td>\n",
       "      <td>AAL</td>\n",
       "      <td>4</td>\n",
       "      <td>1</td>\n",
       "      <td>Miercoles</td>\n",
       "      <td>I</td>\n",
       "      <td>American Airlines</td>\n",
       "      <td>Dallas</td>\n",
       "    </tr>\n",
       "    <tr>\n",
       "      <th>52</th>\n",
       "      <td>2017-01-05 22:30:00</td>\n",
       "      <td>940</td>\n",
       "      <td>KDFW</td>\n",
       "      <td>AAL</td>\n",
       "      <td>2017-01-05 22:41:00</td>\n",
       "      <td>9</td>\n",
       "      <td>KDFW</td>\n",
       "      <td>AAL</td>\n",
       "      <td>5</td>\n",
       "      <td>1</td>\n",
       "      <td>Jueves</td>\n",
       "      <td>I</td>\n",
       "      <td>American Airlines</td>\n",
       "      <td>Dallas</td>\n",
       "    </tr>\n",
       "    <tr>\n",
       "      <th>...</th>\n",
       "      <td>...</td>\n",
       "      <td>...</td>\n",
       "      <td>...</td>\n",
       "      <td>...</td>\n",
       "      <td>...</td>\n",
       "      <td>...</td>\n",
       "      <td>...</td>\n",
       "      <td>...</td>\n",
       "      <td>...</td>\n",
       "      <td>...</td>\n",
       "      <td>...</td>\n",
       "      <td>...</td>\n",
       "      <td>...</td>\n",
       "      <td>...</td>\n",
       "    </tr>\n",
       "    <tr>\n",
       "      <th>68162</th>\n",
       "      <td>2017-12-22 14:55:00</td>\n",
       "      <td>400</td>\n",
       "      <td>SPJC</td>\n",
       "      <td>JAT</td>\n",
       "      <td>2017-12-22 15:41:00</td>\n",
       "      <td>0</td>\n",
       "      <td>SPJC</td>\n",
       "      <td>JAT</td>\n",
       "      <td>22</td>\n",
       "      <td>12</td>\n",
       "      <td>Viernes</td>\n",
       "      <td>I</td>\n",
       "      <td>JetSmart SPA</td>\n",
       "      <td>Lima</td>\n",
       "    </tr>\n",
       "    <tr>\n",
       "      <th>68163</th>\n",
       "      <td>2017-12-25 14:55:00</td>\n",
       "      <td>400</td>\n",
       "      <td>SPJC</td>\n",
       "      <td>JAT</td>\n",
       "      <td>2017-12-25 15:11:00</td>\n",
       "      <td>0</td>\n",
       "      <td>SPJC</td>\n",
       "      <td>JAT</td>\n",
       "      <td>25</td>\n",
       "      <td>12</td>\n",
       "      <td>Lunes</td>\n",
       "      <td>I</td>\n",
       "      <td>JetSmart SPA</td>\n",
       "      <td>Lima</td>\n",
       "    </tr>\n",
       "    <tr>\n",
       "      <th>68164</th>\n",
       "      <td>2017-12-27 14:55:00</td>\n",
       "      <td>400</td>\n",
       "      <td>SPJC</td>\n",
       "      <td>JAT</td>\n",
       "      <td>2017-12-27 15:35:00</td>\n",
       "      <td>0</td>\n",
       "      <td>SPJC</td>\n",
       "      <td>JAT</td>\n",
       "      <td>27</td>\n",
       "      <td>12</td>\n",
       "      <td>Miercoles</td>\n",
       "      <td>I</td>\n",
       "      <td>JetSmart SPA</td>\n",
       "      <td>Lima</td>\n",
       "    </tr>\n",
       "    <tr>\n",
       "      <th>68165</th>\n",
       "      <td>2017-12-29 14:55:00</td>\n",
       "      <td>400</td>\n",
       "      <td>SPJC</td>\n",
       "      <td>JAT</td>\n",
       "      <td>2017-12-29 15:08:00</td>\n",
       "      <td>0</td>\n",
       "      <td>SPJC</td>\n",
       "      <td>JAT</td>\n",
       "      <td>29</td>\n",
       "      <td>12</td>\n",
       "      <td>Viernes</td>\n",
       "      <td>I</td>\n",
       "      <td>JetSmart SPA</td>\n",
       "      <td>Lima</td>\n",
       "    </tr>\n",
       "    <tr>\n",
       "      <th>68166</th>\n",
       "      <td>2017-12-31 14:55:00</td>\n",
       "      <td>400</td>\n",
       "      <td>SPJC</td>\n",
       "      <td>JAT</td>\n",
       "      <td>2017-12-31 15:04:00</td>\n",
       "      <td>0</td>\n",
       "      <td>SPJC</td>\n",
       "      <td>JAT</td>\n",
       "      <td>31</td>\n",
       "      <td>12</td>\n",
       "      <td>Domingo</td>\n",
       "      <td>I</td>\n",
       "      <td>JetSmart SPA</td>\n",
       "      <td>Lima</td>\n",
       "    </tr>\n",
       "  </tbody>\n",
       "</table>\n",
       "<p>19721 rows × 14 columns</p>\n",
       "</div>"
      ],
      "text/plain": [
       "                  Fecha-I Vlo-I Des-I Emp-I             Fecha-O Vlo-O Des-O  \\\n",
       "48    2017-01-01 22:30:00   940  KDFW   AAL 2017-01-01 22:31:00     9  KDFW   \n",
       "49    2017-01-02 22:30:00   940  KDFW   AAL 2017-01-02 22:26:00     9  KDFW   \n",
       "50    2017-01-03 22:30:00   940  KDFW   AAL 2017-01-03 22:40:00     9  KDFW   \n",
       "51    2017-01-04 22:30:00   940  KDFW   AAL 2017-01-04 22:50:00     9  KDFW   \n",
       "52    2017-01-05 22:30:00   940  KDFW   AAL 2017-01-05 22:41:00     9  KDFW   \n",
       "...                   ...   ...   ...   ...                 ...   ...   ...   \n",
       "68162 2017-12-22 14:55:00   400  SPJC   JAT 2017-12-22 15:41:00     0  SPJC   \n",
       "68163 2017-12-25 14:55:00   400  SPJC   JAT 2017-12-25 15:11:00     0  SPJC   \n",
       "68164 2017-12-27 14:55:00   400  SPJC   JAT 2017-12-27 15:35:00     0  SPJC   \n",
       "68165 2017-12-29 14:55:00   400  SPJC   JAT 2017-12-29 15:08:00     0  SPJC   \n",
       "68166 2017-12-31 14:55:00   400  SPJC   JAT 2017-12-31 15:04:00     0  SPJC   \n",
       "\n",
       "      Emp-O  DIA  MES     DIANOM TIPOVUELO              OPERA SIGLADES  \n",
       "48      AAL    1    1    Domingo         I  American Airlines   Dallas  \n",
       "49      AAL    2    1      Lunes         I  American Airlines   Dallas  \n",
       "50      AAL    3    1     Martes         I  American Airlines   Dallas  \n",
       "51      AAL    4    1  Miercoles         I  American Airlines   Dallas  \n",
       "52      AAL    5    1     Jueves         I  American Airlines   Dallas  \n",
       "...     ...  ...  ...        ...       ...                ...      ...  \n",
       "68162   JAT   22   12    Viernes         I       JetSmart SPA     Lima  \n",
       "68163   JAT   25   12      Lunes         I       JetSmart SPA     Lima  \n",
       "68164   JAT   27   12  Miercoles         I       JetSmart SPA     Lima  \n",
       "68165   JAT   29   12    Viernes         I       JetSmart SPA     Lima  \n",
       "68166   JAT   31   12    Domingo         I       JetSmart SPA     Lima  \n",
       "\n",
       "[19721 rows x 14 columns]"
      ]
     },
     "execution_count": 26,
     "metadata": {},
     "output_type": "execute_result"
    }
   ],
   "source": [
    "# ¿En cuántas filas son diferentes el codigo de vuelo programado con el operado?\n",
    "df_initial[df_initial['Vlo-I'] != df_initial['Vlo-O']]"
   ]
  },
  {
   "cell_type": "markdown",
   "metadata": {},
   "source": [
    "En 19.721 vuelos hubo un cambio entre el codigo de vuelo programado con el codigo de vuelo operado. Acá podría hacer una relación directa cuando se presentan los retrasos y seria una **variable muy importante**.\n",
    "\n",
    "**Igual que con el cambio de codigo de aerolinea, voy a definir más adelante una columna con valores 1 para los vuelos donde hubo cambio de codigo de vuelo y valores 0 donde no hubo ese cambio.**"
   ]
  },
  {
   "cell_type": "markdown",
   "metadata": {},
   "source": [
    "### Ciudad destino"
   ]
  },
  {
   "cell_type": "markdown",
   "metadata": {},
   "source": [
    "Se presumió, inicialmente, que 'Des-I', 'Des-O' y 'SIGLADES' se refirieran a la misma ciudad, pero el numero de valores unicos parece indicar lo contrario."
   ]
  },
  {
   "cell_type": "code",
   "execution_count": 27,
   "metadata": {},
   "outputs": [
    {
     "data": {
      "text/html": [
       "<div>\n",
       "<style scoped>\n",
       "    .dataframe tbody tr th:only-of-type {\n",
       "        vertical-align: middle;\n",
       "    }\n",
       "\n",
       "    .dataframe tbody tr th {\n",
       "        vertical-align: top;\n",
       "    }\n",
       "\n",
       "    .dataframe thead th {\n",
       "        text-align: right;\n",
       "    }\n",
       "</style>\n",
       "<table border=\"1\" class=\"dataframe\">\n",
       "  <thead>\n",
       "    <tr style=\"text-align: right;\">\n",
       "      <th></th>\n",
       "      <th>Fecha-I</th>\n",
       "      <th>Vlo-I</th>\n",
       "      <th>Des-I</th>\n",
       "      <th>Emp-I</th>\n",
       "      <th>Fecha-O</th>\n",
       "      <th>Vlo-O</th>\n",
       "      <th>Des-O</th>\n",
       "      <th>Emp-O</th>\n",
       "      <th>DIA</th>\n",
       "      <th>MES</th>\n",
       "      <th>DIANOM</th>\n",
       "      <th>TIPOVUELO</th>\n",
       "      <th>OPERA</th>\n",
       "      <th>SIGLADES</th>\n",
       "    </tr>\n",
       "  </thead>\n",
       "  <tbody>\n",
       "    <tr>\n",
       "      <th>1397</th>\n",
       "      <td>2017-01-17 19:20:00</td>\n",
       "      <td>25</td>\n",
       "      <td>SCTE</td>\n",
       "      <td>SKU</td>\n",
       "      <td>2017-01-17 19:46:00</td>\n",
       "      <td>25</td>\n",
       "      <td>SCQP</td>\n",
       "      <td>SKU</td>\n",
       "      <td>17</td>\n",
       "      <td>1</td>\n",
       "      <td>Martes</td>\n",
       "      <td>N</td>\n",
       "      <td>Sky Airline</td>\n",
       "      <td>Temuco</td>\n",
       "    </tr>\n",
       "    <tr>\n",
       "      <th>7290</th>\n",
       "      <td>2017-02-15 06:25:00</td>\n",
       "      <td>11</td>\n",
       "      <td>SCTE</td>\n",
       "      <td>SKU</td>\n",
       "      <td>2017-02-15 06:25:00</td>\n",
       "      <td>11</td>\n",
       "      <td>SCQP</td>\n",
       "      <td>SKU</td>\n",
       "      <td>15</td>\n",
       "      <td>2</td>\n",
       "      <td>Miercoles</td>\n",
       "      <td>N</td>\n",
       "      <td>Sky Airline</td>\n",
       "      <td>Temuco</td>\n",
       "    </tr>\n",
       "    <tr>\n",
       "      <th>7520</th>\n",
       "      <td>2017-02-27 06:40:00</td>\n",
       "      <td>71</td>\n",
       "      <td>SCIE</td>\n",
       "      <td>SKU</td>\n",
       "      <td>2017-02-27 09:07:00</td>\n",
       "      <td>71</td>\n",
       "      <td>SCQP</td>\n",
       "      <td>SKU</td>\n",
       "      <td>27</td>\n",
       "      <td>2</td>\n",
       "      <td>Lunes</td>\n",
       "      <td>N</td>\n",
       "      <td>Sky Airline</td>\n",
       "      <td>Temuco</td>\n",
       "    </tr>\n",
       "    <tr>\n",
       "      <th>8456</th>\n",
       "      <td>2017-02-15 06:10:00</td>\n",
       "      <td>57</td>\n",
       "      <td>SCTE</td>\n",
       "      <td>LAN</td>\n",
       "      <td>2017-02-15 06:12:00</td>\n",
       "      <td>57</td>\n",
       "      <td>SCQP</td>\n",
       "      <td>LAN</td>\n",
       "      <td>15</td>\n",
       "      <td>2</td>\n",
       "      <td>Miercoles</td>\n",
       "      <td>N</td>\n",
       "      <td>Grupo LATAM</td>\n",
       "      <td>Temuco</td>\n",
       "    </tr>\n",
       "    <tr>\n",
       "      <th>12787</th>\n",
       "      <td>2017-03-18 06:25:00</td>\n",
       "      <td>11</td>\n",
       "      <td>SCTE</td>\n",
       "      <td>SKU</td>\n",
       "      <td>2017-03-18 06:29:00</td>\n",
       "      <td>11</td>\n",
       "      <td>SCQP</td>\n",
       "      <td>SKU</td>\n",
       "      <td>18</td>\n",
       "      <td>3</td>\n",
       "      <td>Sabado</td>\n",
       "      <td>N</td>\n",
       "      <td>Sky Airline</td>\n",
       "      <td>Temuco</td>\n",
       "    </tr>\n",
       "    <tr>\n",
       "      <th>12823</th>\n",
       "      <td>2017-03-22 12:50:00</td>\n",
       "      <td>17</td>\n",
       "      <td>SCBA</td>\n",
       "      <td>SKU</td>\n",
       "      <td>2017-03-22 12:48:00</td>\n",
       "      <td>17</td>\n",
       "      <td>SCTE</td>\n",
       "      <td>SKU</td>\n",
       "      <td>22</td>\n",
       "      <td>3</td>\n",
       "      <td>Miercoles</td>\n",
       "      <td>N</td>\n",
       "      <td>Sky Airline</td>\n",
       "      <td>Puerto Montt</td>\n",
       "    </tr>\n",
       "    <tr>\n",
       "      <th>16169</th>\n",
       "      <td>2017-03-13 23:20:00</td>\n",
       "      <td>532</td>\n",
       "      <td>KJFK</td>\n",
       "      <td>LAN</td>\n",
       "      <td>2017-03-14 01:35:00</td>\n",
       "      <td>1346</td>\n",
       "      <td>KMIA</td>\n",
       "      <td>LAN</td>\n",
       "      <td>14</td>\n",
       "      <td>3</td>\n",
       "      <td>Martes</td>\n",
       "      <td>I</td>\n",
       "      <td>Grupo LATAM</td>\n",
       "      <td>Miami</td>\n",
       "    </tr>\n",
       "    <tr>\n",
       "      <th>16937</th>\n",
       "      <td>2017-03-22 17:00:00</td>\n",
       "      <td>1446</td>\n",
       "      <td>SEGU</td>\n",
       "      <td>LAN</td>\n",
       "      <td>2017-03-22 17:11:00</td>\n",
       "      <td>1361</td>\n",
       "      <td>SABE</td>\n",
       "      <td>LAN</td>\n",
       "      <td>22</td>\n",
       "      <td>3</td>\n",
       "      <td>Miercoles</td>\n",
       "      <td>I</td>\n",
       "      <td>Grupo LATAM</td>\n",
       "      <td>Buenos Aires</td>\n",
       "    </tr>\n",
       "    <tr>\n",
       "      <th>18291</th>\n",
       "      <td>2017-04-14 18:40:00</td>\n",
       "      <td>25</td>\n",
       "      <td>SCTE</td>\n",
       "      <td>SKU</td>\n",
       "      <td>2017-04-14 18:48:00</td>\n",
       "      <td>25</td>\n",
       "      <td>SCQP</td>\n",
       "      <td>SKU</td>\n",
       "      <td>14</td>\n",
       "      <td>4</td>\n",
       "      <td>Viernes</td>\n",
       "      <td>N</td>\n",
       "      <td>Sky Airline</td>\n",
       "      <td>Temuco</td>\n",
       "    </tr>\n",
       "    <tr>\n",
       "      <th>20442</th>\n",
       "      <td>2017-04-14 22:00:00</td>\n",
       "      <td>289</td>\n",
       "      <td>SCTE</td>\n",
       "      <td>LAN</td>\n",
       "      <td>2017-04-14 22:01:00</td>\n",
       "      <td>289</td>\n",
       "      <td>SCCI</td>\n",
       "      <td>LXP</td>\n",
       "      <td>14</td>\n",
       "      <td>4</td>\n",
       "      <td>Viernes</td>\n",
       "      <td>N</td>\n",
       "      <td>Grupo LATAM</td>\n",
       "      <td>Punta Arenas</td>\n",
       "    </tr>\n",
       "    <tr>\n",
       "      <th>24567</th>\n",
       "      <td>2017-05-13 18:25:00</td>\n",
       "      <td>136</td>\n",
       "      <td>SCFA</td>\n",
       "      <td>LAN</td>\n",
       "      <td>2017-05-13 18:24:00</td>\n",
       "      <td>136</td>\n",
       "      <td>SCCF</td>\n",
       "      <td>LAN</td>\n",
       "      <td>13</td>\n",
       "      <td>5</td>\n",
       "      <td>Sabado</td>\n",
       "      <td>N</td>\n",
       "      <td>Grupo LATAM</td>\n",
       "      <td>Calama</td>\n",
       "    </tr>\n",
       "    <tr>\n",
       "      <th>25417</th>\n",
       "      <td>2017-05-09 08:30:00</td>\n",
       "      <td>271</td>\n",
       "      <td>SCBA</td>\n",
       "      <td>LAN</td>\n",
       "      <td>2017-05-09 08:31:00</td>\n",
       "      <td>271</td>\n",
       "      <td>SCTE</td>\n",
       "      <td>LXP</td>\n",
       "      <td>9</td>\n",
       "      <td>5</td>\n",
       "      <td>Martes</td>\n",
       "      <td>N</td>\n",
       "      <td>Grupo LATAM</td>\n",
       "      <td>Puerto Montt</td>\n",
       "    </tr>\n",
       "    <tr>\n",
       "      <th>25420</th>\n",
       "      <td>2017-05-12 08:25:00</td>\n",
       "      <td>271</td>\n",
       "      <td>SCBA</td>\n",
       "      <td>LAN</td>\n",
       "      <td>2017-05-12 08:36:00</td>\n",
       "      <td>271</td>\n",
       "      <td>SCTE</td>\n",
       "      <td>LXP</td>\n",
       "      <td>12</td>\n",
       "      <td>5</td>\n",
       "      <td>Viernes</td>\n",
       "      <td>N</td>\n",
       "      <td>Grupo LATAM</td>\n",
       "      <td>Puerto Montt</td>\n",
       "    </tr>\n",
       "    <tr>\n",
       "      <th>25490</th>\n",
       "      <td>2017-05-12 09:15:00</td>\n",
       "      <td>279</td>\n",
       "      <td>SCBA</td>\n",
       "      <td>LAN</td>\n",
       "      <td>2017-05-12 09:26:00</td>\n",
       "      <td>279</td>\n",
       "      <td>SCTE</td>\n",
       "      <td>LXP</td>\n",
       "      <td>12</td>\n",
       "      <td>5</td>\n",
       "      <td>Viernes</td>\n",
       "      <td>N</td>\n",
       "      <td>Grupo LATAM</td>\n",
       "      <td>Puerto Montt</td>\n",
       "    </tr>\n",
       "    <tr>\n",
       "      <th>33164</th>\n",
       "      <td>2017-07-04 01:25:00</td>\n",
       "      <td>9261</td>\n",
       "      <td>SBGR</td>\n",
       "      <td>GLO</td>\n",
       "      <td>2017-07-04 01:19:00</td>\n",
       "      <td>9261</td>\n",
       "      <td>SBGL</td>\n",
       "      <td>GLO</td>\n",
       "      <td>4</td>\n",
       "      <td>7</td>\n",
       "      <td>Martes</td>\n",
       "      <td>I</td>\n",
       "      <td>Gol Trans</td>\n",
       "      <td>Rio de Janeiro</td>\n",
       "    </tr>\n",
       "    <tr>\n",
       "      <th>37160</th>\n",
       "      <td>2017-07-26 08:45:00</td>\n",
       "      <td>455</td>\n",
       "      <td>SABE</td>\n",
       "      <td>LAN</td>\n",
       "      <td>2017-07-26 09:45:00</td>\n",
       "      <td>1155</td>\n",
       "      <td>SAEZ</td>\n",
       "      <td>LAN</td>\n",
       "      <td>26</td>\n",
       "      <td>7</td>\n",
       "      <td>Miercoles</td>\n",
       "      <td>I</td>\n",
       "      <td>Grupo LATAM</td>\n",
       "      <td>Buenos Aires</td>\n",
       "    </tr>\n",
       "    <tr>\n",
       "      <th>38092</th>\n",
       "      <td>2017-07-03 07:55:00</td>\n",
       "      <td>7811</td>\n",
       "      <td>SABE</td>\n",
       "      <td>LAN</td>\n",
       "      <td>2017-07-03 08:03:00</td>\n",
       "      <td>1111</td>\n",
       "      <td>SAEZ</td>\n",
       "      <td>LAN</td>\n",
       "      <td>3</td>\n",
       "      <td>7</td>\n",
       "      <td>Lunes</td>\n",
       "      <td>I</td>\n",
       "      <td>Grupo LATAM</td>\n",
       "      <td>Buenos Aires</td>\n",
       "    </tr>\n",
       "    <tr>\n",
       "      <th>38133</th>\n",
       "      <td>2017-07-17 16:00:00</td>\n",
       "      <td>7813</td>\n",
       "      <td>SABE</td>\n",
       "      <td>LAN</td>\n",
       "      <td>2017-07-17 16:41:00</td>\n",
       "      <td>1113</td>\n",
       "      <td>SAEZ</td>\n",
       "      <td>LAN</td>\n",
       "      <td>17</td>\n",
       "      <td>7</td>\n",
       "      <td>Lunes</td>\n",
       "      <td>I</td>\n",
       "      <td>Grupo LATAM</td>\n",
       "      <td>Buenos Aires</td>\n",
       "    </tr>\n",
       "    <tr>\n",
       "      <th>38134</th>\n",
       "      <td>2017-07-18 16:00:00</td>\n",
       "      <td>7813</td>\n",
       "      <td>SABE</td>\n",
       "      <td>LAN</td>\n",
       "      <td>2017-07-18 16:31:00</td>\n",
       "      <td>1113</td>\n",
       "      <td>SAEZ</td>\n",
       "      <td>LAN</td>\n",
       "      <td>18</td>\n",
       "      <td>7</td>\n",
       "      <td>Martes</td>\n",
       "      <td>I</td>\n",
       "      <td>Grupo LATAM</td>\n",
       "      <td>Buenos Aires</td>\n",
       "    </tr>\n",
       "    <tr>\n",
       "      <th>39263</th>\n",
       "      <td>2017-08-29 21:55:00</td>\n",
       "      <td>846</td>\n",
       "      <td>KIAH</td>\n",
       "      <td>UAL</td>\n",
       "      <td>2017-08-29 21:55:00</td>\n",
       "      <td>2763</td>\n",
       "      <td>KIAD</td>\n",
       "      <td>UAL</td>\n",
       "      <td>29</td>\n",
       "      <td>8</td>\n",
       "      <td>Martes</td>\n",
       "      <td>I</td>\n",
       "      <td>United Airlines</td>\n",
       "      <td>Washington</td>\n",
       "    </tr>\n",
       "    <tr>\n",
       "      <th>42109</th>\n",
       "      <td>2017-08-07 11:00:00</td>\n",
       "      <td>293</td>\n",
       "      <td>SCCI</td>\n",
       "      <td>LAN</td>\n",
       "      <td>2017-08-07 11:07:00</td>\n",
       "      <td>293</td>\n",
       "      <td>SCTE</td>\n",
       "      <td>LXP</td>\n",
       "      <td>7</td>\n",
       "      <td>8</td>\n",
       "      <td>Lunes</td>\n",
       "      <td>N</td>\n",
       "      <td>Grupo LATAM</td>\n",
       "      <td>Puerto Montt</td>\n",
       "    </tr>\n",
       "    <tr>\n",
       "      <th>55141</th>\n",
       "      <td>2017-10-06 00:55:00</td>\n",
       "      <td>1260</td>\n",
       "      <td>SEQU</td>\n",
       "      <td>LAN</td>\n",
       "      <td>2017-10-06 02:15:00</td>\n",
       "      <td>12</td>\n",
       "      <td>SEQM</td>\n",
       "      <td>LAN</td>\n",
       "      <td>6</td>\n",
       "      <td>10</td>\n",
       "      <td>Viernes</td>\n",
       "      <td>I</td>\n",
       "      <td>Grupo LATAM</td>\n",
       "      <td>Quito</td>\n",
       "    </tr>\n",
       "    <tr>\n",
       "      <th>61436</th>\n",
       "      <td>2017-11-06 06:00:00</td>\n",
       "      <td>1031</td>\n",
       "      <td>SCIE</td>\n",
       "      <td>LAW</td>\n",
       "      <td>2017-11-06 08:01:00</td>\n",
       "      <td>31</td>\n",
       "      <td>SCTE</td>\n",
       "      <td>JMR</td>\n",
       "      <td>6</td>\n",
       "      <td>11</td>\n",
       "      <td>Lunes</td>\n",
       "      <td>N</td>\n",
       "      <td>Latin American Wings</td>\n",
       "      <td>Puerto Montt</td>\n",
       "    </tr>\n",
       "    <tr>\n",
       "      <th>62624</th>\n",
       "      <td>2017-12-10 13:35:00</td>\n",
       "      <td>28</td>\n",
       "      <td>YSSY</td>\n",
       "      <td>QFU</td>\n",
       "      <td>2017-12-10 13:40:00</td>\n",
       "      <td>28</td>\n",
       "      <td>YMML</td>\n",
       "      <td>QFA</td>\n",
       "      <td>10</td>\n",
       "      <td>12</td>\n",
       "      <td>Domingo</td>\n",
       "      <td>I</td>\n",
       "      <td>Qantas Airways</td>\n",
       "      <td>Melbourne</td>\n",
       "    </tr>\n",
       "    <tr>\n",
       "      <th>67572</th>\n",
       "      <td>2017-12-01 11:20:00</td>\n",
       "      <td>7811</td>\n",
       "      <td>SAEZ</td>\n",
       "      <td>LAN</td>\n",
       "      <td>2017-12-01 11:22:00</td>\n",
       "      <td>7811</td>\n",
       "      <td>SABE</td>\n",
       "      <td>DSM</td>\n",
       "      <td>1</td>\n",
       "      <td>12</td>\n",
       "      <td>Viernes</td>\n",
       "      <td>I</td>\n",
       "      <td>Grupo LATAM</td>\n",
       "      <td>Buenos Aires</td>\n",
       "    </tr>\n",
       "    <tr>\n",
       "      <th>67573</th>\n",
       "      <td>2017-12-02 11:15:00</td>\n",
       "      <td>7811</td>\n",
       "      <td>SAEZ</td>\n",
       "      <td>LAN</td>\n",
       "      <td>2017-12-02 11:21:00</td>\n",
       "      <td>7811</td>\n",
       "      <td>SABE</td>\n",
       "      <td>DSM</td>\n",
       "      <td>2</td>\n",
       "      <td>12</td>\n",
       "      <td>Sabado</td>\n",
       "      <td>I</td>\n",
       "      <td>Grupo LATAM</td>\n",
       "      <td>Buenos Aires</td>\n",
       "    </tr>\n",
       "    <tr>\n",
       "      <th>67574</th>\n",
       "      <td>2017-12-03 11:20:00</td>\n",
       "      <td>7811</td>\n",
       "      <td>SAEZ</td>\n",
       "      <td>LAN</td>\n",
       "      <td>2017-12-03 11:30:00</td>\n",
       "      <td>7811</td>\n",
       "      <td>SABE</td>\n",
       "      <td>DSM</td>\n",
       "      <td>3</td>\n",
       "      <td>12</td>\n",
       "      <td>Domingo</td>\n",
       "      <td>I</td>\n",
       "      <td>Grupo LATAM</td>\n",
       "      <td>Buenos Aires</td>\n",
       "    </tr>\n",
       "    <tr>\n",
       "      <th>67658</th>\n",
       "      <td>2017-12-16 02:45:00</td>\n",
       "      <td>1261</td>\n",
       "      <td>SARI</td>\n",
       "      <td>LAN</td>\n",
       "      <td>2017-12-16 02:43:00</td>\n",
       "      <td>1261</td>\n",
       "      <td>SBFI</td>\n",
       "      <td>LAN</td>\n",
       "      <td>16</td>\n",
       "      <td>12</td>\n",
       "      <td>Sabado</td>\n",
       "      <td>I</td>\n",
       "      <td>Grupo LATAM</td>\n",
       "      <td>Cataratas Iguacu</td>\n",
       "    </tr>\n",
       "  </tbody>\n",
       "</table>\n",
       "</div>"
      ],
      "text/plain": [
       "                  Fecha-I Vlo-I Des-I Emp-I             Fecha-O Vlo-O Des-O  \\\n",
       "1397  2017-01-17 19:20:00    25  SCTE   SKU 2017-01-17 19:46:00    25  SCQP   \n",
       "7290  2017-02-15 06:25:00    11  SCTE   SKU 2017-02-15 06:25:00    11  SCQP   \n",
       "7520  2017-02-27 06:40:00    71  SCIE   SKU 2017-02-27 09:07:00    71  SCQP   \n",
       "8456  2017-02-15 06:10:00    57  SCTE   LAN 2017-02-15 06:12:00    57  SCQP   \n",
       "12787 2017-03-18 06:25:00    11  SCTE   SKU 2017-03-18 06:29:00    11  SCQP   \n",
       "12823 2017-03-22 12:50:00    17  SCBA   SKU 2017-03-22 12:48:00    17  SCTE   \n",
       "16169 2017-03-13 23:20:00   532  KJFK   LAN 2017-03-14 01:35:00  1346  KMIA   \n",
       "16937 2017-03-22 17:00:00  1446  SEGU   LAN 2017-03-22 17:11:00  1361  SABE   \n",
       "18291 2017-04-14 18:40:00    25  SCTE   SKU 2017-04-14 18:48:00    25  SCQP   \n",
       "20442 2017-04-14 22:00:00   289  SCTE   LAN 2017-04-14 22:01:00   289  SCCI   \n",
       "24567 2017-05-13 18:25:00   136  SCFA   LAN 2017-05-13 18:24:00   136  SCCF   \n",
       "25417 2017-05-09 08:30:00   271  SCBA   LAN 2017-05-09 08:31:00   271  SCTE   \n",
       "25420 2017-05-12 08:25:00   271  SCBA   LAN 2017-05-12 08:36:00   271  SCTE   \n",
       "25490 2017-05-12 09:15:00   279  SCBA   LAN 2017-05-12 09:26:00   279  SCTE   \n",
       "33164 2017-07-04 01:25:00  9261  SBGR   GLO 2017-07-04 01:19:00  9261  SBGL   \n",
       "37160 2017-07-26 08:45:00   455  SABE   LAN 2017-07-26 09:45:00  1155  SAEZ   \n",
       "38092 2017-07-03 07:55:00  7811  SABE   LAN 2017-07-03 08:03:00  1111  SAEZ   \n",
       "38133 2017-07-17 16:00:00  7813  SABE   LAN 2017-07-17 16:41:00  1113  SAEZ   \n",
       "38134 2017-07-18 16:00:00  7813  SABE   LAN 2017-07-18 16:31:00  1113  SAEZ   \n",
       "39263 2017-08-29 21:55:00   846  KIAH   UAL 2017-08-29 21:55:00  2763  KIAD   \n",
       "42109 2017-08-07 11:00:00   293  SCCI   LAN 2017-08-07 11:07:00   293  SCTE   \n",
       "55141 2017-10-06 00:55:00  1260  SEQU   LAN 2017-10-06 02:15:00    12  SEQM   \n",
       "61436 2017-11-06 06:00:00  1031  SCIE   LAW 2017-11-06 08:01:00    31  SCTE   \n",
       "62624 2017-12-10 13:35:00    28  YSSY   QFU 2017-12-10 13:40:00    28  YMML   \n",
       "67572 2017-12-01 11:20:00  7811  SAEZ   LAN 2017-12-01 11:22:00  7811  SABE   \n",
       "67573 2017-12-02 11:15:00  7811  SAEZ   LAN 2017-12-02 11:21:00  7811  SABE   \n",
       "67574 2017-12-03 11:20:00  7811  SAEZ   LAN 2017-12-03 11:30:00  7811  SABE   \n",
       "67658 2017-12-16 02:45:00  1261  SARI   LAN 2017-12-16 02:43:00  1261  SBFI   \n",
       "\n",
       "      Emp-O  DIA  MES     DIANOM TIPOVUELO                 OPERA  \\\n",
       "1397    SKU   17    1     Martes         N           Sky Airline   \n",
       "7290    SKU   15    2  Miercoles         N           Sky Airline   \n",
       "7520    SKU   27    2      Lunes         N           Sky Airline   \n",
       "8456    LAN   15    2  Miercoles         N           Grupo LATAM   \n",
       "12787   SKU   18    3     Sabado         N           Sky Airline   \n",
       "12823   SKU   22    3  Miercoles         N           Sky Airline   \n",
       "16169   LAN   14    3     Martes         I           Grupo LATAM   \n",
       "16937   LAN   22    3  Miercoles         I           Grupo LATAM   \n",
       "18291   SKU   14    4    Viernes         N           Sky Airline   \n",
       "20442   LXP   14    4    Viernes         N           Grupo LATAM   \n",
       "24567   LAN   13    5     Sabado         N           Grupo LATAM   \n",
       "25417   LXP    9    5     Martes         N           Grupo LATAM   \n",
       "25420   LXP   12    5    Viernes         N           Grupo LATAM   \n",
       "25490   LXP   12    5    Viernes         N           Grupo LATAM   \n",
       "33164   GLO    4    7     Martes         I             Gol Trans   \n",
       "37160   LAN   26    7  Miercoles         I           Grupo LATAM   \n",
       "38092   LAN    3    7      Lunes         I           Grupo LATAM   \n",
       "38133   LAN   17    7      Lunes         I           Grupo LATAM   \n",
       "38134   LAN   18    7     Martes         I           Grupo LATAM   \n",
       "39263   UAL   29    8     Martes         I       United Airlines   \n",
       "42109   LXP    7    8      Lunes         N           Grupo LATAM   \n",
       "55141   LAN    6   10    Viernes         I           Grupo LATAM   \n",
       "61436   JMR    6   11      Lunes         N  Latin American Wings   \n",
       "62624   QFA   10   12    Domingo         I        Qantas Airways   \n",
       "67572   DSM    1   12    Viernes         I           Grupo LATAM   \n",
       "67573   DSM    2   12     Sabado         I           Grupo LATAM   \n",
       "67574   DSM    3   12    Domingo         I           Grupo LATAM   \n",
       "67658   LAN   16   12     Sabado         I           Grupo LATAM   \n",
       "\n",
       "               SIGLADES  \n",
       "1397             Temuco  \n",
       "7290             Temuco  \n",
       "7520             Temuco  \n",
       "8456             Temuco  \n",
       "12787            Temuco  \n",
       "12823      Puerto Montt  \n",
       "16169             Miami  \n",
       "16937      Buenos Aires  \n",
       "18291            Temuco  \n",
       "20442      Punta Arenas  \n",
       "24567            Calama  \n",
       "25417      Puerto Montt  \n",
       "25420      Puerto Montt  \n",
       "25490      Puerto Montt  \n",
       "33164    Rio de Janeiro  \n",
       "37160      Buenos Aires  \n",
       "38092      Buenos Aires  \n",
       "38133      Buenos Aires  \n",
       "38134      Buenos Aires  \n",
       "39263        Washington  \n",
       "42109      Puerto Montt  \n",
       "55141             Quito  \n",
       "61436      Puerto Montt  \n",
       "62624         Melbourne  \n",
       "67572      Buenos Aires  \n",
       "67573      Buenos Aires  \n",
       "67574      Buenos Aires  \n",
       "67658  Cataratas Iguacu  "
      ]
     },
     "execution_count": 27,
     "metadata": {},
     "output_type": "execute_result"
    }
   ],
   "source": [
    "# ¿En cuáles filas es diferente?\n",
    "df_initial[df_initial['Des-I'] != df_initial['Des-O']]"
   ]
  },
  {
   "cell_type": "markdown",
   "metadata": {},
   "source": [
    "Hay 28 vuelos en los que 'Des-I' es diferente de 'Des-O'.\n",
    "\n",
    "Haciendo una busqueda rapida, parece ser que el codigo **OACI** de 'Des-I' está desactualizado, en algunos casos. En otros casos, hay ciudades que cuentan con mas de un aeropuerto y los vuelos fueron finalmente operados a aeropuertos distintos a los programados, pero en la misma ciudad.\n",
    "\n",
    "De acuerdo a lo anterior, manejaré **solamente** 'SIGLADES' para los modelos."
   ]
  },
  {
   "cell_type": "markdown",
   "metadata": {},
   "source": [
    "#### Eliminar 'Des-I' y 'Des-O'\n",
    "\n",
    "Pero, como 28 vuelos hacen una poco diferencia sobre los 68.167 vuelos en total. \n",
    "\n",
    "Decido no usar estas dos features, porque no tienen la sufiente variacion para aportar al objetivo."
   ]
  },
  {
   "cell_type": "code",
   "execution_count": 28,
   "metadata": {},
   "outputs": [],
   "source": [
    "df_initial.drop(['Des-I', 'Des-O'], axis=1, inplace=True)"
   ]
  },
  {
   "cell_type": "markdown",
   "metadata": {},
   "source": [
    "# PUNTO 1"
   ]
  },
  {
   "cell_type": "markdown",
   "metadata": {},
   "source": [
    "## ¿Cómo se distribuyen los datos?"
   ]
  },
  {
   "cell_type": "code",
   "execution_count": 29,
   "metadata": {},
   "outputs": [],
   "source": [
    "# Definicion de variables para graficar\n",
    "daymonth_flights = df_initial['DIA'].value_counts()\n",
    "month_flights = df_initial['MES'].value_counts()\n",
    "weekday_flights = df_initial['DIANOM'].value_counts()\n",
    "days = [weekday_flights.index[2], weekday_flights.index[5],\n",
    "        weekday_flights.index[4], weekday_flights.index[1],\n",
    "        weekday_flights.index[0], weekday_flights.index[6],\n",
    "        weekday_flights.index[3]\n",
    "]\n",
    "values_days = [weekday_flights.values[2], weekday_flights.values[5],\n",
    "               weekday_flights.values[4], weekday_flights.values[1],\n",
    "               weekday_flights.values[0], weekday_flights.values[6],\n",
    "               weekday_flights.values[3]\n",
    "]\n",
    "type_flights = df_initial['TIPOVUELO'].value_counts()\n",
    "airline_flights = df_initial['OPERA'].value_counts()\n",
    "destination_flights = df_initial['SIGLADES'].value_counts()"
   ]
  },
  {
   "cell_type": "markdown",
   "metadata": {},
   "source": [
    "### Distribución 'DIA'"
   ]
  },
  {
   "cell_type": "code",
   "execution_count": 30,
   "metadata": {},
   "outputs": [
    {
     "data": {
      "image/png": "[encoded data removed]",
      "text/plain": [
       "<Figure size 1200x500 with 1 Axes>"
      ]
     },
     "metadata": {},
     "output_type": "display_data"
    }
   ],
   "source": [
    "plt.figure(figsize = (12,5))\n",
    "sns.barplot(x=daymonth_flights.index, y=daymonth_flights.values)\n",
    "plt.title('Numero de vuelos por dia del mes')\n",
    "plt.ylabel('Numero de vuelos', fontsize=10)\n",
    "plt.xlabel('Dia del mes', fontsize=10)\n",
    "plt.xticks(rotation=0)\n",
    "plt.show()"
   ]
  },
  {
   "cell_type": "markdown",
   "metadata": {},
   "source": [
    "### Distribución 'MES'"
   ]
  },
  {
   "cell_type": "code",
   "execution_count": 31,
   "metadata": {},
   "outputs": [
    {
     "data": {
      "image/png": "[encoded data removed]",
      "text/plain": [
       "<Figure size 1200x500 with 1 Axes>"
      ]
     },
     "metadata": {},
     "output_type": "display_data"
    }
   ],
   "source": [
    "plt.figure(figsize = (12,5))\n",
    "sns.barplot(x=month_flights.index, y=month_flights.values)\n",
    "plt.title('Numero de vuelos por mes')\n",
    "plt.ylabel('Numero de vuelos', fontsize=10)\n",
    "plt.xlabel('Mes del año', fontsize=10)\n",
    "plt.xticks(rotation=0)\n",
    "plt.show()"
   ]
  },
  {
   "cell_type": "code",
   "execution_count": 32,
   "metadata": {},
   "outputs": [
    {
     "data": {
      "text/plain": [
       "0.2148486759142497"
      ]
     },
     "execution_count": 32,
     "metadata": {},
     "output_type": "execute_result"
    }
   ],
   "source": [
    "# Porcentaje de disminución de vuelos en junio (6), con relación al mes con más vuelos.\n",
    "(month_flights[12]-month_flights[6])/month_flights[12]"
   ]
  },
  {
   "cell_type": "markdown",
   "metadata": {},
   "source": [
    "### Distribución 'DIANOM'"
   ]
  },
  {
   "cell_type": "code",
   "execution_count": 33,
   "metadata": {},
   "outputs": [
    {
     "data": {
      "image/png": "[encoded data removed]",
      "text/plain": [
       "<Figure size 1200x500 with 1 Axes>"
      ]
     },
     "metadata": {},
     "output_type": "display_data"
    }
   ],
   "source": [
    "plt.figure(figsize = (12,5))\n",
    "sns.barplot(x=days, y=values_days)\n",
    "plt.title('Numero de vuelos por dia de la semana')\n",
    "plt.ylabel('Numero de vuelos', fontsize=10)\n",
    "plt.xlabel('Dia de la semana', fontsize=10)\n",
    "plt.xticks(rotation=0)\n",
    "plt.show()"
   ]
  },
  {
   "cell_type": "code",
   "execution_count": 34,
   "metadata": {},
   "outputs": [
    {
     "data": {
      "text/plain": [
       "0.1874695982099426"
      ]
     },
     "execution_count": 34,
     "metadata": {},
     "output_type": "execute_result"
    }
   ],
   "source": [
    "# Disminución de vuelos entre el viernes y el sabado\n",
    "(values_days[4]-values_days[5])/values_days[4]"
   ]
  },
  {
   "cell_type": "markdown",
   "metadata": {},
   "source": [
    "### Distribución 'TIPOVUELO'"
   ]
  },
  {
   "cell_type": "code",
   "execution_count": 35,
   "metadata": {},
   "outputs": [
    {
     "data": {
      "image/png": "[encoded data removed]",
      "text/plain": [
       "<Figure size 1200x500 with 1 Axes>"
      ]
     },
     "metadata": {},
     "output_type": "display_data"
    }
   ],
   "source": [
    "plt.figure(figsize = (12,5))\n",
    "sns.barplot(x=type_flights.index, y=type_flights.values)\n",
    "plt.title('Numero de vuelos por tipo de vuelo')\n",
    "plt.ylabel('Numero de vuelos', fontsize=10)\n",
    "plt.xlabel('Tipo de vuelo', fontsize=10)\n",
    "plt.show()"
   ]
  },
  {
   "cell_type": "code",
   "execution_count": 36,
   "metadata": {},
   "outputs": [
    {
     "name": "stdout",
     "output_type": "stream",
     "text": [
      "0.5422858567928763\n",
      "0.45771414320712367\n"
     ]
    }
   ],
   "source": [
    "# Distribución porcentual entre los tipos de vuelos\n",
    "print(type_flights[0]/type_flights.sum())\n",
    "print(type_flights[1]/type_flights.sum())"
   ]
  },
  {
   "cell_type": "markdown",
   "metadata": {},
   "source": [
    "### Distribución 'OPERA'"
   ]
  },
  {
   "cell_type": "code",
   "execution_count": 37,
   "metadata": {},
   "outputs": [
    {
     "data": {
      "image/png": "[encoded data removed]",
      "text/plain": [
       "<Figure size 1000x500 with 1 Axes>"
      ]
     },
     "metadata": {},
     "output_type": "display_data"
    }
   ],
   "source": [
    "plt.figure(figsize = (10,5))\n",
    "sns.barplot(x=airline_flights.index, y=airline_flights.values)\n",
    "plt.title('Numero de vuelos por aerolínea')\n",
    "plt.ylabel('Numero de vuelos', fontsize=10)\n",
    "plt.xlabel('Aerolinea', fontsize=10)\n",
    "plt.xticks(rotation=90)\n",
    "plt.show()"
   ]
  },
  {
   "cell_type": "code",
   "execution_count": 38,
   "metadata": {},
   "outputs": [
    {
     "data": {
      "text/plain": [
       "0.964102865022665"
      ]
     },
     "execution_count": 38,
     "metadata": {},
     "output_type": "execute_result"
    }
   ],
   "source": [
    "# Distribución porcentual de las 10 primera aerolineas con mas numero de vuelos\n",
    "airline_flights[0:12].sum()/airline_flights.sum()"
   ]
  },
  {
   "cell_type": "markdown",
   "metadata": {},
   "source": [
    "### Distribución 'SIGLADES'"
   ]
  },
  {
   "cell_type": "code",
   "execution_count": 39,
   "metadata": {},
   "outputs": [
    {
     "data": {
      "image/png": "[encoded data removed]",
      "text/plain": [
       "<Figure size 1000x500 with 1 Axes>"
      ]
     },
     "metadata": {},
     "output_type": "display_data"
    }
   ],
   "source": [
    "plt.figure(figsize = (10,5))\n",
    "sns.barplot(x=destination_flights.index, y=destination_flights.values)\n",
    "plt.title('Numero de vuelos por destino')\n",
    "plt.ylabel('Numero de vuelos', fontsize=10)\n",
    "plt.xlabel('Destino', fontsize=10)\n",
    "plt.xticks(rotation=90)\n",
    "plt.show()"
   ]
  },
  {
   "cell_type": "code",
   "execution_count": 40,
   "metadata": {},
   "outputs": [
    {
     "data": {
      "text/plain": [
       "0.9485821585224522"
      ]
     },
     "execution_count": 40,
     "metadata": {},
     "output_type": "execute_result"
    }
   ],
   "source": [
    "destination_flights[0:30].sum()/destination_flights.sum()"
   ]
  },
  {
   "cell_type": "markdown",
   "metadata": {},
   "source": [
    "## ¿Qué te llama la atención o cuál es tu conclusión sobre esto?"
   ]
  },
  {
   "cell_type": "markdown",
   "metadata": {},
   "source": [
    "### Distribución 'DIA'\n",
    "Todos los días del mes parecen tener una distribución similar de numero de vuelos. Los días 29, 30 y 31 tienen menos vuelos, pero esto es porque solo hay 11 meses con dia 29, 11 meses con dia 30 y solo 7 meses con dia 30. 2017 no es un año bisiesto.\n",
    "\n",
    "De acuerdo a esta distribución, la variable 'DIA' podria ser **eliminada** para los modelos. No trae mucha información."
   ]
  },
  {
   "cell_type": "markdown",
   "metadata": {},
   "source": [
    "### Distribución 'MES'\n",
    "Se puede ver claramente una reducción significativa de vuelos en los meses de mitad de año con los meses de fin de año.\n",
    "\n",
    "Tanto es así que en junio hay una reducción del **21.5%** de vuelos con relación a diciembre.\n",
    "\n",
    "Esto implica que 'MES' es una **variable importante** para el objetivo del desafio."
   ]
  },
  {
   "cell_type": "markdown",
   "metadata": {},
   "source": [
    "### Distribución 'DIANOM'\n",
    "\n",
    "Entre el viernes (dia con más numero de vuelos) y el sabado (dia con menos numero de vuelos) hay una reducción de 18.7% en el numero de vuelos, convirtiendo esta variable en una **variable relevante** para los modelos."
   ]
  },
  {
   "cell_type": "markdown",
   "metadata": {},
   "source": [
    "### Distribución 'TIPOVUELO'\n",
    "\n",
    "Los vuelos internacionales y nacionales están distribuidos como el 54% y 46%, respectivamente. Es una buena distribución porque es muy cercana al 50%, haciendo que los datos no estén desbalanceados."
   ]
  },
  {
   "cell_type": "markdown",
   "metadata": {},
   "source": [
    "### Distribución 'OPERA'\n",
    "\n",
    "Esta es una variable muy desbalanceada, las 12 primeras aerolineas concentran el 96.5% del total de vuelos.\n",
    "\n",
    "Por ser una variable tan desbalanceada, decido usar **solamente las 12 primeras aerolineas**, que serian:\n",
    "\n",
    "['Grupo LATAM', 'Sky Airline', 'Aerolineas Argentinas', 'Copa Air', 'Latin American Wings', 'Avianca', 'JetSmart SPA', 'Gol Trans', 'American Airlines', 'Air Canada', 'Iberia', 'Delta Air']"
   ]
  },
  {
   "cell_type": "markdown",
   "metadata": {},
   "source": [
    "### Distribución 'SIGLADES'\n",
    "\n",
    "Esta es otra variable muy desbalanceada, los 30 primeros destinos concentran el 95% del total de vuelos.\n",
    "\n",
    "Por ser una variable tan desbalanceada, decido usar **solamente los 30 primeros destinos**, que serian:\n",
    "\n",
    "['Buenos Aires', 'Antofagasta', 'Lima', 'Calama', 'Puerto Montt', 'Concepcion', 'Iquique', 'Sao Paulo', 'Temuco', 'Arica', 'La Serena', 'Punta Arenas', 'Ciudad de Panama', 'Copiapo', 'Mendoza', 'Bogota', 'Rio de Janeiro', 'Montevideo', 'Cordoba', 'Miami', 'Madrid', 'Balmaceda', 'Valdivia', 'Ciudad de Mexico', 'Isla de Pascua', 'Guayaquil', 'Nueva York', 'Auckland N.Z.', 'Paris', 'Atlanta']"
   ]
  },
  {
   "cell_type": "markdown",
   "metadata": {},
   "source": [
    "# PUNTO 2"
   ]
  },
  {
   "cell_type": "markdown",
   "metadata": {},
   "source": [
    "Genera las columnas adicionales y luego expórtelas en un archivo synthetic_features.csv :\n",
    "* `temporada_alta`: 1 si Fecha-I está entre 15-Dic y 3-Mar, o 15-Jul y 31-Jul, o 11-Sep y 30-Sep, 0 si no.\n",
    "* `dif_min`: diferencia en minutos entre Fecha-O y Fecha-I.\n",
    "* `atraso_15`: 1 si dif_min > 15, 0 si no.\n",
    "* `periodo_dia`: mañana (entre 5:00 y 11:59), tarde (entre 12:00 y 18:59) y noche (entre 19:00 y 4:59), con base a\n",
    "Fecha-I."
   ]
  },
  {
   "cell_type": "code",
   "execution_count": 186,
   "metadata": {},
   "outputs": [],
   "source": [
    "# Funciones para definir las 4 columnas solicitadas\n",
    "\n",
    "def temporada_alta(row):\n",
    "    current_year = row['Fecha-I'].year\n",
    "    one_initial = dt.datetime(current_year,12,15)\n",
    "    one_final = dt.datetime(current_year,3,3)\n",
    "    second_initial = dt.datetime(current_year,7,15)\n",
    "    second_final = dt.datetime(current_year,7,31)\n",
    "    third_initial = dt.datetime(current_year,9,11)\n",
    "    third_final = dt.datetime(current_year,9,30)\n",
    "\n",
    "    if ((one_initial <= row['Fecha-I'] <= one_final) or \n",
    "        (second_initial <= row['Fecha-I'] <= second_final) or \n",
    "        (third_initial <= row['Fecha-I'] <= third_final)\n",
    "    ):\n",
    "        return 1\n",
    "    return 0\n",
    "\n",
    "\n",
    "def dif_min(row):\n",
    "    diff = (row['Fecha-O'] - row['Fecha-I']).total_seconds()/60\n",
    "    return diff\n",
    "\n",
    "\n",
    "def atraso_15(row):\n",
    "    if (row['dif_min'] > 15):\n",
    "        return 1\n",
    "    return 0\n",
    "\n",
    "\n",
    "def periodo_dia(row):\n",
    "    one_initial = dt.time(5,0)\n",
    "    one_final = dt.time(11,59)\n",
    "    second_initial = dt.time(12,0)\n",
    "    second_final = dt.time(18,59)\n",
    "    if (one_initial <= row['Fecha-I'].time() <= one_final):\n",
    "        return 'mañana'\n",
    "    elif (second_initial <= row['Fecha-I'].time() <= second_final):\n",
    "        return 'tarde'\n",
    "    return 'noche'"
   ]
  },
  {
   "cell_type": "code",
   "execution_count": 42,
   "metadata": {},
   "outputs": [],
   "source": [
    "# Aplicando las funciones a df_initial\n",
    "\n",
    "df_initial['temporada_alta'] = df_initial.apply(temporada_alta, axis=1)\n",
    "df_initial['dif_min'] = df_initial.apply(dif_min, axis=1)\n",
    "df_initial['atraso_15'] = df_initial.apply(atraso_15, axis=1)\n",
    "df_initial['periodo_dia'] = df_initial.apply(periodo_dia, axis=1)"
   ]
  },
  {
   "cell_type": "code",
   "execution_count": 43,
   "metadata": {},
   "outputs": [
    {
     "name": "stdout",
     "output_type": "stream",
     "text": [
      "Valores de Temporada Alta = [0 1]\n",
      "Valores de Diferencia de Minutos = [  3.   9.  -2.  34.  -5.  40.  69.  -9.  14.  -7.  -4. -11. -12.  15.\n",
      "   2.   8.  52.   0.  26.  -3.  -1.   5.   1.  -6.   4. -10.  10.  20.\n",
      "  11.  24.  25.  13.  62.  -8.  19.  60.  17.  67.  84.  63.  97.  90.\n",
      " 130.  77.  32.  39.  48.   6.  28.  33.  22.  21.  27.  47.  55.  53.\n",
      " 105.  72.  99. 147.  18.  16.   7.  12. 138. -13.  31.  88.  35.  30.\n",
      " -14.  42.  37.  87.  65.  38.  59.  23.  46.  51.  94.  68.  57.  58.\n",
      "  50.  29.  41.  54.  64.  81.  96.  56. 126.  61.  44. 133. 159.  43.\n",
      "  75. 115.  45.  74. 104.  36.  73. 106.  49.  95.  89.  70. 113. 107.\n",
      "  83. 116. 129. 119.  98. 154. 135. 109. 132. 161. 151. 148.  66. 140.\n",
      "  76. 122.  92.  78. 142. 128. 127. 123. 110. 100. 143.  79. 103.  93.\n",
      " 160.  86. 101. 136.  91. 112. 117.  80. 114. 150. 152. 111.  82. 157.\n",
      " 137. 155. 120. 125. 102. 108.  85. 145. 121. 153. 158.  71. 118. 131.\n",
      " 139. 144. 134. 146. 124. 141. 156. 149.]\n",
      "Valores de Atraso mayor a 15 minutos = [0 1]\n",
      "Valores de Periodo del Dia = ['noche' 'tarde' 'mañana']\n"
     ]
    }
   ],
   "source": [
    "# Revisando que las nuevas columnas tienen valores correctos\n",
    "\n",
    "print(f'Valores de Temporada Alta = {df_initial.temporada_alta.unique()}')\n",
    "print(f'Valores de Diferencia de Minutos = {df_initial.dif_min.unique()}')\n",
    "print(f'Valores de Atraso mayor a 15 minutos = {df_initial.atraso_15.unique()}')\n",
    "print(f'Valores de Periodo del Dia = {df_initial.periodo_dia.unique()}')"
   ]
  },
  {
   "cell_type": "code",
   "execution_count": 44,
   "metadata": {},
   "outputs": [
    {
     "name": "stdout",
     "output_type": "stream",
     "text": [
      "<class 'pandas.core.frame.DataFrame'>\n",
      "RangeIndex: 68167 entries, 0 to 68166\n",
      "Data columns (total 16 columns):\n",
      " #   Column          Non-Null Count  Dtype         \n",
      "---  ------          --------------  -----         \n",
      " 0   Fecha-I         68167 non-null  datetime64[ns]\n",
      " 1   Vlo-I           68167 non-null  object        \n",
      " 2   Emp-I           68167 non-null  object        \n",
      " 3   Fecha-O         68167 non-null  datetime64[ns]\n",
      " 4   Vlo-O           68167 non-null  object        \n",
      " 5   Emp-O           68167 non-null  object        \n",
      " 6   DIA             68167 non-null  int32         \n",
      " 7   MES             68167 non-null  int32         \n",
      " 8   DIANOM          68167 non-null  object        \n",
      " 9   TIPOVUELO       68167 non-null  object        \n",
      " 10  OPERA           68167 non-null  object        \n",
      " 11  SIGLADES        68167 non-null  object        \n",
      " 12  temporada_alta  68167 non-null  int64         \n",
      " 13  dif_min         68167 non-null  float64       \n",
      " 14  atraso_15       68167 non-null  int64         \n",
      " 15  periodo_dia     68167 non-null  object        \n",
      "dtypes: datetime64[ns](2), float64(1), int32(2), int64(2), object(9)\n",
      "memory usage: 7.8+ MB\n"
     ]
    }
   ],
   "source": [
    "df_initial.info()"
   ]
  },
  {
   "cell_type": "code",
   "execution_count": 45,
   "metadata": {},
   "outputs": [],
   "source": [
    "# Guardar resultados como 'synthetic_features.csv'\n",
    "df_initial.to_csv('synthetic_features.csv')"
   ]
  },
  {
   "cell_type": "markdown",
   "metadata": {},
   "source": [
    "## Variable de precipitación (lluvia) sobre el aeropuerto de Santiago (SCL)"
   ]
  },
  {
   "cell_type": "markdown",
   "metadata": {},
   "source": [
    "Simplemente como usuario, creo que una de las variables más importantes que afecta el retraso de vuelos es el **clima**. Sin embargo, esa variable no está presente en estos datos.\n",
    "\n",
    "Es por ello que traigo los datos historicos de precipitación para el aeropuerto de Santiago, tomados del [Climate Prediction Center](https://www.cpc.ncep.noaa.gov/) de la NOAA-[National Oceanic and Atmospheric Administration.](https://www.noaa.gov/)\n",
    "\n",
    "[Acá](https://ftp.cpc.ncep.noaa.gov/precip/CPC_UNI_PRCP/GAUGE_GLB/RT/) se encuentran los registros de precipitación diaria de todo el mundo desde 1979, con una resolucion aproximada de 25 kilometros.\n",
    "\n",
    "Para descargar los archivos se usa la funcion **cpc_prcp** de la [libreria rnooa](https://cran.r-project.org/web/packages/rnoaa/rnoaa.pdf)(página 19 del pdf), del repositorio CRAN de R. Esta libreria permite bajar los archivos por fecha para todo el mundo. Yo dispongo de un archivo unificado con los datos de precipitación para Ámerica del Sur desde enero de 2011 hasta noviembre de 2021, por causa de mi trabajo actual. Usaré este archivo para obtener el historico de precipipitación del aeropuerto de Santiago en 2017.\n",
    "\n",
    "Entiendo que el factor precipitación lluvia no es el unico que puede afectar la operación de un aeropuerto, pero usaré solo ese factor climatologico."
   ]
  },
  {
   "cell_type": "markdown",
   "metadata": {},
   "source": [
    "Según [Google Maps](https://goo.gl/maps/GMsRv4s6ipyMYo8T7), el **Aeropuerto de Santiago de Chile** se ubica, aproximadamente, en la latitud -33.4 y longitud -70.8.\n",
    "\n",
    "Para usar los datos del Climate Prediction Center la **longitud** debe ser transformada para valores entre 0 y 360. Es por ello que la longitud usada será (-70.8 + 360) de 289.2.\n",
    "\n",
    "Finalmente, se deben aproximar las coordenadas del aeropuerto a los puntos del Climate Prediction Center. Por eso, las coordenadas usadas para los datos de precipitación serán -31.5 para latitud y 289.0 para longitud.\n",
    "\n",
    "Este no es el metodo estandar para calcular la precipitación en un aeropuerto o sobre cualquier area. Se requiere del contorno del area a analizar, para hacer luego un promedio de todos los puntos de precipitación dentro de ese contorno. Pero, usaré este medoto para el presente desafio."
   ]
  },
  {
   "cell_type": "code",
   "execution_count": 157,
   "metadata": {},
   "outputs": [
    {
     "name": "stdout",
     "output_type": "stream",
     "text": [
      "<class 'pandas.core.frame.DataFrame'>\n",
      "RangeIndex: 365 entries, 0 to 364\n",
      "Data columns (total 4 columns):\n",
      " #   Column           Non-Null Count  Dtype         \n",
      "---  ------           --------------  -----         \n",
      " 0   date             365 non-null    datetime64[ns]\n",
      " 1   latitude         365 non-null    float64       \n",
      " 2   longitude        365 non-null    float64       \n",
      " 3   precipitacao_mm  365 non-null    float64       \n",
      "dtypes: datetime64[ns](1), float64(3)\n",
      "memory usage: 11.5 KB\n"
     ]
    }
   ],
   "source": [
    "# Importando los datos de precipitación en el Aeropuerto de Santiago.\n",
    "# Convirtiendo el indice en datetime\n",
    "\n",
    "df_prcp = pd.read_csv('SCL_precipitation.csv')\n",
    "df_prcp['date'] = pd.to_datetime(df_prcp['date'])\n",
    "df_prcp.info()"
   ]
  },
  {
   "cell_type": "code",
   "execution_count": 164,
   "metadata": {},
   "outputs": [
    {
     "data": {
      "image/png": "[encoded data removed]",
      "text/plain": [
       "<Figure size 640x480 with 1 Axes>"
      ]
     },
     "metadata": {},
     "output_type": "display_data"
    }
   ],
   "source": [
    "# Distribucion de la precipitacion en mm en 2017\n",
    "df_prcp.plot(x='date', y='precipitacao_mm')\n",
    "plt.show()"
   ]
  },
  {
   "cell_type": "markdown",
   "metadata": {},
   "source": [
    "## Dataframe final para predicción de atrasos\n",
    "\n",
    "\"Data makes the difference, not the model\""
   ]
  },
  {
   "cell_type": "markdown",
   "metadata": {},
   "source": [
    "### Limpieza y filtrado de variables para los modelos"
   ]
  },
  {
   "cell_type": "markdown",
   "metadata": {},
   "source": [
    "Segun el **PUNTO 1** y la distribución de los datos, decidí eliminar y filtrar algunas de las variables de los datos iniciales para hacer que los modelos que van a ser usados \"entiendan\" mejor el problema.\n",
    "\n",
    "Además, porque NO es el objetivo, de este desafio, desarrollar modelos que van a producción.\n",
    "\n",
    "Los cambios que se harán son los siguientes:\n",
    "* Eliminar columna 'DIA', no aporta información relevante. \n",
    "* Mantener columna 'MES, 'DIANOM' y 'TIPOVUELO'.\n",
    "* Filtrar para solo las primeras 12 aerolineas que tienen más vuelos, columna 'OPERA'. Representan el 96.5% de los vuelos.\n",
    "* Filtrar para solo los 30 destinos con más vuelos, columna 'SIGLADES'. Representa el 95% de los vuelos."
   ]
  },
  {
   "cell_type": "code",
   "execution_count": 60,
   "metadata": {},
   "outputs": [],
   "source": [
    "# Eliminar columna 'DIA'\n",
    "\n",
    "df_final = df_initial.drop('DIA', axis=1)"
   ]
  },
  {
   "cell_type": "code",
   "execution_count": 61,
   "metadata": {},
   "outputs": [],
   "source": [
    "# Filtrar para las primeras 12 aerolineas.\n",
    "\n",
    "airline_filter = airline_flights[:12]\n",
    "df_final = df_final[df_final.OPERA.isin(airline_filter.index)]"
   ]
  },
  {
   "cell_type": "code",
   "execution_count": 63,
   "metadata": {},
   "outputs": [],
   "source": [
    "# Filtrar para los primeros 30 destinos.\n",
    "\n",
    "destination_filter = destination_flights[:30]\n",
    "df_final = df_final[df_final.SIGLADES.isin(destination_filter.index)]"
   ]
  },
  {
   "cell_type": "code",
   "execution_count": 68,
   "metadata": {},
   "outputs": [
    {
     "data": {
      "text/plain": [
       "(63209, 15)"
      ]
     },
     "execution_count": 68,
     "metadata": {},
     "output_type": "execute_result"
    }
   ],
   "source": [
    "# Quedaron 63.209 vuelos de los 68.167 originales\n",
    "\n",
    "df_final.shape"
   ]
  },
  {
   "cell_type": "markdown",
   "metadata": {},
   "source": [
    "### Variables importantes segun el análisis de datos"
   ]
  },
  {
   "cell_type": "markdown",
   "metadata": {},
   "source": [
    "Como se mostró en \"Concordancia de la información\", el cambio de codigo de aerolinea y el cambio de codigo de vuelo entre los vuelos programados y operados, podrian ser importantes para la predicción de atrasos, esto porque, representan casi el 35% de los vuelos.\n",
    "\n",
    "Por ello, decido incluir dos columnas:\n",
    "* 'cambio_Emp', con valores 0 o 1. Donde 1 son los vuelos donde hubo cambio de codigo de aerolinea entre 'Emp-I' y 'Emp-O'.\n",
    "* 'cambio_Vlo', con valores 0 o 1. Donde 1 son los vuelos donde hubo cambio de codigo del vuelo entre 'Vlo-I' y 'Vlo-O'."
   ]
  },
  {
   "cell_type": "code",
   "execution_count": 71,
   "metadata": {},
   "outputs": [],
   "source": [
    "# Funciones para crear las columnas 'cambio_Emp' y 'cambio_Vlo'\n",
    "\n",
    "def cambio_emp(row):\n",
    "    if (row['Emp-I'] != row['Emp-O']):\n",
    "        return 1\n",
    "    return 0\n",
    "\n",
    "\n",
    "def cambio_vlo(row):\n",
    "    if (row['Vlo-I'] != row['Vlo-O']):\n",
    "        return 1\n",
    "    return 0"
   ]
  },
  {
   "cell_type": "code",
   "execution_count": 73,
   "metadata": {},
   "outputs": [],
   "source": [
    "# Aplicando funciones\n",
    "\n",
    "df_final['cambio_Emp'] = df_final.apply(cambio_emp, axis=1)\n",
    "df_final['cambio_Vlo'] = df_final.apply(cambio_vlo, axis=1)"
   ]
  },
  {
   "cell_type": "code",
   "execution_count": 75,
   "metadata": {},
   "outputs": [
    {
     "data": {
      "text/plain": [
       "0    44967\n",
       "1    18242\n",
       "Name: cambio_Emp, dtype: int64"
      ]
     },
     "execution_count": 75,
     "metadata": {},
     "output_type": "execute_result"
    }
   ],
   "source": [
    "# Comprobando valores\n",
    "\n",
    "df_final['cambio_Emp'].value_counts()"
   ]
  },
  {
   "cell_type": "markdown",
   "metadata": {},
   "source": [
    "### Merge con los datos de precipitación"
   ]
  },
  {
   "cell_type": "markdown",
   "metadata": {},
   "source": [
    "A continuación se hará merge los datos de precipitación con el DataFrame final.\n",
    "\n",
    "Para ello, crearé una columna 'date' con unicamente las fechas (sin horas) de 'Fecha_I', para luego colocar allí los datos de precipitation_mm de df_prcp."
   ]
  },
  {
   "cell_type": "code",
   "execution_count": 180,
   "metadata": {},
   "outputs": [],
   "source": [
    "df_final['date'] = df_final['Fecha-I'].dt.date\n",
    "df_final['date'] = pd.to_datetime(df_final['date'])"
   ]
  },
  {
   "cell_type": "code",
   "execution_count": 168,
   "metadata": {},
   "outputs": [
    {
     "data": {
      "text/html": [
       "<div>\n",
       "<style scoped>\n",
       "    .dataframe tbody tr th:only-of-type {\n",
       "        vertical-align: middle;\n",
       "    }\n",
       "\n",
       "    .dataframe tbody tr th {\n",
       "        vertical-align: top;\n",
       "    }\n",
       "\n",
       "    .dataframe thead th {\n",
       "        text-align: right;\n",
       "    }\n",
       "</style>\n",
       "<table border=\"1\" class=\"dataframe\">\n",
       "  <thead>\n",
       "    <tr style=\"text-align: right;\">\n",
       "      <th></th>\n",
       "      <th>date</th>\n",
       "      <th>precipitacao_mm</th>\n",
       "    </tr>\n",
       "  </thead>\n",
       "  <tbody>\n",
       "    <tr>\n",
       "      <th>0</th>\n",
       "      <td>2017-01-01</td>\n",
       "      <td>0.0</td>\n",
       "    </tr>\n",
       "    <tr>\n",
       "      <th>1</th>\n",
       "      <td>2017-01-02</td>\n",
       "      <td>0.0</td>\n",
       "    </tr>\n",
       "    <tr>\n",
       "      <th>2</th>\n",
       "      <td>2017-01-03</td>\n",
       "      <td>0.0</td>\n",
       "    </tr>\n",
       "    <tr>\n",
       "      <th>3</th>\n",
       "      <td>2017-01-04</td>\n",
       "      <td>0.0</td>\n",
       "    </tr>\n",
       "    <tr>\n",
       "      <th>4</th>\n",
       "      <td>2017-01-05</td>\n",
       "      <td>0.0</td>\n",
       "    </tr>\n",
       "    <tr>\n",
       "      <th>...</th>\n",
       "      <td>...</td>\n",
       "      <td>...</td>\n",
       "    </tr>\n",
       "    <tr>\n",
       "      <th>360</th>\n",
       "      <td>2017-12-27</td>\n",
       "      <td>0.0</td>\n",
       "    </tr>\n",
       "    <tr>\n",
       "      <th>361</th>\n",
       "      <td>2017-12-28</td>\n",
       "      <td>0.0</td>\n",
       "    </tr>\n",
       "    <tr>\n",
       "      <th>362</th>\n",
       "      <td>2017-12-29</td>\n",
       "      <td>0.0</td>\n",
       "    </tr>\n",
       "    <tr>\n",
       "      <th>363</th>\n",
       "      <td>2017-12-30</td>\n",
       "      <td>0.0</td>\n",
       "    </tr>\n",
       "    <tr>\n",
       "      <th>364</th>\n",
       "      <td>2017-12-31</td>\n",
       "      <td>0.0</td>\n",
       "    </tr>\n",
       "  </tbody>\n",
       "</table>\n",
       "<p>365 rows × 2 columns</p>\n",
       "</div>"
      ],
      "text/plain": [
       "          date  precipitacao_mm\n",
       "0   2017-01-01              0.0\n",
       "1   2017-01-02              0.0\n",
       "2   2017-01-03              0.0\n",
       "3   2017-01-04              0.0\n",
       "4   2017-01-05              0.0\n",
       "..         ...              ...\n",
       "360 2017-12-27              0.0\n",
       "361 2017-12-28              0.0\n",
       "362 2017-12-29              0.0\n",
       "363 2017-12-30              0.0\n",
       "364 2017-12-31              0.0\n",
       "\n",
       "[365 rows x 2 columns]"
      ]
     },
     "execution_count": 168,
     "metadata": {},
     "output_type": "execute_result"
    }
   ],
   "source": [
    "# Eliminar columnas que no son necesarias en df_prcp\n",
    "\n",
    "df_prcp.drop(['latitude', 'longitude'], axis=1, inplace=True)\n",
    "df_prcp"
   ]
  },
  {
   "cell_type": "code",
   "execution_count": 182,
   "metadata": {},
   "outputs": [
    {
     "data": {
      "text/html": [
       "<div>\n",
       "<style scoped>\n",
       "    .dataframe tbody tr th:only-of-type {\n",
       "        vertical-align: middle;\n",
       "    }\n",
       "\n",
       "    .dataframe tbody tr th {\n",
       "        vertical-align: top;\n",
       "    }\n",
       "\n",
       "    .dataframe thead th {\n",
       "        text-align: right;\n",
       "    }\n",
       "</style>\n",
       "<table border=\"1\" class=\"dataframe\">\n",
       "  <thead>\n",
       "    <tr style=\"text-align: right;\">\n",
       "      <th></th>\n",
       "      <th>Fecha-I</th>\n",
       "      <th>Vlo-I</th>\n",
       "      <th>Emp-I</th>\n",
       "      <th>Fecha-O</th>\n",
       "      <th>Vlo-O</th>\n",
       "      <th>Emp-O</th>\n",
       "      <th>MES</th>\n",
       "      <th>DIANOM</th>\n",
       "      <th>TIPOVUELO</th>\n",
       "      <th>OPERA</th>\n",
       "      <th>SIGLADES</th>\n",
       "      <th>temporada_alta</th>\n",
       "      <th>dif_min</th>\n",
       "      <th>atraso_15</th>\n",
       "      <th>periodo_dia</th>\n",
       "      <th>cambio_Emp</th>\n",
       "      <th>cambio_Vlo</th>\n",
       "      <th>date</th>\n",
       "      <th>precipitacao_mm</th>\n",
       "    </tr>\n",
       "  </thead>\n",
       "  <tbody>\n",
       "    <tr>\n",
       "      <th>0</th>\n",
       "      <td>2017-01-01 23:30:00</td>\n",
       "      <td>226</td>\n",
       "      <td>AAL</td>\n",
       "      <td>2017-01-01 23:33:00</td>\n",
       "      <td>226</td>\n",
       "      <td>AAL</td>\n",
       "      <td>1</td>\n",
       "      <td>Domingo</td>\n",
       "      <td>I</td>\n",
       "      <td>American Airlines</td>\n",
       "      <td>Miami</td>\n",
       "      <td>0</td>\n",
       "      <td>3.0</td>\n",
       "      <td>0</td>\n",
       "      <td>noche</td>\n",
       "      <td>0</td>\n",
       "      <td>0</td>\n",
       "      <td>2017-01-01</td>\n",
       "      <td>0.0</td>\n",
       "    </tr>\n",
       "    <tr>\n",
       "      <th>1</th>\n",
       "      <td>2017-01-01 22:00:00</td>\n",
       "      <td>912</td>\n",
       "      <td>AAL</td>\n",
       "      <td>2017-01-01 22:15:00</td>\n",
       "      <td>912</td>\n",
       "      <td>AAL</td>\n",
       "      <td>1</td>\n",
       "      <td>Domingo</td>\n",
       "      <td>I</td>\n",
       "      <td>American Airlines</td>\n",
       "      <td>Miami</td>\n",
       "      <td>0</td>\n",
       "      <td>15.0</td>\n",
       "      <td>0</td>\n",
       "      <td>noche</td>\n",
       "      <td>0</td>\n",
       "      <td>0</td>\n",
       "      <td>2017-01-01</td>\n",
       "      <td>0.0</td>\n",
       "    </tr>\n",
       "    <tr>\n",
       "      <th>2</th>\n",
       "      <td>2017-01-01 13:35:00</td>\n",
       "      <td>92</td>\n",
       "      <td>ACA</td>\n",
       "      <td>2017-01-01 13:54:00</td>\n",
       "      <td>92</td>\n",
       "      <td>ACA</td>\n",
       "      <td>1</td>\n",
       "      <td>Domingo</td>\n",
       "      <td>I</td>\n",
       "      <td>Air Canada</td>\n",
       "      <td>Buenos Aires</td>\n",
       "      <td>0</td>\n",
       "      <td>19.0</td>\n",
       "      <td>1</td>\n",
       "      <td>tarde</td>\n",
       "      <td>0</td>\n",
       "      <td>0</td>\n",
       "      <td>2017-01-01</td>\n",
       "      <td>0.0</td>\n",
       "    </tr>\n",
       "    <tr>\n",
       "      <th>3</th>\n",
       "      <td>2017-01-01 10:35:00</td>\n",
       "      <td>1281</td>\n",
       "      <td>ARG</td>\n",
       "      <td>2017-01-01 10:25:00</td>\n",
       "      <td>1281</td>\n",
       "      <td>ARG</td>\n",
       "      <td>1</td>\n",
       "      <td>Domingo</td>\n",
       "      <td>I</td>\n",
       "      <td>Aerolineas Argentinas</td>\n",
       "      <td>Buenos Aires</td>\n",
       "      <td>0</td>\n",
       "      <td>-10.0</td>\n",
       "      <td>0</td>\n",
       "      <td>mañana</td>\n",
       "      <td>0</td>\n",
       "      <td>0</td>\n",
       "      <td>2017-01-01</td>\n",
       "      <td>0.0</td>\n",
       "    </tr>\n",
       "    <tr>\n",
       "      <th>4</th>\n",
       "      <td>2017-01-01 16:45:00</td>\n",
       "      <td>1285</td>\n",
       "      <td>ARG</td>\n",
       "      <td>2017-01-01 16:38:00</td>\n",
       "      <td>1285</td>\n",
       "      <td>ARG</td>\n",
       "      <td>1</td>\n",
       "      <td>Domingo</td>\n",
       "      <td>I</td>\n",
       "      <td>Aerolineas Argentinas</td>\n",
       "      <td>Buenos Aires</td>\n",
       "      <td>0</td>\n",
       "      <td>-7.0</td>\n",
       "      <td>0</td>\n",
       "      <td>tarde</td>\n",
       "      <td>0</td>\n",
       "      <td>0</td>\n",
       "      <td>2017-01-01</td>\n",
       "      <td>0.0</td>\n",
       "    </tr>\n",
       "    <tr>\n",
       "      <th>...</th>\n",
       "      <td>...</td>\n",
       "      <td>...</td>\n",
       "      <td>...</td>\n",
       "      <td>...</td>\n",
       "      <td>...</td>\n",
       "      <td>...</td>\n",
       "      <td>...</td>\n",
       "      <td>...</td>\n",
       "      <td>...</td>\n",
       "      <td>...</td>\n",
       "      <td>...</td>\n",
       "      <td>...</td>\n",
       "      <td>...</td>\n",
       "      <td>...</td>\n",
       "      <td>...</td>\n",
       "      <td>...</td>\n",
       "      <td>...</td>\n",
       "      <td>...</td>\n",
       "      <td>...</td>\n",
       "    </tr>\n",
       "    <tr>\n",
       "      <th>63204</th>\n",
       "      <td>2017-12-26 07:00:00</td>\n",
       "      <td>203</td>\n",
       "      <td>JAT</td>\n",
       "      <td>2017-12-26 07:01:00</td>\n",
       "      <td>3</td>\n",
       "      <td>JAT</td>\n",
       "      <td>12</td>\n",
       "      <td>Martes</td>\n",
       "      <td>N</td>\n",
       "      <td>JetSmart SPA</td>\n",
       "      <td>Concepcion</td>\n",
       "      <td>0</td>\n",
       "      <td>1.0</td>\n",
       "      <td>0</td>\n",
       "      <td>mañana</td>\n",
       "      <td>0</td>\n",
       "      <td>1</td>\n",
       "      <td>2017-12-26</td>\n",
       "      <td>0.0</td>\n",
       "    </tr>\n",
       "    <tr>\n",
       "      <th>63205</th>\n",
       "      <td>2017-12-26 10:37:00</td>\n",
       "      <td>251</td>\n",
       "      <td>JAT</td>\n",
       "      <td>2017-12-26 10:39:00</td>\n",
       "      <td>251</td>\n",
       "      <td>JAT</td>\n",
       "      <td>12</td>\n",
       "      <td>Martes</td>\n",
       "      <td>N</td>\n",
       "      <td>JetSmart SPA</td>\n",
       "      <td>Puerto Montt</td>\n",
       "      <td>0</td>\n",
       "      <td>2.0</td>\n",
       "      <td>0</td>\n",
       "      <td>mañana</td>\n",
       "      <td>0</td>\n",
       "      <td>0</td>\n",
       "      <td>2017-12-26</td>\n",
       "      <td>0.0</td>\n",
       "    </tr>\n",
       "    <tr>\n",
       "      <th>63206</th>\n",
       "      <td>2017-12-26 18:51:00</td>\n",
       "      <td>255</td>\n",
       "      <td>JAT</td>\n",
       "      <td>2017-12-26 19:11:00</td>\n",
       "      <td>255</td>\n",
       "      <td>JAT</td>\n",
       "      <td>12</td>\n",
       "      <td>Martes</td>\n",
       "      <td>N</td>\n",
       "      <td>JetSmart SPA</td>\n",
       "      <td>Puerto Montt</td>\n",
       "      <td>0</td>\n",
       "      <td>20.0</td>\n",
       "      <td>1</td>\n",
       "      <td>tarde</td>\n",
       "      <td>0</td>\n",
       "      <td>0</td>\n",
       "      <td>2017-12-26</td>\n",
       "      <td>0.0</td>\n",
       "    </tr>\n",
       "    <tr>\n",
       "      <th>63207</th>\n",
       "      <td>2017-12-26 14:23:00</td>\n",
       "      <td>281</td>\n",
       "      <td>JAT</td>\n",
       "      <td>2017-12-26 14:29:00</td>\n",
       "      <td>281</td>\n",
       "      <td>JAT</td>\n",
       "      <td>12</td>\n",
       "      <td>Martes</td>\n",
       "      <td>N</td>\n",
       "      <td>JetSmart SPA</td>\n",
       "      <td>Temuco</td>\n",
       "      <td>0</td>\n",
       "      <td>6.0</td>\n",
       "      <td>0</td>\n",
       "      <td>tarde</td>\n",
       "      <td>0</td>\n",
       "      <td>0</td>\n",
       "      <td>2017-12-26</td>\n",
       "      <td>0.0</td>\n",
       "    </tr>\n",
       "    <tr>\n",
       "      <th>63208</th>\n",
       "      <td>2017-12-26 04:05:00</td>\n",
       "      <td>301</td>\n",
       "      <td>JAT</td>\n",
       "      <td>2017-12-26 04:05:00</td>\n",
       "      <td>1</td>\n",
       "      <td>JAT</td>\n",
       "      <td>12</td>\n",
       "      <td>Martes</td>\n",
       "      <td>N</td>\n",
       "      <td>JetSmart SPA</td>\n",
       "      <td>Punta Arenas</td>\n",
       "      <td>0</td>\n",
       "      <td>0.0</td>\n",
       "      <td>0</td>\n",
       "      <td>noche</td>\n",
       "      <td>0</td>\n",
       "      <td>1</td>\n",
       "      <td>2017-12-26</td>\n",
       "      <td>0.0</td>\n",
       "    </tr>\n",
       "  </tbody>\n",
       "</table>\n",
       "<p>63209 rows × 19 columns</p>\n",
       "</div>"
      ],
      "text/plain": [
       "                  Fecha-I Vlo-I Emp-I             Fecha-O Vlo-O Emp-O  MES  \\\n",
       "0     2017-01-01 23:30:00   226   AAL 2017-01-01 23:33:00   226   AAL    1   \n",
       "1     2017-01-01 22:00:00   912   AAL 2017-01-01 22:15:00   912   AAL    1   \n",
       "2     2017-01-01 13:35:00    92   ACA 2017-01-01 13:54:00    92   ACA    1   \n",
       "3     2017-01-01 10:35:00  1281   ARG 2017-01-01 10:25:00  1281   ARG    1   \n",
       "4     2017-01-01 16:45:00  1285   ARG 2017-01-01 16:38:00  1285   ARG    1   \n",
       "...                   ...   ...   ...                 ...   ...   ...  ...   \n",
       "63204 2017-12-26 07:00:00   203   JAT 2017-12-26 07:01:00     3   JAT   12   \n",
       "63205 2017-12-26 10:37:00   251   JAT 2017-12-26 10:39:00   251   JAT   12   \n",
       "63206 2017-12-26 18:51:00   255   JAT 2017-12-26 19:11:00   255   JAT   12   \n",
       "63207 2017-12-26 14:23:00   281   JAT 2017-12-26 14:29:00   281   JAT   12   \n",
       "63208 2017-12-26 04:05:00   301   JAT 2017-12-26 04:05:00     1   JAT   12   \n",
       "\n",
       "        DIANOM TIPOVUELO                  OPERA      SIGLADES  temporada_alta  \\\n",
       "0      Domingo         I      American Airlines         Miami               0   \n",
       "1      Domingo         I      American Airlines         Miami               0   \n",
       "2      Domingo         I             Air Canada  Buenos Aires               0   \n",
       "3      Domingo         I  Aerolineas Argentinas  Buenos Aires               0   \n",
       "4      Domingo         I  Aerolineas Argentinas  Buenos Aires               0   \n",
       "...        ...       ...                    ...           ...             ...   \n",
       "63204   Martes         N           JetSmart SPA    Concepcion               0   \n",
       "63205   Martes         N           JetSmart SPA  Puerto Montt               0   \n",
       "63206   Martes         N           JetSmart SPA  Puerto Montt               0   \n",
       "63207   Martes         N           JetSmart SPA        Temuco               0   \n",
       "63208   Martes         N           JetSmart SPA  Punta Arenas               0   \n",
       "\n",
       "       dif_min  atraso_15 periodo_dia  cambio_Emp  cambio_Vlo       date  \\\n",
       "0          3.0          0       noche           0           0 2017-01-01   \n",
       "1         15.0          0       noche           0           0 2017-01-01   \n",
       "2         19.0          1       tarde           0           0 2017-01-01   \n",
       "3        -10.0          0      mañana           0           0 2017-01-01   \n",
       "4         -7.0          0       tarde           0           0 2017-01-01   \n",
       "...        ...        ...         ...         ...         ...        ...   \n",
       "63204      1.0          0      mañana           0           1 2017-12-26   \n",
       "63205      2.0          0      mañana           0           0 2017-12-26   \n",
       "63206     20.0          1       tarde           0           0 2017-12-26   \n",
       "63207      6.0          0       tarde           0           0 2017-12-26   \n",
       "63208      0.0          0       noche           0           1 2017-12-26   \n",
       "\n",
       "       precipitacao_mm  \n",
       "0                  0.0  \n",
       "1                  0.0  \n",
       "2                  0.0  \n",
       "3                  0.0  \n",
       "4                  0.0  \n",
       "...                ...  \n",
       "63204              0.0  \n",
       "63205              0.0  \n",
       "63206              0.0  \n",
       "63207              0.0  \n",
       "63208              0.0  \n",
       "\n",
       "[63209 rows x 19 columns]"
      ]
     },
     "execution_count": 182,
     "metadata": {},
     "output_type": "execute_result"
    }
   ],
   "source": [
    "# Merge df_final y df_prcp por date\n",
    "\n",
    "df_merge = pd.merge(df_final, df_prcp, on='date')\n",
    "df_merge"
   ]
  },
  {
   "cell_type": "code",
   "execution_count": 183,
   "metadata": {},
   "outputs": [
    {
     "data": {
      "image/png": "[encoded data removed]",
      "text/plain": [
       "<Figure size 640x480 with 1 Axes>"
      ]
     },
     "metadata": {},
     "output_type": "display_data"
    }
   ],
   "source": [
    "# Distribucion de la precipitacion en mm en 2017 en los datos finales\n",
    "df_merge.plot(x='date', y='precipitacao_mm')\n",
    "plt.show()"
   ]
  },
  {
   "cell_type": "markdown",
   "metadata": {},
   "source": [
    "# PUNTO 3"
   ]
  },
  {
   "cell_type": "markdown",
   "metadata": {},
   "source": [
    "## ¿Cómo se compone la tasa de atraso por destino, aerolínea, mes del año, día de la semana, temporada, tipo de vuelo?"
   ]
  },
  {
   "cell_type": "markdown",
   "metadata": {},
   "source": [
    "### Variables para graficos de tasa de atraso"
   ]
  },
  {
   "cell_type": "code",
   "execution_count": 226,
   "metadata": {},
   "outputs": [],
   "source": [
    "destination_delays = (df_merge.groupby(['SIGLADES'])['atraso_15'].sum()*100/df_merge['SIGLADES'].count()).sort_values(ascending=False)\n",
    "airline_delays = (df_merge.groupby(['OPERA'])['atraso_15'].sum()*100/df_merge['OPERA'].count()).sort_values(ascending=False)\n",
    "month_delays = (df_merge.groupby(['MES'])['atraso_15'].sum()*100/df_merge['MES'].count()).sort_values(ascending=False)\n",
    "weekday_delays = (df_merge.groupby(['DIANOM'])['atraso_15'].sum()*100/df_merge['DIANOM'].count()).sort_values(ascending=False)\n",
    "days_delays = [weekday_delays.index[1], weekday_delays.index[4],\n",
    "               weekday_delays.index[3], weekday_delays.index[2],\n",
    "               weekday_delays.index[0], weekday_delays.index[6],\n",
    "               weekday_delays.index[5]\n",
    "]\n",
    "values_days_delays = [weekday_delays.values[1], weekday_delays.values[4],\n",
    "                      weekday_delays.values[3], weekday_delays.values[2],\n",
    "                      weekday_delays.values[0], weekday_delays.values[6],\n",
    "                      weekday_delays.values[5]\n",
    "]\n",
    "season_delays = (df_merge.groupby(['temporada_alta'])['atraso_15'].sum()*100/df_merge['temporada_alta'].count()).sort_values(ascending=False)\n",
    "season_values = df_merge['temporada_alta'].value_counts()\n",
    "type_delays = (df_merge.groupby(['TIPOVUELO'])['atraso_15'].sum()*100/df_merge['TIPOVUELO'].count()).sort_values(ascending=False)"
   ]
  },
  {
   "cell_type": "markdown",
   "metadata": {},
   "source": [
    "### Por destino"
   ]
  },
  {
   "cell_type": "code",
   "execution_count": 197,
   "metadata": {},
   "outputs": [
    {
     "data": {
      "image/png": "[encoded data removed]",
      "text/plain": [
       "<Figure size 1200x500 with 1 Axes>"
      ]
     },
     "metadata": {},
     "output_type": "display_data"
    }
   ],
   "source": [
    "plt.figure(figsize = (12,5))\n",
    "sns.barplot(x=destination_delays.index, y=destination_delays.values)\n",
    "plt.title('Tasa de atrasos por destino')\n",
    "plt.ylabel('Tasa de atrasos', fontsize=10)\n",
    "plt.xlabel('Destino', fontsize=10)\n",
    "plt.xticks(rotation=90)\n",
    "plt.show()"
   ]
  },
  {
   "cell_type": "markdown",
   "metadata": {},
   "source": [
    "Las tres ciudades con mayor numero vuelos, presentan las mayores tasas de atrasos. Pero, a partir de la cuarta ciudad hay cosas interesantes, São Paulo es la octava ciudad con mas destinos, pero tiene la cuarta tasa de atrasos. Podría decirse que hay una fuerte influencia del destino sobre los atrasos."
   ]
  },
  {
   "cell_type": "markdown",
   "metadata": {},
   "source": [
    "### Por aerolinea"
   ]
  },
  {
   "cell_type": "code",
   "execution_count": 199,
   "metadata": {},
   "outputs": [
    {
     "data": {
      "image/png": "[encoded data removed]",
      "text/plain": [
       "<Figure size 1200x500 with 1 Axes>"
      ]
     },
     "metadata": {},
     "output_type": "display_data"
    }
   ],
   "source": [
    "plt.figure(figsize = (12,5))\n",
    "sns.barplot(x=airline_delays.index, y=airline_delays.values)\n",
    "plt.title('Tasa de atrasos por aerolineas')\n",
    "plt.ylabel('Tasa de atrasos', fontsize=10)\n",
    "plt.xlabel('Aerolineas', fontsize=10)\n",
    "plt.xticks(rotation=90)\n",
    "plt.show()"
   ]
  },
  {
   "cell_type": "markdown",
   "metadata": {},
   "source": [
    "Las aerolineas con más vuelos y las que presentan mayor tasa de atrasos, no presentan mucha diferencia. Resalto, solamente los valores de Copa Air que es la cuarta aerolinea con mayor cantidad de vuelos, pero solo novena en tasa de atrasos, indicando que esta aerolinea tiene pocos atrasos."
   ]
  },
  {
   "cell_type": "markdown",
   "metadata": {},
   "source": [
    "### Por mes del año"
   ]
  },
  {
   "cell_type": "code",
   "execution_count": 201,
   "metadata": {},
   "outputs": [
    {
     "data": {
      "image/png": "[encoded data removed]",
      "text/plain": [
       "<Figure size 1200x500 with 1 Axes>"
      ]
     },
     "metadata": {},
     "output_type": "display_data"
    }
   ],
   "source": [
    "plt.figure(figsize = (12,5))\n",
    "sns.barplot(x=month_delays.index, y=month_delays.values)\n",
    "plt.title('Tasa de atrasos por mes del año')\n",
    "plt.ylabel('Tasa de atrasos', fontsize=10)\n",
    "plt.xlabel('Mes', fontsize=10)\n",
    "plt.xticks(rotation=0)\n",
    "plt.show()"
   ]
  },
  {
   "cell_type": "markdown",
   "metadata": {},
   "source": [
    "La distribución de la tasa de atrasos por meses del año es interesante. Los meses con mayor numero de vuelos fueron julio y dicimbre, pero se ve como la tasa de atrasos entre julio y diciembre es muy diferente. Podría suponer que la preparación y cantidad de personal de aerolineas, aeropuerto y otros podría ser mayor en dicimebre que en julio. Pero, definitivamente es una variable importante para el modelo. "
   ]
  },
  {
   "cell_type": "markdown",
   "metadata": {},
   "source": [
    "### Por dia de la semana"
   ]
  },
  {
   "cell_type": "code",
   "execution_count": 215,
   "metadata": {},
   "outputs": [
    {
     "data": {
      "image/png": "[encoded data removed]",
      "text/plain": [
       "<Figure size 1200x500 with 1 Axes>"
      ]
     },
     "metadata": {},
     "output_type": "display_data"
    }
   ],
   "source": [
    "plt.figure(figsize = (12,5))\n",
    "sns.barplot(x=days_delays, y=values_days_delays)\n",
    "plt.title('Tasa de atrasos por dia de la semana')\n",
    "plt.ylabel('Tasa de atrasos', fontsize=10)\n",
    "plt.xlabel('Dia de la semana', fontsize=10)\n",
    "plt.xticks(rotation=0)\n",
    "plt.show()"
   ]
  },
  {
   "cell_type": "code",
   "execution_count": 216,
   "metadata": {},
   "outputs": [
    {
     "data": {
      "text/plain": [
       "0.41545667447306794"
      ]
     },
     "execution_count": 216,
     "metadata": {},
     "output_type": "execute_result"
    }
   ],
   "source": [
    "# Disminución de vuelos entre el viernes y el sabado\n",
    "(values_days_delays[4]-values_days_delays[5])/values_days_delays[4]"
   ]
  },
  {
   "cell_type": "markdown",
   "metadata": {},
   "source": [
    "En general, el comportamiento de vuelos y tasa de atraso por dia de la semana es bastante similar. Llama la atención que la disminución de vuelos de viernes a sabado (18%) es menor que la disminucion de la tasa de atrasos (41%), es decir, a pesar que el sabado hay 18% menos vuelos que el viernes, la tasa de atrasos es 41% menor. Los atrasos son mucho menos los dias sabados."
   ]
  },
  {
   "cell_type": "markdown",
   "metadata": {},
   "source": [
    "### Por temporada"
   ]
  },
  {
   "cell_type": "markdown",
   "metadata": {},
   "source": [
    "#### Primero vuelos por temporada"
   ]
  },
  {
   "cell_type": "code",
   "execution_count": 221,
   "metadata": {},
   "outputs": [
    {
     "data": {
      "image/png": "[encoded data removed]",
      "text/plain": [
       "<Figure size 1200x500 with 1 Axes>"
      ]
     },
     "metadata": {},
     "output_type": "display_data"
    }
   ],
   "source": [
    "plt.figure(figsize = (12,5))\n",
    "sns.barplot(x=season_values.index, y=season_values.values)\n",
    "plt.title('Numero de vuelos por temporada')\n",
    "plt.ylabel('Numero de vuelos', fontsize=10)\n",
    "plt.xlabel('Temporada', fontsize=10)\n",
    "plt.xticks(rotation=0)\n",
    "plt.show()"
   ]
  },
  {
   "cell_type": "code",
   "execution_count": 223,
   "metadata": {},
   "outputs": [
    {
     "data": {
      "text/plain": [
       "0.10859918971534806"
      ]
     },
     "execution_count": 223,
     "metadata": {},
     "output_type": "execute_result"
    }
   ],
   "source": [
    "season_values[1]/season_values[0]"
   ]
  },
  {
   "cell_type": "markdown",
   "metadata": {},
   "source": [
    "#### Tasa de atraso por temporada"
   ]
  },
  {
   "cell_type": "code",
   "execution_count": 218,
   "metadata": {},
   "outputs": [
    {
     "data": {
      "image/png": "[encoded data removed]",
      "text/plain": [
       "<Figure size 1200x500 with 1 Axes>"
      ]
     },
     "metadata": {},
     "output_type": "display_data"
    }
   ],
   "source": [
    "plt.figure(figsize = (12,5))\n",
    "sns.barplot(x=season_delays.index, y=season_delays.values)\n",
    "plt.title('Tasa de atrasos por temporada')\n",
    "plt.ylabel('Tasa de atrasos', fontsize=10)\n",
    "plt.xlabel('Temporada', fontsize=10)\n",
    "plt.xticks(rotation=0)\n",
    "plt.show()"
   ]
  },
  {
   "cell_type": "code",
   "execution_count": 224,
   "metadata": {},
   "outputs": [
    {
     "data": {
      "text/plain": [
       "0.13988731299786283"
      ]
     },
     "execution_count": 224,
     "metadata": {},
     "output_type": "execute_result"
    }
   ],
   "source": [
    "season_delays[1]/season_delays[0]"
   ]
  },
  {
   "cell_type": "markdown",
   "metadata": {},
   "source": [
    "El numero de vuelos en temporada alta (1) es el 10% de los vuelos de temporada baja (0). Ahora bien, la tasa de atraso en temporada alta es el 13% de la tasa en temporada baja, un resultado similar e indicaria que esta variable no es tan relevante como se pensaria."
   ]
  },
  {
   "cell_type": "markdown",
   "metadata": {},
   "source": [
    "### Por tipo de vuelo"
   ]
  },
  {
   "cell_type": "code",
   "execution_count": 227,
   "metadata": {},
   "outputs": [
    {
     "data": {
      "image/png": "[encoded data removed]",
      "text/plain": [
       "<Figure size 1200x500 with 1 Axes>"
      ]
     },
     "metadata": {},
     "output_type": "display_data"
    }
   ],
   "source": [
    "plt.figure(figsize = (12,5))\n",
    "sns.barplot(x=type_delays.index, y=type_delays.values)\n",
    "plt.title('Tasa de atrasos por tipo de vuelo')\n",
    "plt.ylabel('Tasa de atrasos', fontsize=10)\n",
    "plt.xlabel('Tipo de vuelo', fontsize=10)\n",
    "plt.xticks(rotation=0)\n",
    "plt.show()"
   ]
  },
  {
   "cell_type": "code",
   "execution_count": 228,
   "metadata": {},
   "outputs": [
    {
     "name": "stdout",
     "output_type": "stream",
     "text": [
      "0.5320436338844384\n",
      "0.46795636611556163\n"
     ]
    }
   ],
   "source": [
    "# Distribución porcentual entre los tipos de vuelos por tasa de atraso\n",
    "print(type_delays[0]/type_delays.sum())\n",
    "print(type_delays[1]/type_delays.sum())"
   ]
  },
  {
   "cell_type": "markdown",
   "metadata": {},
   "source": [
    "La distribucion de numero de vuelos y tasa de atraso por tipo de vuelo es bastante similar. Esto indicaria que esta variable no seria muy relevante para los modelos."
   ]
  },
  {
   "cell_type": "markdown",
   "metadata": {},
   "source": [
    "## ¿Qué variables esperarías que más influyeran en predecir atrasos?"
   ]
  },
  {
   "cell_type": "markdown",
   "metadata": {},
   "source": [
    "Según el analisis previo, espero que las variables de destino, aerolinea, mes y dia de la semana fuera los que mas influyeran en predecir atrasos. \n",
    "\n",
    "Del mismo modo, con los analisis previos de los datos, también espero que las variables cambio_Emp, cambio_Vlo y precipitacao_mm sean bastante relevantes para predecir atrasos."
   ]
  },
  {
   "cell_type": "markdown",
   "metadata": {},
   "source": [
    "# PUNTO 4\n",
    "## Entrena uno o varios modelos (usando el/los algoritmo(s) que prefieras) para estimar la probabilidad de atraso de un vuelo.\n",
    "Siéntete libre de generar variables adicionales y/o complementar con variables externas."
   ]
  },
  {
   "cell_type": "markdown",
   "metadata": {},
   "source": [
    "## Comentarios\n",
    "* Las variables adicionales y variables externas ya fueron incluidas en los datos.\n",
    "* Los siguientes serán los features para los modelos:\n",
    "['MES', 'DIANOM', 'TIPOVUELO', 'OPERA', 'SIGLADES', 'temporada_alta', 'periodo_dia', 'cambio_Emp', 'cambio_Vlo', 'precipitacao_mm']\n",
    "* El target será la columna ['atraso_15']\n",
    "* Para predecir el atraso se hará uso de modelos clasificatorios de ML supervisados, especificamente aquellos que tienen buen comportamiento en clasificación binaria.\n",
    "    1. Al tratarse de modelos de clasificacion y usando variables categoricas, se hara un proceso de *Encoding* para pasarlas a vairables numericas.\n",
    "    2. "
   ]
  },
  {
   "cell_type": "markdown",
   "metadata": {},
   "source": [
    "## Encoding\n"
   ]
  },
  {
   "cell_type": "code",
   "execution_count": null,
   "metadata": {},
   "outputs": [],
   "source": []
  },
  {
   "cell_type": "code",
   "execution_count": null,
   "metadata": {},
   "outputs": [],
   "source": []
  },
  {
   "cell_type": "code",
   "execution_count": null,
   "metadata": {},
   "outputs": [],
   "source": []
  },
  {
   "cell_type": "code",
   "execution_count": null,
   "metadata": {},
   "outputs": [
    {
     "ename": "",
     "evalue": "",
     "output_type": "error",
     "traceback": [
      "\u001b[1;31mnotebook controller is DISPOSED. \n",
      "\u001b[1;31mView Jupyter <a href='command:jupyter.viewOutput'>log</a> for further details."
     ]
    }
   ],
   "source": [
    "# Adversarial Validation\n",
    "# roc_auc_score\n",
    "\n",
    "\n"
   ]
  },
  {
   "cell_type": "code",
   "execution_count": null,
   "metadata": {},
   "outputs": [
    {
     "ename": "",
     "evalue": "",
     "output_type": "error",
     "traceback": [
      "\u001b[1;31mnotebook controller is DISPOSED. \n",
      "\u001b[1;31mView Jupyter <a href='command:jupyter.viewOutput'>log</a> for further details."
     ]
    }
   ],
   "source": []
  },
  {
   "cell_type": "code",
   "execution_count": null,
   "metadata": {},
   "outputs": [
    {
     "ename": "",
     "evalue": "",
     "output_type": "error",
     "traceback": [
      "\u001b[1;31mnotebook controller is DISPOSED. \n",
      "\u001b[1;31mView Jupyter <a href='command:jupyter.viewOutput'>log</a> for further details."
     ]
    }
   ],
   "source": []
  },
  {
   "cell_type": "code",
   "execution_count": null,
   "metadata": {},
   "outputs": [
    {
     "ename": "",
     "evalue": "",
     "output_type": "error",
     "traceback": [
      "\u001b[1;31mnotebook controller is DISPOSED. \n",
      "\u001b[1;31mView Jupyter <a href='command:jupyter.viewOutput'>log</a> for further details."
     ]
    }
   ],
   "source": []
  },
  {
   "cell_type": "code",
   "execution_count": null,
   "metadata": {},
   "outputs": [
    {
     "ename": "",
     "evalue": "",
     "output_type": "error",
     "traceback": [
      "\u001b[1;31mnotebook controller is DISPOSED. \n",
      "\u001b[1;31mView Jupyter <a href='command:jupyter.viewOutput'>log</a> for further details."
     ]
    }
   ],
   "source": []
  },
  {
   "cell_type": "code",
   "execution_count": 184,
   "metadata": {},
   "outputs": [],
   "source": [
    "df_merge.to_pickle('df_9.pkl')"
   ]
  },
  {
   "cell_type": "markdown",
   "metadata": {},
   "source": [
    "SI HAY TIEMPO REENTRENAR CON TODOS LOS DATOS.\n",
    "\n",
    "Interesante los vuelos que salieron antes de tiempo"
   ]
  }
 ],
 "metadata": {
  "kernelspec": {
   "display_name": "Python 3.10.6 ('venv-miguel')",
   "language": "python",
   "name": "python3"
  },
  "language_info": {
   "codemirror_mode": {
    "name": "ipython",
    "version": 3
   },
   "file_extension": ".py",
   "mimetype": "text/x-python",
   "name": "python",
   "nbconvert_exporter": "python",
   "pygments_lexer": "ipython3",
   "version": "3.10.6"
  },
  "orig_nbformat": 4,
  "vscode": {
   "interpreter": {
    "hash": "114ad33c5c922534472adb42e1337b209e0527f692d0689c9bab1e25ac076e47"
   }
  }
 },
 "nbformat": 4,
 "nbformat_minor": 2
}
